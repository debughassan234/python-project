{
 "cells": [
  {
   "cell_type": "code",
   "execution_count": 1,
   "metadata": {},
   "outputs": [],
   "source": [
    "import pandas as pd\n",
    "import numpy as np\n",
    "import matplotlib.pyplot as plt\n",
    "import seaborn as sns "
   ]
  },
  {
   "cell_type": "code",
   "execution_count": 2,
   "metadata": {},
   "outputs": [],
   "source": [
    "data = pd.read_csv(\"aircrahesFullDataUpdated_2024.csv\")"
   ]
  },
  {
   "cell_type": "code",
   "execution_count": 140,
   "metadata": {},
   "outputs": [],
   "source": [
    "# deleting redundnat columns\n",
    "# renaming columns \n",
    "#dropping duplicates\n",
    "#remove NAN\n",
    "#chec for somme more transformation\n",
    "\n"
   ]
  },
  {
   "cell_type": "code",
   "execution_count": 3,
   "metadata": {},
   "outputs": [
    {
     "name": "stdout",
     "output_type": "stream",
     "text": [
      "<class 'pandas.core.frame.DataFrame'>\n",
      "RangeIndex: 5035 entries, 0 to 5034\n",
      "Data columns (total 12 columns):\n",
      " #   Column                 Non-Null Count  Dtype \n",
      "---  ------                 --------------  ----- \n",
      " 0   Year                   5035 non-null   int64 \n",
      " 1   Quarter                5035 non-null   object\n",
      " 2   Month                  5035 non-null   object\n",
      " 3   Day                    5035 non-null   int64 \n",
      " 4   Country/Region         4805 non-null   object\n",
      " 5   Aircraft Manufacturer  5035 non-null   object\n",
      " 6   Aircraft               5035 non-null   object\n",
      " 7   Location               5035 non-null   object\n",
      " 8   Operator               4801 non-null   object\n",
      " 9   Ground                 5035 non-null   int64 \n",
      " 10  Fatalities (air)       5035 non-null   int64 \n",
      " 11  Aboard                 5035 non-null   int64 \n",
      "dtypes: int64(5), object(7)\n",
      "memory usage: 472.2+ KB\n"
     ]
    }
   ],
   "source": [
    "data.info()"
   ]
  },
  {
   "cell_type": "code",
   "execution_count": 4,
   "metadata": {},
   "outputs": [
    {
     "data": {
      "text/plain": [
       "(5035, 12)"
      ]
     },
     "execution_count": 4,
     "metadata": {},
     "output_type": "execute_result"
    }
   ],
   "source": [
    "data.shape"
   ]
  },
  {
   "cell_type": "code",
   "execution_count": 5,
   "metadata": {},
   "outputs": [
    {
     "data": {
      "text/plain": [
       "Index(['Year', 'Quarter', 'Month', 'Day', 'Country/Region',\n",
       "       'Aircraft Manufacturer', 'Aircraft', 'Location', 'Operator', 'Ground',\n",
       "       'Fatalities (air)', 'Aboard'],\n",
       "      dtype='object')"
      ]
     },
     "execution_count": 5,
     "metadata": {},
     "output_type": "execute_result"
    }
   ],
   "source": [
    "data.columns"
   ]
  },
  {
   "cell_type": "code",
   "execution_count": 6,
   "metadata": {},
   "outputs": [
    {
     "data": {
      "text/plain": [
       "False    5035\n",
       "Name: count, dtype: int64"
      ]
     },
     "execution_count": 6,
     "metadata": {},
     "output_type": "execute_result"
    }
   ],
   "source": [
    "data.duplicated().value_counts()"
   ]
  },
  {
   "cell_type": "code",
   "execution_count": 7,
   "metadata": {},
   "outputs": [
    {
     "data": {
      "text/html": [
       "<div>\n",
       "<style scoped>\n",
       "    .dataframe tbody tr th:only-of-type {\n",
       "        vertical-align: middle;\n",
       "    }\n",
       "\n",
       "    .dataframe tbody tr th {\n",
       "        vertical-align: top;\n",
       "    }\n",
       "\n",
       "    .dataframe thead th {\n",
       "        text-align: right;\n",
       "    }\n",
       "</style>\n",
       "<table border=\"1\" class=\"dataframe\">\n",
       "  <thead>\n",
       "    <tr style=\"text-align: right;\">\n",
       "      <th></th>\n",
       "      <th>Year</th>\n",
       "      <th>Quarter</th>\n",
       "      <th>Month</th>\n",
       "      <th>Day</th>\n",
       "      <th>Country/Region</th>\n",
       "      <th>Aircraft Manufacturer</th>\n",
       "      <th>Aircraft</th>\n",
       "      <th>Location</th>\n",
       "      <th>Operator</th>\n",
       "      <th>Ground</th>\n",
       "      <th>Fatalities (air)</th>\n",
       "      <th>Aboard</th>\n",
       "    </tr>\n",
       "  </thead>\n",
       "  <tbody>\n",
       "    <tr>\n",
       "      <th>0</th>\n",
       "      <td>False</td>\n",
       "      <td>False</td>\n",
       "      <td>False</td>\n",
       "      <td>False</td>\n",
       "      <td>True</td>\n",
       "      <td>False</td>\n",
       "      <td>False</td>\n",
       "      <td>False</td>\n",
       "      <td>False</td>\n",
       "      <td>False</td>\n",
       "      <td>False</td>\n",
       "      <td>False</td>\n",
       "    </tr>\n",
       "    <tr>\n",
       "      <th>1</th>\n",
       "      <td>False</td>\n",
       "      <td>False</td>\n",
       "      <td>False</td>\n",
       "      <td>False</td>\n",
       "      <td>True</td>\n",
       "      <td>False</td>\n",
       "      <td>False</td>\n",
       "      <td>False</td>\n",
       "      <td>False</td>\n",
       "      <td>False</td>\n",
       "      <td>False</td>\n",
       "      <td>False</td>\n",
       "    </tr>\n",
       "    <tr>\n",
       "      <th>2</th>\n",
       "      <td>False</td>\n",
       "      <td>False</td>\n",
       "      <td>False</td>\n",
       "      <td>False</td>\n",
       "      <td>True</td>\n",
       "      <td>False</td>\n",
       "      <td>False</td>\n",
       "      <td>False</td>\n",
       "      <td>False</td>\n",
       "      <td>False</td>\n",
       "      <td>False</td>\n",
       "      <td>False</td>\n",
       "    </tr>\n",
       "    <tr>\n",
       "      <th>3</th>\n",
       "      <td>False</td>\n",
       "      <td>False</td>\n",
       "      <td>False</td>\n",
       "      <td>False</td>\n",
       "      <td>False</td>\n",
       "      <td>False</td>\n",
       "      <td>False</td>\n",
       "      <td>False</td>\n",
       "      <td>False</td>\n",
       "      <td>False</td>\n",
       "      <td>False</td>\n",
       "      <td>False</td>\n",
       "    </tr>\n",
       "    <tr>\n",
       "      <th>4</th>\n",
       "      <td>False</td>\n",
       "      <td>False</td>\n",
       "      <td>False</td>\n",
       "      <td>False</td>\n",
       "      <td>False</td>\n",
       "      <td>False</td>\n",
       "      <td>False</td>\n",
       "      <td>False</td>\n",
       "      <td>False</td>\n",
       "      <td>False</td>\n",
       "      <td>False</td>\n",
       "      <td>False</td>\n",
       "    </tr>\n",
       "    <tr>\n",
       "      <th>...</th>\n",
       "      <td>...</td>\n",
       "      <td>...</td>\n",
       "      <td>...</td>\n",
       "      <td>...</td>\n",
       "      <td>...</td>\n",
       "      <td>...</td>\n",
       "      <td>...</td>\n",
       "      <td>...</td>\n",
       "      <td>...</td>\n",
       "      <td>...</td>\n",
       "      <td>...</td>\n",
       "      <td>...</td>\n",
       "    </tr>\n",
       "    <tr>\n",
       "      <th>5030</th>\n",
       "      <td>False</td>\n",
       "      <td>False</td>\n",
       "      <td>False</td>\n",
       "      <td>False</td>\n",
       "      <td>False</td>\n",
       "      <td>False</td>\n",
       "      <td>False</td>\n",
       "      <td>False</td>\n",
       "      <td>False</td>\n",
       "      <td>False</td>\n",
       "      <td>False</td>\n",
       "      <td>False</td>\n",
       "    </tr>\n",
       "    <tr>\n",
       "      <th>5031</th>\n",
       "      <td>False</td>\n",
       "      <td>False</td>\n",
       "      <td>False</td>\n",
       "      <td>False</td>\n",
       "      <td>False</td>\n",
       "      <td>False</td>\n",
       "      <td>False</td>\n",
       "      <td>False</td>\n",
       "      <td>False</td>\n",
       "      <td>False</td>\n",
       "      <td>False</td>\n",
       "      <td>False</td>\n",
       "    </tr>\n",
       "    <tr>\n",
       "      <th>5032</th>\n",
       "      <td>False</td>\n",
       "      <td>False</td>\n",
       "      <td>False</td>\n",
       "      <td>False</td>\n",
       "      <td>False</td>\n",
       "      <td>False</td>\n",
       "      <td>False</td>\n",
       "      <td>False</td>\n",
       "      <td>False</td>\n",
       "      <td>False</td>\n",
       "      <td>False</td>\n",
       "      <td>False</td>\n",
       "    </tr>\n",
       "    <tr>\n",
       "      <th>5033</th>\n",
       "      <td>False</td>\n",
       "      <td>False</td>\n",
       "      <td>False</td>\n",
       "      <td>False</td>\n",
       "      <td>False</td>\n",
       "      <td>False</td>\n",
       "      <td>False</td>\n",
       "      <td>False</td>\n",
       "      <td>False</td>\n",
       "      <td>False</td>\n",
       "      <td>False</td>\n",
       "      <td>False</td>\n",
       "    </tr>\n",
       "    <tr>\n",
       "      <th>5034</th>\n",
       "      <td>False</td>\n",
       "      <td>False</td>\n",
       "      <td>False</td>\n",
       "      <td>False</td>\n",
       "      <td>False</td>\n",
       "      <td>False</td>\n",
       "      <td>False</td>\n",
       "      <td>False</td>\n",
       "      <td>False</td>\n",
       "      <td>False</td>\n",
       "      <td>False</td>\n",
       "      <td>False</td>\n",
       "    </tr>\n",
       "  </tbody>\n",
       "</table>\n",
       "<p>5035 rows × 12 columns</p>\n",
       "</div>"
      ],
      "text/plain": [
       "       Year  Quarter  Month    Day  Country/Region  Aircraft Manufacturer  \\\n",
       "0     False    False  False  False            True                  False   \n",
       "1     False    False  False  False            True                  False   \n",
       "2     False    False  False  False            True                  False   \n",
       "3     False    False  False  False           False                  False   \n",
       "4     False    False  False  False           False                  False   \n",
       "...     ...      ...    ...    ...             ...                    ...   \n",
       "5030  False    False  False  False           False                  False   \n",
       "5031  False    False  False  False           False                  False   \n",
       "5032  False    False  False  False           False                  False   \n",
       "5033  False    False  False  False           False                  False   \n",
       "5034  False    False  False  False           False                  False   \n",
       "\n",
       "      Aircraft  Location  Operator  Ground  Fatalities (air)  Aboard  \n",
       "0        False     False     False   False             False   False  \n",
       "1        False     False     False   False             False   False  \n",
       "2        False     False     False   False             False   False  \n",
       "3        False     False     False   False             False   False  \n",
       "4        False     False     False   False             False   False  \n",
       "...        ...       ...       ...     ...               ...     ...  \n",
       "5030     False     False     False   False             False   False  \n",
       "5031     False     False     False   False             False   False  \n",
       "5032     False     False     False   False             False   False  \n",
       "5033     False     False     False   False             False   False  \n",
       "5034     False     False     False   False             False   False  \n",
       "\n",
       "[5035 rows x 12 columns]"
      ]
     },
     "execution_count": 7,
     "metadata": {},
     "output_type": "execute_result"
    }
   ],
   "source": [
    "data.isna()"
   ]
  },
  {
   "cell_type": "code",
   "execution_count": 8,
   "metadata": {},
   "outputs": [
    {
     "data": {
      "text/plain": [
       "Year                       0\n",
       "Quarter                    0\n",
       "Month                      0\n",
       "Day                        0\n",
       "Country/Region           230\n",
       "Aircraft Manufacturer      0\n",
       "Aircraft                   0\n",
       "Location                   0\n",
       "Operator                 234\n",
       "Ground                     0\n",
       "Fatalities (air)           0\n",
       "Aboard                     0\n",
       "dtype: int64"
      ]
     },
     "execution_count": 8,
     "metadata": {},
     "output_type": "execute_result"
    }
   ],
   "source": [
    "# Handling the missing values for better analysis\n",
    "data.isna().sum()"
   ]
  },
  {
   "cell_type": "code",
   "execution_count": 9,
   "metadata": {},
   "outputs": [],
   "source": [
    "data.dropna(inplace = True)"
   ]
  },
  {
   "cell_type": "code",
   "execution_count": 10,
   "metadata": {},
   "outputs": [
    {
     "data": {
      "text/plain": [
       "Year                     0\n",
       "Quarter                  0\n",
       "Month                    0\n",
       "Day                      0\n",
       "Country/Region           0\n",
       "Aircraft Manufacturer    0\n",
       "Aircraft                 0\n",
       "Location                 0\n",
       "Operator                 0\n",
       "Ground                   0\n",
       "Fatalities (air)         0\n",
       "Aboard                   0\n",
       "dtype: int64"
      ]
     },
     "execution_count": 10,
     "metadata": {},
     "output_type": "execute_result"
    }
   ],
   "source": [
    "data.isna().sum()"
   ]
  },
  {
   "cell_type": "code",
   "execution_count": 11,
   "metadata": {},
   "outputs": [
    {
     "data": {
      "text/html": [
       "<div>\n",
       "<style scoped>\n",
       "    .dataframe tbody tr th:only-of-type {\n",
       "        vertical-align: middle;\n",
       "    }\n",
       "\n",
       "    .dataframe tbody tr th {\n",
       "        vertical-align: top;\n",
       "    }\n",
       "\n",
       "    .dataframe thead th {\n",
       "        text-align: right;\n",
       "    }\n",
       "</style>\n",
       "<table border=\"1\" class=\"dataframe\">\n",
       "  <thead>\n",
       "    <tr style=\"text-align: right;\">\n",
       "      <th></th>\n",
       "      <th>Year</th>\n",
       "      <th>Quarter</th>\n",
       "      <th>Month</th>\n",
       "      <th>Day</th>\n",
       "      <th>Country/Region</th>\n",
       "      <th>Aircraft Manufacturer</th>\n",
       "      <th>Aircraft</th>\n",
       "      <th>Location</th>\n",
       "      <th>Operator</th>\n",
       "      <th>Ground</th>\n",
       "      <th>Fatalities (air)</th>\n",
       "      <th>Aboard</th>\n",
       "    </tr>\n",
       "  </thead>\n",
       "  <tbody>\n",
       "    <tr>\n",
       "      <th>3</th>\n",
       "      <td>2000</td>\n",
       "      <td>Qtr 2</td>\n",
       "      <td>April</td>\n",
       "      <td>19</td>\n",
       "      <td>'-</td>\n",
       "      <td>Antonov</td>\n",
       "      <td>Antonov AN 8TL</td>\n",
       "      <td>Pepa  -</td>\n",
       "      <td>Airlines Centrafricain</td>\n",
       "      <td>0</td>\n",
       "      <td>24</td>\n",
       "      <td>24</td>\n",
       "    </tr>\n",
       "    <tr>\n",
       "      <th>4</th>\n",
       "      <td>1946</td>\n",
       "      <td>Qtr 2</td>\n",
       "      <td>April</td>\n",
       "      <td>30</td>\n",
       "      <td>'-</td>\n",
       "      <td>Douglas</td>\n",
       "      <td>Douglas C 47A FZ559</td>\n",
       "      <td>Pindi-Khut  -</td>\n",
       "      <td>Force Air Royal</td>\n",
       "      <td>0</td>\n",
       "      <td>12</td>\n",
       "      <td>12</td>\n",
       "    </tr>\n",
       "    <tr>\n",
       "      <th>5</th>\n",
       "      <td>1960</td>\n",
       "      <td>Qtr 2</td>\n",
       "      <td>April</td>\n",
       "      <td>14</td>\n",
       "      <td>'-</td>\n",
       "      <td>Douglas</td>\n",
       "      <td>Douglas DC 4?</td>\n",
       "      <td>Taipei -</td>\n",
       "      <td>Force Air Thai Royal</td>\n",
       "      <td>0</td>\n",
       "      <td>18</td>\n",
       "      <td>18</td>\n",
       "    </tr>\n",
       "    <tr>\n",
       "      <th>6</th>\n",
       "      <td>2024</td>\n",
       "      <td>Qtr 2</td>\n",
       "      <td>April</td>\n",
       "      <td>23</td>\n",
       "      <td>Alaska</td>\n",
       "      <td>Douglas</td>\n",
       "      <td>Douglas C-54D Skymaster N3054V</td>\n",
       "      <td>Near Fairbanks</td>\n",
       "      <td>Alaska Air Fuel</td>\n",
       "      <td>0</td>\n",
       "      <td>2</td>\n",
       "      <td>2</td>\n",
       "    </tr>\n",
       "    <tr>\n",
       "      <th>7</th>\n",
       "      <td>1958</td>\n",
       "      <td>Qtr 2</td>\n",
       "      <td>April</td>\n",
       "      <td>21</td>\n",
       "      <td>10</td>\n",
       "      <td>Douglas</td>\n",
       "      <td>Douglas DC 7 / F</td>\n",
       "      <td>Near Sloan 10</td>\n",
       "      <td>Nevada      Vegas Las of SW miles United Air L...</td>\n",
       "      <td>0</td>\n",
       "      <td>49</td>\n",
       "      <td>49</td>\n",
       "    </tr>\n",
       "    <tr>\n",
       "      <th>...</th>\n",
       "      <td>...</td>\n",
       "      <td>...</td>\n",
       "      <td>...</td>\n",
       "      <td>...</td>\n",
       "      <td>...</td>\n",
       "      <td>...</td>\n",
       "      <td>...</td>\n",
       "      <td>...</td>\n",
       "      <td>...</td>\n",
       "      <td>...</td>\n",
       "      <td>...</td>\n",
       "      <td>...</td>\n",
       "    </tr>\n",
       "    <tr>\n",
       "      <th>5030</th>\n",
       "      <td>1980</td>\n",
       "      <td>Qtr 3</td>\n",
       "      <td>September</td>\n",
       "      <td>17</td>\n",
       "      <td>Zaire</td>\n",
       "      <td>De Havilland</td>\n",
       "      <td>de Havilland DHC 5 Buffalo9T</td>\n",
       "      <td>Near Kindu Zaire</td>\n",
       "      <td>Force Air Zairean - Military</td>\n",
       "      <td>0</td>\n",
       "      <td>36</td>\n",
       "      <td>36</td>\n",
       "    </tr>\n",
       "    <tr>\n",
       "      <th>5031</th>\n",
       "      <td>1997</td>\n",
       "      <td>Qtr 3</td>\n",
       "      <td>September</td>\n",
       "      <td>12</td>\n",
       "      <td>Zaire</td>\n",
       "      <td>de Havilland Canada</td>\n",
       "      <td>de Havilland Canada DHC 6 Twin Otter 3009Q</td>\n",
       "      <td>Near Uvira Zaire</td>\n",
       "      <td>Commuter Air TMK</td>\n",
       "      <td>0</td>\n",
       "      <td>22</td>\n",
       "      <td>22</td>\n",
       "    </tr>\n",
       "    <tr>\n",
       "      <th>5032</th>\n",
       "      <td>1984</td>\n",
       "      <td>Qtr 3</td>\n",
       "      <td>September</td>\n",
       "      <td>11</td>\n",
       "      <td>Zaire</td>\n",
       "      <td>Handley Page Dart Herald</td>\n",
       "      <td>Handley Page Dart Herald 2029Q CAH</td>\n",
       "      <td>Near the Kwango River Zaire</td>\n",
       "      <td>Services Aero MMM</td>\n",
       "      <td>0</td>\n",
       "      <td>30</td>\n",
       "      <td>30</td>\n",
       "    </tr>\n",
       "    <tr>\n",
       "      <th>5033</th>\n",
       "      <td>1980</td>\n",
       "      <td>Qtr 3</td>\n",
       "      <td>September</td>\n",
       "      <td>14</td>\n",
       "      <td>Zaire</td>\n",
       "      <td>Lockheed Hercules</td>\n",
       "      <td>Lockheed Hercules C 1309T</td>\n",
       "      <td>Kindu Zaire</td>\n",
       "      <td>Zaïroise Aérienne Force - Military</td>\n",
       "      <td>0</td>\n",
       "      <td>36</td>\n",
       "      <td>36</td>\n",
       "    </tr>\n",
       "    <tr>\n",
       "      <th>5034</th>\n",
       "      <td>1961</td>\n",
       "      <td>Qtr 3</td>\n",
       "      <td>September</td>\n",
       "      <td>17</td>\n",
       "      <td>Zambia</td>\n",
       "      <td>Douglas</td>\n",
       "      <td>Douglas DC 6BSE</td>\n",
       "      <td>Ndola Zambia</td>\n",
       "      <td>Sweden Transair</td>\n",
       "      <td>0</td>\n",
       "      <td>16</td>\n",
       "      <td>16</td>\n",
       "    </tr>\n",
       "  </tbody>\n",
       "</table>\n",
       "<p>4758 rows × 12 columns</p>\n",
       "</div>"
      ],
      "text/plain": [
       "      Year Quarter      Month  Day Country/Region     Aircraft Manufacturer  \\\n",
       "3     2000   Qtr 2      April   19             '-                   Antonov   \n",
       "4     1946   Qtr 2      April   30             '-                   Douglas   \n",
       "5     1960   Qtr 2      April   14             '-                   Douglas   \n",
       "6     2024   Qtr 2      April   23         Alaska                   Douglas   \n",
       "7     1958   Qtr 2      April   21             10                   Douglas   \n",
       "...    ...     ...        ...  ...            ...                       ...   \n",
       "5030  1980   Qtr 3  September   17          Zaire              De Havilland   \n",
       "5031  1997   Qtr 3  September   12          Zaire       de Havilland Canada   \n",
       "5032  1984   Qtr 3  September   11          Zaire  Handley Page Dart Herald   \n",
       "5033  1980   Qtr 3  September   14          Zaire         Lockheed Hercules   \n",
       "5034  1961   Qtr 3  September   17         Zambia                   Douglas   \n",
       "\n",
       "                                        Aircraft                     Location  \\\n",
       "3                                 Antonov AN 8TL                      Pepa  -   \n",
       "4                            Douglas C 47A FZ559                Pindi-Khut  -   \n",
       "5                                  Douglas DC 4?                     Taipei -   \n",
       "6                 Douglas C-54D Skymaster N3054V               Near Fairbanks   \n",
       "7                               Douglas DC 7 / F                Near Sloan 10   \n",
       "...                                          ...                          ...   \n",
       "5030                de Havilland DHC 5 Buffalo9T             Near Kindu Zaire   \n",
       "5031  de Havilland Canada DHC 6 Twin Otter 3009Q             Near Uvira Zaire   \n",
       "5032          Handley Page Dart Herald 2029Q CAH  Near the Kwango River Zaire   \n",
       "5033                   Lockheed Hercules C 1309T                  Kindu Zaire   \n",
       "5034                             Douglas DC 6BSE                 Ndola Zambia   \n",
       "\n",
       "                                               Operator  Ground  \\\n",
       "3                                Airlines Centrafricain       0   \n",
       "4                                       Force Air Royal       0   \n",
       "5                                  Force Air Thai Royal       0   \n",
       "6                                       Alaska Air Fuel       0   \n",
       "7     Nevada      Vegas Las of SW miles United Air L...       0   \n",
       "...                                                 ...     ...   \n",
       "5030                       Force Air Zairean - Military       0   \n",
       "5031                                   Commuter Air TMK       0   \n",
       "5032                                  Services Aero MMM       0   \n",
       "5033                 Zaïroise Aérienne Force - Military       0   \n",
       "5034                                    Sweden Transair       0   \n",
       "\n",
       "      Fatalities (air)  Aboard  \n",
       "3                   24      24  \n",
       "4                   12      12  \n",
       "5                   18      18  \n",
       "6                    2       2  \n",
       "7                   49      49  \n",
       "...                ...     ...  \n",
       "5030                36      36  \n",
       "5031                22      22  \n",
       "5032                30      30  \n",
       "5033                36      36  \n",
       "5034                16      16  \n",
       "\n",
       "[4758 rows x 12 columns]"
      ]
     },
     "execution_count": 11,
     "metadata": {},
     "output_type": "execute_result"
    }
   ],
   "source": [
    "data"
   ]
  },
  {
   "cell_type": "code",
   "execution_count": 12,
   "metadata": {},
   "outputs": [],
   "source": [
    "data[\"Aircraft Manufacturer\"] = data[\"Aircraft Manufacturer\"].apply(lambda x : x.capitalize())"
   ]
  },
  {
   "cell_type": "code",
   "execution_count": 13,
   "metadata": {},
   "outputs": [
    {
     "data": {
      "text/html": [
       "<div>\n",
       "<style scoped>\n",
       "    .dataframe tbody tr th:only-of-type {\n",
       "        vertical-align: middle;\n",
       "    }\n",
       "\n",
       "    .dataframe tbody tr th {\n",
       "        vertical-align: top;\n",
       "    }\n",
       "\n",
       "    .dataframe thead th {\n",
       "        text-align: right;\n",
       "    }\n",
       "</style>\n",
       "<table border=\"1\" class=\"dataframe\">\n",
       "  <thead>\n",
       "    <tr style=\"text-align: right;\">\n",
       "      <th></th>\n",
       "      <th>Year</th>\n",
       "      <th>Quarter</th>\n",
       "      <th>Month</th>\n",
       "      <th>Day</th>\n",
       "      <th>Country/Region</th>\n",
       "      <th>Aircraft Manufacturer</th>\n",
       "      <th>Aircraft</th>\n",
       "      <th>Location</th>\n",
       "      <th>Operator</th>\n",
       "      <th>Ground</th>\n",
       "      <th>Fatalities (air)</th>\n",
       "      <th>Aboard</th>\n",
       "    </tr>\n",
       "  </thead>\n",
       "  <tbody>\n",
       "    <tr>\n",
       "      <th>3</th>\n",
       "      <td>2000</td>\n",
       "      <td>Qtr 2</td>\n",
       "      <td>April</td>\n",
       "      <td>19</td>\n",
       "      <td>'-</td>\n",
       "      <td>Antonov</td>\n",
       "      <td>Antonov AN 8TL</td>\n",
       "      <td>Pepa  -</td>\n",
       "      <td>Airlines Centrafricain</td>\n",
       "      <td>0</td>\n",
       "      <td>24</td>\n",
       "      <td>24</td>\n",
       "    </tr>\n",
       "    <tr>\n",
       "      <th>4</th>\n",
       "      <td>1946</td>\n",
       "      <td>Qtr 2</td>\n",
       "      <td>April</td>\n",
       "      <td>30</td>\n",
       "      <td>'-</td>\n",
       "      <td>Douglas</td>\n",
       "      <td>Douglas C 47A FZ559</td>\n",
       "      <td>Pindi-Khut  -</td>\n",
       "      <td>Force Air Royal</td>\n",
       "      <td>0</td>\n",
       "      <td>12</td>\n",
       "      <td>12</td>\n",
       "    </tr>\n",
       "    <tr>\n",
       "      <th>5</th>\n",
       "      <td>1960</td>\n",
       "      <td>Qtr 2</td>\n",
       "      <td>April</td>\n",
       "      <td>14</td>\n",
       "      <td>'-</td>\n",
       "      <td>Douglas</td>\n",
       "      <td>Douglas DC 4?</td>\n",
       "      <td>Taipei -</td>\n",
       "      <td>Force Air Thai Royal</td>\n",
       "      <td>0</td>\n",
       "      <td>18</td>\n",
       "      <td>18</td>\n",
       "    </tr>\n",
       "    <tr>\n",
       "      <th>6</th>\n",
       "      <td>2024</td>\n",
       "      <td>Qtr 2</td>\n",
       "      <td>April</td>\n",
       "      <td>23</td>\n",
       "      <td>Alaska</td>\n",
       "      <td>Douglas</td>\n",
       "      <td>Douglas C-54D Skymaster N3054V</td>\n",
       "      <td>Near Fairbanks</td>\n",
       "      <td>Alaska Air Fuel</td>\n",
       "      <td>0</td>\n",
       "      <td>2</td>\n",
       "      <td>2</td>\n",
       "    </tr>\n",
       "    <tr>\n",
       "      <th>7</th>\n",
       "      <td>1958</td>\n",
       "      <td>Qtr 2</td>\n",
       "      <td>April</td>\n",
       "      <td>21</td>\n",
       "      <td>10</td>\n",
       "      <td>Douglas</td>\n",
       "      <td>Douglas DC 7 / F</td>\n",
       "      <td>Near Sloan 10</td>\n",
       "      <td>Nevada      Vegas Las of SW miles United Air L...</td>\n",
       "      <td>0</td>\n",
       "      <td>49</td>\n",
       "      <td>49</td>\n",
       "    </tr>\n",
       "    <tr>\n",
       "      <th>...</th>\n",
       "      <td>...</td>\n",
       "      <td>...</td>\n",
       "      <td>...</td>\n",
       "      <td>...</td>\n",
       "      <td>...</td>\n",
       "      <td>...</td>\n",
       "      <td>...</td>\n",
       "      <td>...</td>\n",
       "      <td>...</td>\n",
       "      <td>...</td>\n",
       "      <td>...</td>\n",
       "      <td>...</td>\n",
       "    </tr>\n",
       "    <tr>\n",
       "      <th>5030</th>\n",
       "      <td>1980</td>\n",
       "      <td>Qtr 3</td>\n",
       "      <td>September</td>\n",
       "      <td>17</td>\n",
       "      <td>Zaire</td>\n",
       "      <td>De havilland</td>\n",
       "      <td>de Havilland DHC 5 Buffalo9T</td>\n",
       "      <td>Near Kindu Zaire</td>\n",
       "      <td>Force Air Zairean - Military</td>\n",
       "      <td>0</td>\n",
       "      <td>36</td>\n",
       "      <td>36</td>\n",
       "    </tr>\n",
       "    <tr>\n",
       "      <th>5031</th>\n",
       "      <td>1997</td>\n",
       "      <td>Qtr 3</td>\n",
       "      <td>September</td>\n",
       "      <td>12</td>\n",
       "      <td>Zaire</td>\n",
       "      <td>De havilland canada</td>\n",
       "      <td>de Havilland Canada DHC 6 Twin Otter 3009Q</td>\n",
       "      <td>Near Uvira Zaire</td>\n",
       "      <td>Commuter Air TMK</td>\n",
       "      <td>0</td>\n",
       "      <td>22</td>\n",
       "      <td>22</td>\n",
       "    </tr>\n",
       "    <tr>\n",
       "      <th>5032</th>\n",
       "      <td>1984</td>\n",
       "      <td>Qtr 3</td>\n",
       "      <td>September</td>\n",
       "      <td>11</td>\n",
       "      <td>Zaire</td>\n",
       "      <td>Handley page dart herald</td>\n",
       "      <td>Handley Page Dart Herald 2029Q CAH</td>\n",
       "      <td>Near the Kwango River Zaire</td>\n",
       "      <td>Services Aero MMM</td>\n",
       "      <td>0</td>\n",
       "      <td>30</td>\n",
       "      <td>30</td>\n",
       "    </tr>\n",
       "    <tr>\n",
       "      <th>5033</th>\n",
       "      <td>1980</td>\n",
       "      <td>Qtr 3</td>\n",
       "      <td>September</td>\n",
       "      <td>14</td>\n",
       "      <td>Zaire</td>\n",
       "      <td>Lockheed hercules</td>\n",
       "      <td>Lockheed Hercules C 1309T</td>\n",
       "      <td>Kindu Zaire</td>\n",
       "      <td>Zaïroise Aérienne Force - Military</td>\n",
       "      <td>0</td>\n",
       "      <td>36</td>\n",
       "      <td>36</td>\n",
       "    </tr>\n",
       "    <tr>\n",
       "      <th>5034</th>\n",
       "      <td>1961</td>\n",
       "      <td>Qtr 3</td>\n",
       "      <td>September</td>\n",
       "      <td>17</td>\n",
       "      <td>Zambia</td>\n",
       "      <td>Douglas</td>\n",
       "      <td>Douglas DC 6BSE</td>\n",
       "      <td>Ndola Zambia</td>\n",
       "      <td>Sweden Transair</td>\n",
       "      <td>0</td>\n",
       "      <td>16</td>\n",
       "      <td>16</td>\n",
       "    </tr>\n",
       "  </tbody>\n",
       "</table>\n",
       "<p>4758 rows × 12 columns</p>\n",
       "</div>"
      ],
      "text/plain": [
       "      Year Quarter      Month  Day Country/Region     Aircraft Manufacturer  \\\n",
       "3     2000   Qtr 2      April   19             '-                   Antonov   \n",
       "4     1946   Qtr 2      April   30             '-                   Douglas   \n",
       "5     1960   Qtr 2      April   14             '-                   Douglas   \n",
       "6     2024   Qtr 2      April   23         Alaska                   Douglas   \n",
       "7     1958   Qtr 2      April   21             10                   Douglas   \n",
       "...    ...     ...        ...  ...            ...                       ...   \n",
       "5030  1980   Qtr 3  September   17          Zaire              De havilland   \n",
       "5031  1997   Qtr 3  September   12          Zaire       De havilland canada   \n",
       "5032  1984   Qtr 3  September   11          Zaire  Handley page dart herald   \n",
       "5033  1980   Qtr 3  September   14          Zaire         Lockheed hercules   \n",
       "5034  1961   Qtr 3  September   17         Zambia                   Douglas   \n",
       "\n",
       "                                        Aircraft                     Location  \\\n",
       "3                                 Antonov AN 8TL                      Pepa  -   \n",
       "4                            Douglas C 47A FZ559                Pindi-Khut  -   \n",
       "5                                  Douglas DC 4?                     Taipei -   \n",
       "6                 Douglas C-54D Skymaster N3054V               Near Fairbanks   \n",
       "7                               Douglas DC 7 / F                Near Sloan 10   \n",
       "...                                          ...                          ...   \n",
       "5030                de Havilland DHC 5 Buffalo9T             Near Kindu Zaire   \n",
       "5031  de Havilland Canada DHC 6 Twin Otter 3009Q             Near Uvira Zaire   \n",
       "5032          Handley Page Dart Herald 2029Q CAH  Near the Kwango River Zaire   \n",
       "5033                   Lockheed Hercules C 1309T                  Kindu Zaire   \n",
       "5034                             Douglas DC 6BSE                 Ndola Zambia   \n",
       "\n",
       "                                               Operator  Ground  \\\n",
       "3                                Airlines Centrafricain       0   \n",
       "4                                       Force Air Royal       0   \n",
       "5                                  Force Air Thai Royal       0   \n",
       "6                                       Alaska Air Fuel       0   \n",
       "7     Nevada      Vegas Las of SW miles United Air L...       0   \n",
       "...                                                 ...     ...   \n",
       "5030                       Force Air Zairean - Military       0   \n",
       "5031                                   Commuter Air TMK       0   \n",
       "5032                                  Services Aero MMM       0   \n",
       "5033                 Zaïroise Aérienne Force - Military       0   \n",
       "5034                                    Sweden Transair       0   \n",
       "\n",
       "      Fatalities (air)  Aboard  \n",
       "3                   24      24  \n",
       "4                   12      12  \n",
       "5                   18      18  \n",
       "6                    2       2  \n",
       "7                   49      49  \n",
       "...                ...     ...  \n",
       "5030                36      36  \n",
       "5031                22      22  \n",
       "5032                30      30  \n",
       "5033                36      36  \n",
       "5034                16      16  \n",
       "\n",
       "[4758 rows x 12 columns]"
      ]
     },
     "execution_count": 13,
     "metadata": {},
     "output_type": "execute_result"
    }
   ],
   "source": [
    "data"
   ]
  },
  {
   "cell_type": "code",
   "execution_count": 14,
   "metadata": {},
   "outputs": [],
   "source": [
    "data[\"Aircraft\"] = data[\"Aircraft\"].apply(lambda x: x.capitalize())"
   ]
  },
  {
   "cell_type": "code",
   "execution_count": 15,
   "metadata": {},
   "outputs": [
    {
     "data": {
      "text/html": [
       "<div>\n",
       "<style scoped>\n",
       "    .dataframe tbody tr th:only-of-type {\n",
       "        vertical-align: middle;\n",
       "    }\n",
       "\n",
       "    .dataframe tbody tr th {\n",
       "        vertical-align: top;\n",
       "    }\n",
       "\n",
       "    .dataframe thead th {\n",
       "        text-align: right;\n",
       "    }\n",
       "</style>\n",
       "<table border=\"1\" class=\"dataframe\">\n",
       "  <thead>\n",
       "    <tr style=\"text-align: right;\">\n",
       "      <th></th>\n",
       "      <th>Year</th>\n",
       "      <th>Quarter</th>\n",
       "      <th>Month</th>\n",
       "      <th>Day</th>\n",
       "      <th>Country/Region</th>\n",
       "      <th>Aircraft Manufacturer</th>\n",
       "      <th>Aircraft</th>\n",
       "      <th>Location</th>\n",
       "      <th>Operator</th>\n",
       "      <th>Ground</th>\n",
       "      <th>Fatalities (air)</th>\n",
       "      <th>Aboard</th>\n",
       "    </tr>\n",
       "  </thead>\n",
       "  <tbody>\n",
       "    <tr>\n",
       "      <th>3</th>\n",
       "      <td>2000</td>\n",
       "      <td>Qtr 2</td>\n",
       "      <td>April</td>\n",
       "      <td>19</td>\n",
       "      <td>'-</td>\n",
       "      <td>Antonov</td>\n",
       "      <td>Antonov an 8tl</td>\n",
       "      <td>Pepa  -</td>\n",
       "      <td>Airlines Centrafricain</td>\n",
       "      <td>0</td>\n",
       "      <td>24</td>\n",
       "      <td>24</td>\n",
       "    </tr>\n",
       "    <tr>\n",
       "      <th>4</th>\n",
       "      <td>1946</td>\n",
       "      <td>Qtr 2</td>\n",
       "      <td>April</td>\n",
       "      <td>30</td>\n",
       "      <td>'-</td>\n",
       "      <td>Douglas</td>\n",
       "      <td>Douglas c 47a fz559</td>\n",
       "      <td>Pindi-Khut  -</td>\n",
       "      <td>Force Air Royal</td>\n",
       "      <td>0</td>\n",
       "      <td>12</td>\n",
       "      <td>12</td>\n",
       "    </tr>\n",
       "    <tr>\n",
       "      <th>5</th>\n",
       "      <td>1960</td>\n",
       "      <td>Qtr 2</td>\n",
       "      <td>April</td>\n",
       "      <td>14</td>\n",
       "      <td>'-</td>\n",
       "      <td>Douglas</td>\n",
       "      <td>Douglas dc 4?</td>\n",
       "      <td>Taipei -</td>\n",
       "      <td>Force Air Thai Royal</td>\n",
       "      <td>0</td>\n",
       "      <td>18</td>\n",
       "      <td>18</td>\n",
       "    </tr>\n",
       "    <tr>\n",
       "      <th>6</th>\n",
       "      <td>2024</td>\n",
       "      <td>Qtr 2</td>\n",
       "      <td>April</td>\n",
       "      <td>23</td>\n",
       "      <td>Alaska</td>\n",
       "      <td>Douglas</td>\n",
       "      <td>Douglas c-54d skymaster n3054v</td>\n",
       "      <td>Near Fairbanks</td>\n",
       "      <td>Alaska Air Fuel</td>\n",
       "      <td>0</td>\n",
       "      <td>2</td>\n",
       "      <td>2</td>\n",
       "    </tr>\n",
       "    <tr>\n",
       "      <th>7</th>\n",
       "      <td>1958</td>\n",
       "      <td>Qtr 2</td>\n",
       "      <td>April</td>\n",
       "      <td>21</td>\n",
       "      <td>10</td>\n",
       "      <td>Douglas</td>\n",
       "      <td>Douglas dc 7 / f</td>\n",
       "      <td>Near Sloan 10</td>\n",
       "      <td>Nevada      Vegas Las of SW miles United Air L...</td>\n",
       "      <td>0</td>\n",
       "      <td>49</td>\n",
       "      <td>49</td>\n",
       "    </tr>\n",
       "    <tr>\n",
       "      <th>...</th>\n",
       "      <td>...</td>\n",
       "      <td>...</td>\n",
       "      <td>...</td>\n",
       "      <td>...</td>\n",
       "      <td>...</td>\n",
       "      <td>...</td>\n",
       "      <td>...</td>\n",
       "      <td>...</td>\n",
       "      <td>...</td>\n",
       "      <td>...</td>\n",
       "      <td>...</td>\n",
       "      <td>...</td>\n",
       "    </tr>\n",
       "    <tr>\n",
       "      <th>5030</th>\n",
       "      <td>1980</td>\n",
       "      <td>Qtr 3</td>\n",
       "      <td>September</td>\n",
       "      <td>17</td>\n",
       "      <td>Zaire</td>\n",
       "      <td>De havilland</td>\n",
       "      <td>De havilland dhc 5 buffalo9t</td>\n",
       "      <td>Near Kindu Zaire</td>\n",
       "      <td>Force Air Zairean - Military</td>\n",
       "      <td>0</td>\n",
       "      <td>36</td>\n",
       "      <td>36</td>\n",
       "    </tr>\n",
       "    <tr>\n",
       "      <th>5031</th>\n",
       "      <td>1997</td>\n",
       "      <td>Qtr 3</td>\n",
       "      <td>September</td>\n",
       "      <td>12</td>\n",
       "      <td>Zaire</td>\n",
       "      <td>De havilland canada</td>\n",
       "      <td>De havilland canada dhc 6 twin otter 3009q</td>\n",
       "      <td>Near Uvira Zaire</td>\n",
       "      <td>Commuter Air TMK</td>\n",
       "      <td>0</td>\n",
       "      <td>22</td>\n",
       "      <td>22</td>\n",
       "    </tr>\n",
       "    <tr>\n",
       "      <th>5032</th>\n",
       "      <td>1984</td>\n",
       "      <td>Qtr 3</td>\n",
       "      <td>September</td>\n",
       "      <td>11</td>\n",
       "      <td>Zaire</td>\n",
       "      <td>Handley page dart herald</td>\n",
       "      <td>Handley page dart herald 2029q cah</td>\n",
       "      <td>Near the Kwango River Zaire</td>\n",
       "      <td>Services Aero MMM</td>\n",
       "      <td>0</td>\n",
       "      <td>30</td>\n",
       "      <td>30</td>\n",
       "    </tr>\n",
       "    <tr>\n",
       "      <th>5033</th>\n",
       "      <td>1980</td>\n",
       "      <td>Qtr 3</td>\n",
       "      <td>September</td>\n",
       "      <td>14</td>\n",
       "      <td>Zaire</td>\n",
       "      <td>Lockheed hercules</td>\n",
       "      <td>Lockheed hercules c 1309t</td>\n",
       "      <td>Kindu Zaire</td>\n",
       "      <td>Zaïroise Aérienne Force - Military</td>\n",
       "      <td>0</td>\n",
       "      <td>36</td>\n",
       "      <td>36</td>\n",
       "    </tr>\n",
       "    <tr>\n",
       "      <th>5034</th>\n",
       "      <td>1961</td>\n",
       "      <td>Qtr 3</td>\n",
       "      <td>September</td>\n",
       "      <td>17</td>\n",
       "      <td>Zambia</td>\n",
       "      <td>Douglas</td>\n",
       "      <td>Douglas dc 6bse</td>\n",
       "      <td>Ndola Zambia</td>\n",
       "      <td>Sweden Transair</td>\n",
       "      <td>0</td>\n",
       "      <td>16</td>\n",
       "      <td>16</td>\n",
       "    </tr>\n",
       "  </tbody>\n",
       "</table>\n",
       "<p>4758 rows × 12 columns</p>\n",
       "</div>"
      ],
      "text/plain": [
       "      Year Quarter      Month  Day Country/Region     Aircraft Manufacturer  \\\n",
       "3     2000   Qtr 2      April   19             '-                   Antonov   \n",
       "4     1946   Qtr 2      April   30             '-                   Douglas   \n",
       "5     1960   Qtr 2      April   14             '-                   Douglas   \n",
       "6     2024   Qtr 2      April   23         Alaska                   Douglas   \n",
       "7     1958   Qtr 2      April   21             10                   Douglas   \n",
       "...    ...     ...        ...  ...            ...                       ...   \n",
       "5030  1980   Qtr 3  September   17          Zaire              De havilland   \n",
       "5031  1997   Qtr 3  September   12          Zaire       De havilland canada   \n",
       "5032  1984   Qtr 3  September   11          Zaire  Handley page dart herald   \n",
       "5033  1980   Qtr 3  September   14          Zaire         Lockheed hercules   \n",
       "5034  1961   Qtr 3  September   17         Zambia                   Douglas   \n",
       "\n",
       "                                        Aircraft                     Location  \\\n",
       "3                                 Antonov an 8tl                      Pepa  -   \n",
       "4                            Douglas c 47a fz559                Pindi-Khut  -   \n",
       "5                                  Douglas dc 4?                     Taipei -   \n",
       "6                 Douglas c-54d skymaster n3054v               Near Fairbanks   \n",
       "7                               Douglas dc 7 / f                Near Sloan 10   \n",
       "...                                          ...                          ...   \n",
       "5030                De havilland dhc 5 buffalo9t             Near Kindu Zaire   \n",
       "5031  De havilland canada dhc 6 twin otter 3009q             Near Uvira Zaire   \n",
       "5032          Handley page dart herald 2029q cah  Near the Kwango River Zaire   \n",
       "5033                   Lockheed hercules c 1309t                  Kindu Zaire   \n",
       "5034                             Douglas dc 6bse                 Ndola Zambia   \n",
       "\n",
       "                                               Operator  Ground  \\\n",
       "3                                Airlines Centrafricain       0   \n",
       "4                                       Force Air Royal       0   \n",
       "5                                  Force Air Thai Royal       0   \n",
       "6                                       Alaska Air Fuel       0   \n",
       "7     Nevada      Vegas Las of SW miles United Air L...       0   \n",
       "...                                                 ...     ...   \n",
       "5030                       Force Air Zairean - Military       0   \n",
       "5031                                   Commuter Air TMK       0   \n",
       "5032                                  Services Aero MMM       0   \n",
       "5033                 Zaïroise Aérienne Force - Military       0   \n",
       "5034                                    Sweden Transair       0   \n",
       "\n",
       "      Fatalities (air)  Aboard  \n",
       "3                   24      24  \n",
       "4                   12      12  \n",
       "5                   18      18  \n",
       "6                    2       2  \n",
       "7                   49      49  \n",
       "...                ...     ...  \n",
       "5030                36      36  \n",
       "5031                22      22  \n",
       "5032                30      30  \n",
       "5033                36      36  \n",
       "5034                16      16  \n",
       "\n",
       "[4758 rows x 12 columns]"
      ]
     },
     "execution_count": 15,
     "metadata": {},
     "output_type": "execute_result"
    }
   ],
   "source": [
    "data"
   ]
  },
  {
   "cell_type": "code",
   "execution_count": 16,
   "metadata": {},
   "outputs": [
    {
     "data": {
      "text/plain": [
       "Year                     0\n",
       "Quarter                  0\n",
       "Month                    0\n",
       "Day                      0\n",
       "Country/Region           0\n",
       "Aircraft Manufacturer    0\n",
       "Aircraft                 0\n",
       "Location                 0\n",
       "Operator                 0\n",
       "Ground                   0\n",
       "Fatalities (air)         0\n",
       "Aboard                   0\n",
       "dtype: int64"
      ]
     },
     "execution_count": 16,
     "metadata": {},
     "output_type": "execute_result"
    }
   ],
   "source": [
    "data.isnull().sum()"
   ]
  },
  {
   "cell_type": "code",
   "execution_count": 17,
   "metadata": {},
   "outputs": [
    {
     "data": {
      "text/html": [
       "<div>\n",
       "<style scoped>\n",
       "    .dataframe tbody tr th:only-of-type {\n",
       "        vertical-align: middle;\n",
       "    }\n",
       "\n",
       "    .dataframe tbody tr th {\n",
       "        vertical-align: top;\n",
       "    }\n",
       "\n",
       "    .dataframe thead th {\n",
       "        text-align: right;\n",
       "    }\n",
       "</style>\n",
       "<table border=\"1\" class=\"dataframe\">\n",
       "  <thead>\n",
       "    <tr style=\"text-align: right;\">\n",
       "      <th></th>\n",
       "      <th>Year</th>\n",
       "      <th>Quarter</th>\n",
       "      <th>Month</th>\n",
       "      <th>Day</th>\n",
       "      <th>Country/Region</th>\n",
       "      <th>Aircraft Manufacturer</th>\n",
       "      <th>Aircraft</th>\n",
       "      <th>Location</th>\n",
       "      <th>Operator</th>\n",
       "      <th>Ground</th>\n",
       "      <th>Fatalities (air)</th>\n",
       "      <th>Aboard</th>\n",
       "    </tr>\n",
       "  </thead>\n",
       "  <tbody>\n",
       "    <tr>\n",
       "      <th>3</th>\n",
       "      <td>2000</td>\n",
       "      <td>Qtr 2</td>\n",
       "      <td>April</td>\n",
       "      <td>19</td>\n",
       "      <td>'-</td>\n",
       "      <td>Antonov</td>\n",
       "      <td>Antonov an 8tl</td>\n",
       "      <td>Pepa  -</td>\n",
       "      <td>Airlines Centrafricain</td>\n",
       "      <td>0</td>\n",
       "      <td>24</td>\n",
       "      <td>24</td>\n",
       "    </tr>\n",
       "    <tr>\n",
       "      <th>4</th>\n",
       "      <td>1946</td>\n",
       "      <td>Qtr 2</td>\n",
       "      <td>April</td>\n",
       "      <td>30</td>\n",
       "      <td>'-</td>\n",
       "      <td>Douglas</td>\n",
       "      <td>Douglas c 47a fz559</td>\n",
       "      <td>Pindi-Khut  -</td>\n",
       "      <td>Force Air Royal</td>\n",
       "      <td>0</td>\n",
       "      <td>12</td>\n",
       "      <td>12</td>\n",
       "    </tr>\n",
       "    <tr>\n",
       "      <th>5</th>\n",
       "      <td>1960</td>\n",
       "      <td>Qtr 2</td>\n",
       "      <td>April</td>\n",
       "      <td>14</td>\n",
       "      <td>'-</td>\n",
       "      <td>Douglas</td>\n",
       "      <td>Douglas dc 4?</td>\n",
       "      <td>Taipei -</td>\n",
       "      <td>Force Air Thai Royal</td>\n",
       "      <td>0</td>\n",
       "      <td>18</td>\n",
       "      <td>18</td>\n",
       "    </tr>\n",
       "    <tr>\n",
       "      <th>6</th>\n",
       "      <td>2024</td>\n",
       "      <td>Qtr 2</td>\n",
       "      <td>April</td>\n",
       "      <td>23</td>\n",
       "      <td>Alaska</td>\n",
       "      <td>Douglas</td>\n",
       "      <td>Douglas c-54d skymaster n3054v</td>\n",
       "      <td>Near Fairbanks</td>\n",
       "      <td>Alaska Air Fuel</td>\n",
       "      <td>0</td>\n",
       "      <td>2</td>\n",
       "      <td>2</td>\n",
       "    </tr>\n",
       "    <tr>\n",
       "      <th>7</th>\n",
       "      <td>1958</td>\n",
       "      <td>Qtr 2</td>\n",
       "      <td>April</td>\n",
       "      <td>21</td>\n",
       "      <td>10</td>\n",
       "      <td>Douglas</td>\n",
       "      <td>Douglas dc 7 / f</td>\n",
       "      <td>Near Sloan 10</td>\n",
       "      <td>Nevada      Vegas Las of SW miles United Air L...</td>\n",
       "      <td>0</td>\n",
       "      <td>49</td>\n",
       "      <td>49</td>\n",
       "    </tr>\n",
       "    <tr>\n",
       "      <th>...</th>\n",
       "      <td>...</td>\n",
       "      <td>...</td>\n",
       "      <td>...</td>\n",
       "      <td>...</td>\n",
       "      <td>...</td>\n",
       "      <td>...</td>\n",
       "      <td>...</td>\n",
       "      <td>...</td>\n",
       "      <td>...</td>\n",
       "      <td>...</td>\n",
       "      <td>...</td>\n",
       "      <td>...</td>\n",
       "    </tr>\n",
       "    <tr>\n",
       "      <th>5030</th>\n",
       "      <td>1980</td>\n",
       "      <td>Qtr 3</td>\n",
       "      <td>September</td>\n",
       "      <td>17</td>\n",
       "      <td>Zaire</td>\n",
       "      <td>De havilland</td>\n",
       "      <td>De havilland dhc 5 buffalo9t</td>\n",
       "      <td>Near Kindu Zaire</td>\n",
       "      <td>Force Air Zairean - Military</td>\n",
       "      <td>0</td>\n",
       "      <td>36</td>\n",
       "      <td>36</td>\n",
       "    </tr>\n",
       "    <tr>\n",
       "      <th>5031</th>\n",
       "      <td>1997</td>\n",
       "      <td>Qtr 3</td>\n",
       "      <td>September</td>\n",
       "      <td>12</td>\n",
       "      <td>Zaire</td>\n",
       "      <td>De havilland canada</td>\n",
       "      <td>De havilland canada dhc 6 twin otter 3009q</td>\n",
       "      <td>Near Uvira Zaire</td>\n",
       "      <td>Commuter Air TMK</td>\n",
       "      <td>0</td>\n",
       "      <td>22</td>\n",
       "      <td>22</td>\n",
       "    </tr>\n",
       "    <tr>\n",
       "      <th>5032</th>\n",
       "      <td>1984</td>\n",
       "      <td>Qtr 3</td>\n",
       "      <td>September</td>\n",
       "      <td>11</td>\n",
       "      <td>Zaire</td>\n",
       "      <td>Handley page dart herald</td>\n",
       "      <td>Handley page dart herald 2029q cah</td>\n",
       "      <td>Near the Kwango River Zaire</td>\n",
       "      <td>Services Aero MMM</td>\n",
       "      <td>0</td>\n",
       "      <td>30</td>\n",
       "      <td>30</td>\n",
       "    </tr>\n",
       "    <tr>\n",
       "      <th>5033</th>\n",
       "      <td>1980</td>\n",
       "      <td>Qtr 3</td>\n",
       "      <td>September</td>\n",
       "      <td>14</td>\n",
       "      <td>Zaire</td>\n",
       "      <td>Lockheed hercules</td>\n",
       "      <td>Lockheed hercules c 1309t</td>\n",
       "      <td>Kindu Zaire</td>\n",
       "      <td>Zaïroise Aérienne Force - Military</td>\n",
       "      <td>0</td>\n",
       "      <td>36</td>\n",
       "      <td>36</td>\n",
       "    </tr>\n",
       "    <tr>\n",
       "      <th>5034</th>\n",
       "      <td>1961</td>\n",
       "      <td>Qtr 3</td>\n",
       "      <td>September</td>\n",
       "      <td>17</td>\n",
       "      <td>Zambia</td>\n",
       "      <td>Douglas</td>\n",
       "      <td>Douglas dc 6bse</td>\n",
       "      <td>Ndola Zambia</td>\n",
       "      <td>Sweden Transair</td>\n",
       "      <td>0</td>\n",
       "      <td>16</td>\n",
       "      <td>16</td>\n",
       "    </tr>\n",
       "  </tbody>\n",
       "</table>\n",
       "<p>4758 rows × 12 columns</p>\n",
       "</div>"
      ],
      "text/plain": [
       "      Year Quarter      Month  Day Country/Region     Aircraft Manufacturer  \\\n",
       "3     2000   Qtr 2      April   19             '-                   Antonov   \n",
       "4     1946   Qtr 2      April   30             '-                   Douglas   \n",
       "5     1960   Qtr 2      April   14             '-                   Douglas   \n",
       "6     2024   Qtr 2      April   23         Alaska                   Douglas   \n",
       "7     1958   Qtr 2      April   21             10                   Douglas   \n",
       "...    ...     ...        ...  ...            ...                       ...   \n",
       "5030  1980   Qtr 3  September   17          Zaire              De havilland   \n",
       "5031  1997   Qtr 3  September   12          Zaire       De havilland canada   \n",
       "5032  1984   Qtr 3  September   11          Zaire  Handley page dart herald   \n",
       "5033  1980   Qtr 3  September   14          Zaire         Lockheed hercules   \n",
       "5034  1961   Qtr 3  September   17         Zambia                   Douglas   \n",
       "\n",
       "                                        Aircraft                     Location  \\\n",
       "3                                 Antonov an 8tl                      Pepa  -   \n",
       "4                            Douglas c 47a fz559                Pindi-Khut  -   \n",
       "5                                  Douglas dc 4?                     Taipei -   \n",
       "6                 Douglas c-54d skymaster n3054v               Near Fairbanks   \n",
       "7                               Douglas dc 7 / f                Near Sloan 10   \n",
       "...                                          ...                          ...   \n",
       "5030                De havilland dhc 5 buffalo9t             Near Kindu Zaire   \n",
       "5031  De havilland canada dhc 6 twin otter 3009q             Near Uvira Zaire   \n",
       "5032          Handley page dart herald 2029q cah  Near the Kwango River Zaire   \n",
       "5033                   Lockheed hercules c 1309t                  Kindu Zaire   \n",
       "5034                             Douglas dc 6bse                 Ndola Zambia   \n",
       "\n",
       "                                               Operator  Ground  \\\n",
       "3                                Airlines Centrafricain       0   \n",
       "4                                       Force Air Royal       0   \n",
       "5                                  Force Air Thai Royal       0   \n",
       "6                                       Alaska Air Fuel       0   \n",
       "7     Nevada      Vegas Las of SW miles United Air L...       0   \n",
       "...                                                 ...     ...   \n",
       "5030                       Force Air Zairean - Military       0   \n",
       "5031                                   Commuter Air TMK       0   \n",
       "5032                                  Services Aero MMM       0   \n",
       "5033                 Zaïroise Aérienne Force - Military       0   \n",
       "5034                                    Sweden Transair       0   \n",
       "\n",
       "      Fatalities (air)  Aboard  \n",
       "3                   24      24  \n",
       "4                   12      12  \n",
       "5                   18      18  \n",
       "6                    2       2  \n",
       "7                   49      49  \n",
       "...                ...     ...  \n",
       "5030                36      36  \n",
       "5031                22      22  \n",
       "5032                30      30  \n",
       "5033                36      36  \n",
       "5034                16      16  \n",
       "\n",
       "[4758 rows x 12 columns]"
      ]
     },
     "execution_count": 17,
     "metadata": {},
     "output_type": "execute_result"
    }
   ],
   "source": [
    "data"
   ]
  },
  {
   "cell_type": "code",
   "execution_count": 18,
   "metadata": {},
   "outputs": [
    {
     "data": {
      "text/html": [
       "<div>\n",
       "<style scoped>\n",
       "    .dataframe tbody tr th:only-of-type {\n",
       "        vertical-align: middle;\n",
       "    }\n",
       "\n",
       "    .dataframe tbody tr th {\n",
       "        vertical-align: top;\n",
       "    }\n",
       "\n",
       "    .dataframe thead th {\n",
       "        text-align: right;\n",
       "    }\n",
       "</style>\n",
       "<table border=\"1\" class=\"dataframe\">\n",
       "  <thead>\n",
       "    <tr style=\"text-align: right;\">\n",
       "      <th></th>\n",
       "      <th>Year</th>\n",
       "      <th>Quarter</th>\n",
       "      <th>Month</th>\n",
       "      <th>Day</th>\n",
       "      <th>Country/Region</th>\n",
       "      <th>Aircraft Manufacturer</th>\n",
       "      <th>Aircraft</th>\n",
       "      <th>Location</th>\n",
       "      <th>Operator</th>\n",
       "      <th>Ground</th>\n",
       "      <th>Fatalities (air)</th>\n",
       "      <th>Aboard</th>\n",
       "    </tr>\n",
       "  </thead>\n",
       "  <tbody>\n",
       "    <tr>\n",
       "      <th>3</th>\n",
       "      <td>2000</td>\n",
       "      <td>Qtr 2</td>\n",
       "      <td>April</td>\n",
       "      <td>19</td>\n",
       "      <td>'-</td>\n",
       "      <td>Antonov</td>\n",
       "      <td>Antonov an 8tl</td>\n",
       "      <td>Pepa  -</td>\n",
       "      <td>Airlines Centrafricain</td>\n",
       "      <td>0</td>\n",
       "      <td>24</td>\n",
       "      <td>24</td>\n",
       "    </tr>\n",
       "    <tr>\n",
       "      <th>4</th>\n",
       "      <td>1946</td>\n",
       "      <td>Qtr 2</td>\n",
       "      <td>April</td>\n",
       "      <td>30</td>\n",
       "      <td>'-</td>\n",
       "      <td>Douglas</td>\n",
       "      <td>Douglas c 47a fz559</td>\n",
       "      <td>Pindi-Khut  -</td>\n",
       "      <td>Force Air Royal</td>\n",
       "      <td>0</td>\n",
       "      <td>12</td>\n",
       "      <td>12</td>\n",
       "    </tr>\n",
       "    <tr>\n",
       "      <th>5</th>\n",
       "      <td>1960</td>\n",
       "      <td>Qtr 2</td>\n",
       "      <td>April</td>\n",
       "      <td>14</td>\n",
       "      <td>'-</td>\n",
       "      <td>Douglas</td>\n",
       "      <td>Douglas dc 4?</td>\n",
       "      <td>Taipei -</td>\n",
       "      <td>Force Air Thai Royal</td>\n",
       "      <td>0</td>\n",
       "      <td>18</td>\n",
       "      <td>18</td>\n",
       "    </tr>\n",
       "    <tr>\n",
       "      <th>6</th>\n",
       "      <td>2024</td>\n",
       "      <td>Qtr 2</td>\n",
       "      <td>April</td>\n",
       "      <td>23</td>\n",
       "      <td>Alaska</td>\n",
       "      <td>Douglas</td>\n",
       "      <td>Douglas c-54d skymaster n3054v</td>\n",
       "      <td>Near Fairbanks</td>\n",
       "      <td>Alaska Air Fuel</td>\n",
       "      <td>0</td>\n",
       "      <td>2</td>\n",
       "      <td>2</td>\n",
       "    </tr>\n",
       "    <tr>\n",
       "      <th>7</th>\n",
       "      <td>1958</td>\n",
       "      <td>Qtr 2</td>\n",
       "      <td>April</td>\n",
       "      <td>21</td>\n",
       "      <td>10</td>\n",
       "      <td>Douglas</td>\n",
       "      <td>Douglas dc 7 / f</td>\n",
       "      <td>Near Sloan 10</td>\n",
       "      <td>Nevada      Vegas Las of SW miles United Air L...</td>\n",
       "      <td>0</td>\n",
       "      <td>49</td>\n",
       "      <td>49</td>\n",
       "    </tr>\n",
       "    <tr>\n",
       "      <th>...</th>\n",
       "      <td>...</td>\n",
       "      <td>...</td>\n",
       "      <td>...</td>\n",
       "      <td>...</td>\n",
       "      <td>...</td>\n",
       "      <td>...</td>\n",
       "      <td>...</td>\n",
       "      <td>...</td>\n",
       "      <td>...</td>\n",
       "      <td>...</td>\n",
       "      <td>...</td>\n",
       "      <td>...</td>\n",
       "    </tr>\n",
       "    <tr>\n",
       "      <th>5030</th>\n",
       "      <td>1980</td>\n",
       "      <td>Qtr 3</td>\n",
       "      <td>September</td>\n",
       "      <td>17</td>\n",
       "      <td>Zaire</td>\n",
       "      <td>De havilland</td>\n",
       "      <td>De havilland dhc 5 buffalo9t</td>\n",
       "      <td>Near Kindu Zaire</td>\n",
       "      <td>Force Air Zairean - Military</td>\n",
       "      <td>0</td>\n",
       "      <td>36</td>\n",
       "      <td>36</td>\n",
       "    </tr>\n",
       "    <tr>\n",
       "      <th>5031</th>\n",
       "      <td>1997</td>\n",
       "      <td>Qtr 3</td>\n",
       "      <td>September</td>\n",
       "      <td>12</td>\n",
       "      <td>Zaire</td>\n",
       "      <td>De havilland canada</td>\n",
       "      <td>De havilland canada dhc 6 twin otter 3009q</td>\n",
       "      <td>Near Uvira Zaire</td>\n",
       "      <td>Commuter Air TMK</td>\n",
       "      <td>0</td>\n",
       "      <td>22</td>\n",
       "      <td>22</td>\n",
       "    </tr>\n",
       "    <tr>\n",
       "      <th>5032</th>\n",
       "      <td>1984</td>\n",
       "      <td>Qtr 3</td>\n",
       "      <td>September</td>\n",
       "      <td>11</td>\n",
       "      <td>Zaire</td>\n",
       "      <td>Handley page dart herald</td>\n",
       "      <td>Handley page dart herald 2029q cah</td>\n",
       "      <td>Near the Kwango River Zaire</td>\n",
       "      <td>Services Aero MMM</td>\n",
       "      <td>0</td>\n",
       "      <td>30</td>\n",
       "      <td>30</td>\n",
       "    </tr>\n",
       "    <tr>\n",
       "      <th>5033</th>\n",
       "      <td>1980</td>\n",
       "      <td>Qtr 3</td>\n",
       "      <td>September</td>\n",
       "      <td>14</td>\n",
       "      <td>Zaire</td>\n",
       "      <td>Lockheed hercules</td>\n",
       "      <td>Lockheed hercules c 1309t</td>\n",
       "      <td>Kindu Zaire</td>\n",
       "      <td>Zaïroise Aérienne Force - Military</td>\n",
       "      <td>0</td>\n",
       "      <td>36</td>\n",
       "      <td>36</td>\n",
       "    </tr>\n",
       "    <tr>\n",
       "      <th>5034</th>\n",
       "      <td>1961</td>\n",
       "      <td>Qtr 3</td>\n",
       "      <td>September</td>\n",
       "      <td>17</td>\n",
       "      <td>Zambia</td>\n",
       "      <td>Douglas</td>\n",
       "      <td>Douglas dc 6bse</td>\n",
       "      <td>Ndola Zambia</td>\n",
       "      <td>Sweden Transair</td>\n",
       "      <td>0</td>\n",
       "      <td>16</td>\n",
       "      <td>16</td>\n",
       "    </tr>\n",
       "  </tbody>\n",
       "</table>\n",
       "<p>4758 rows × 12 columns</p>\n",
       "</div>"
      ],
      "text/plain": [
       "      Year Quarter      Month  Day Country/Region     Aircraft Manufacturer  \\\n",
       "3     2000   Qtr 2      April   19             '-                   Antonov   \n",
       "4     1946   Qtr 2      April   30             '-                   Douglas   \n",
       "5     1960   Qtr 2      April   14             '-                   Douglas   \n",
       "6     2024   Qtr 2      April   23         Alaska                   Douglas   \n",
       "7     1958   Qtr 2      April   21             10                   Douglas   \n",
       "...    ...     ...        ...  ...            ...                       ...   \n",
       "5030  1980   Qtr 3  September   17          Zaire              De havilland   \n",
       "5031  1997   Qtr 3  September   12          Zaire       De havilland canada   \n",
       "5032  1984   Qtr 3  September   11          Zaire  Handley page dart herald   \n",
       "5033  1980   Qtr 3  September   14          Zaire         Lockheed hercules   \n",
       "5034  1961   Qtr 3  September   17         Zambia                   Douglas   \n",
       "\n",
       "                                        Aircraft                     Location  \\\n",
       "3                                 Antonov an 8tl                      Pepa  -   \n",
       "4                            Douglas c 47a fz559                Pindi-Khut  -   \n",
       "5                                  Douglas dc 4?                     Taipei -   \n",
       "6                 Douglas c-54d skymaster n3054v               Near Fairbanks   \n",
       "7                               Douglas dc 7 / f                Near Sloan 10   \n",
       "...                                          ...                          ...   \n",
       "5030                De havilland dhc 5 buffalo9t             Near Kindu Zaire   \n",
       "5031  De havilland canada dhc 6 twin otter 3009q             Near Uvira Zaire   \n",
       "5032          Handley page dart herald 2029q cah  Near the Kwango River Zaire   \n",
       "5033                   Lockheed hercules c 1309t                  Kindu Zaire   \n",
       "5034                             Douglas dc 6bse                 Ndola Zambia   \n",
       "\n",
       "                                               Operator  Ground  \\\n",
       "3                                Airlines Centrafricain       0   \n",
       "4                                       Force Air Royal       0   \n",
       "5                                  Force Air Thai Royal       0   \n",
       "6                                       Alaska Air Fuel       0   \n",
       "7     Nevada      Vegas Las of SW miles United Air L...       0   \n",
       "...                                                 ...     ...   \n",
       "5030                       Force Air Zairean - Military       0   \n",
       "5031                                   Commuter Air TMK       0   \n",
       "5032                                  Services Aero MMM       0   \n",
       "5033                 Zaïroise Aérienne Force - Military       0   \n",
       "5034                                    Sweden Transair       0   \n",
       "\n",
       "      Fatalities (air)  Aboard  \n",
       "3                   24      24  \n",
       "4                   12      12  \n",
       "5                   18      18  \n",
       "6                    2       2  \n",
       "7                   49      49  \n",
       "...                ...     ...  \n",
       "5030                36      36  \n",
       "5031                22      22  \n",
       "5032                30      30  \n",
       "5033                36      36  \n",
       "5034                16      16  \n",
       "\n",
       "[4758 rows x 12 columns]"
      ]
     },
     "execution_count": 18,
     "metadata": {},
     "output_type": "execute_result"
    }
   ],
   "source": [
    "data"
   ]
  },
  {
   "cell_type": "code",
   "execution_count": 19,
   "metadata": {},
   "outputs": [],
   "source": [
    "# Corrections of spellings\n",
    "replace_dict = {'USSRAeroflot': 'Aeroflot', \n",
    "                'Forces Air Army U.S. - Military': 'U.S. AirForce - Military', \n",
    "                'Force Air Royal': 'Royal AirForce - Militray',\n",
    "                'Force Air Republican Afghan - Military': 'Afghanistan AirForce - Military',\n",
    "                'Alaska Air Fuel': 'Alaska AirForce',\n",
    "                'Force Air Zairean - Military': 'Zairean AirForce - Militay',\n",
    "                'Force Air Thai Royal': 'Thai Royal AirForce',\n",
    "                'Services Aero MMM': 'M.M.M Aero Services',\n",
    "                'Airlines Centrafricain': 'Central African Airline',\n",
    "                'Services Aviation Hageland': 'Hageland Aviation Services',\n",
    "                'Force Air Algerian - Military': 'Algerian AirForce - Military',\n",
    "                'Force Air Cuban - Military': 'Cuban AirForce',\n",
    "                'Algerie Air': 'Algeria Air',\n",
    "                'Services Air Wenel': 'Wenel Air Services',\n",
    "                'Airlines Western': 'Western Airlines',\n",
    "                'Airlines Catalina': 'Catalina Airlines',\n",
    "                'Force Air Arab Lybian - Military': 'Arab AirForce Lybian - Military',\n",
    "                'Services Air Mountain Central': 'Central Mountain Air Services',\n",
    "                'Services Air IslandsDan': 'Dan Island Air Services',\n",
    "                'UKBritish United Airways Islands': 'UK United British Airways',\n",
    "                'Nations United': 'United Nations',\n",
    "                'Airlines PakistanIndian': 'Pakistan Airlines',\n",
    "                'Airways African East': 'East African Airlines',\n",
    "                'California Barbara Santa Southwest Airways': 'Barbara Santa SouthWest California Airways',\n",
    "                'Airlines Azerbaijan': 'Azerbaijan Airlines',\n",
    "                'Force Air Colombian - Military': 'Colombian Airlines',\n",
    "                'Nations United': 'United Nations',\n",
    "                'Air CongoBako of Republic': 'Republic of Congo Air',\n",
    "                'Force Air Soviet - Military': 'AirForce Soviet - Military',\n",
    "                'Navy States United - Military': 'United states Navy - Military',\n",
    "                'Force Air Kenyan - Military': 'Kenyan AirForce - Militay',\n",
    "                'Service Mail Aerial': 'Aerial Mail service',\n",
    "                'Service Helikopter': 'Helicopter Service',\n",
    "                'Force Air U.S. - VietnamMilitary': 'U.S. AirForce - Military'}\n",
    "data['Operator'] = data['Operator'].replace(replace_dict)\n"
   ]
  },
  {
   "cell_type": "code",
   "execution_count": 20,
   "metadata": {},
   "outputs": [
    {
     "data": {
      "text/html": [
       "<div>\n",
       "<style scoped>\n",
       "    .dataframe tbody tr th:only-of-type {\n",
       "        vertical-align: middle;\n",
       "    }\n",
       "\n",
       "    .dataframe tbody tr th {\n",
       "        vertical-align: top;\n",
       "    }\n",
       "\n",
       "    .dataframe thead th {\n",
       "        text-align: right;\n",
       "    }\n",
       "</style>\n",
       "<table border=\"1\" class=\"dataframe\">\n",
       "  <thead>\n",
       "    <tr style=\"text-align: right;\">\n",
       "      <th></th>\n",
       "      <th>Year</th>\n",
       "      <th>Quarter</th>\n",
       "      <th>Month</th>\n",
       "      <th>Day</th>\n",
       "      <th>Country/Region</th>\n",
       "      <th>Aircraft Manufacturer</th>\n",
       "      <th>Aircraft</th>\n",
       "      <th>Location</th>\n",
       "      <th>Operator</th>\n",
       "      <th>Ground</th>\n",
       "      <th>Fatalities (air)</th>\n",
       "      <th>Aboard</th>\n",
       "    </tr>\n",
       "  </thead>\n",
       "  <tbody>\n",
       "    <tr>\n",
       "      <th>3</th>\n",
       "      <td>2000</td>\n",
       "      <td>Qtr 2</td>\n",
       "      <td>April</td>\n",
       "      <td>19</td>\n",
       "      <td>'-</td>\n",
       "      <td>Antonov</td>\n",
       "      <td>Antonov an 8tl</td>\n",
       "      <td>Pepa  -</td>\n",
       "      <td>Central African Airline</td>\n",
       "      <td>0</td>\n",
       "      <td>24</td>\n",
       "      <td>24</td>\n",
       "    </tr>\n",
       "    <tr>\n",
       "      <th>4</th>\n",
       "      <td>1946</td>\n",
       "      <td>Qtr 2</td>\n",
       "      <td>April</td>\n",
       "      <td>30</td>\n",
       "      <td>'-</td>\n",
       "      <td>Douglas</td>\n",
       "      <td>Douglas c 47a fz559</td>\n",
       "      <td>Pindi-Khut  -</td>\n",
       "      <td>Royal AirForce - Militray</td>\n",
       "      <td>0</td>\n",
       "      <td>12</td>\n",
       "      <td>12</td>\n",
       "    </tr>\n",
       "    <tr>\n",
       "      <th>5</th>\n",
       "      <td>1960</td>\n",
       "      <td>Qtr 2</td>\n",
       "      <td>April</td>\n",
       "      <td>14</td>\n",
       "      <td>'-</td>\n",
       "      <td>Douglas</td>\n",
       "      <td>Douglas dc 4?</td>\n",
       "      <td>Taipei -</td>\n",
       "      <td>Thai Royal AirForce</td>\n",
       "      <td>0</td>\n",
       "      <td>18</td>\n",
       "      <td>18</td>\n",
       "    </tr>\n",
       "    <tr>\n",
       "      <th>6</th>\n",
       "      <td>2024</td>\n",
       "      <td>Qtr 2</td>\n",
       "      <td>April</td>\n",
       "      <td>23</td>\n",
       "      <td>Alaska</td>\n",
       "      <td>Douglas</td>\n",
       "      <td>Douglas c-54d skymaster n3054v</td>\n",
       "      <td>Near Fairbanks</td>\n",
       "      <td>Alaska AirForce</td>\n",
       "      <td>0</td>\n",
       "      <td>2</td>\n",
       "      <td>2</td>\n",
       "    </tr>\n",
       "    <tr>\n",
       "      <th>7</th>\n",
       "      <td>1958</td>\n",
       "      <td>Qtr 2</td>\n",
       "      <td>April</td>\n",
       "      <td>21</td>\n",
       "      <td>10</td>\n",
       "      <td>Douglas</td>\n",
       "      <td>Douglas dc 7 / f</td>\n",
       "      <td>Near Sloan 10</td>\n",
       "      <td>Nevada      Vegas Las of SW miles United Air L...</td>\n",
       "      <td>0</td>\n",
       "      <td>49</td>\n",
       "      <td>49</td>\n",
       "    </tr>\n",
       "    <tr>\n",
       "      <th>...</th>\n",
       "      <td>...</td>\n",
       "      <td>...</td>\n",
       "      <td>...</td>\n",
       "      <td>...</td>\n",
       "      <td>...</td>\n",
       "      <td>...</td>\n",
       "      <td>...</td>\n",
       "      <td>...</td>\n",
       "      <td>...</td>\n",
       "      <td>...</td>\n",
       "      <td>...</td>\n",
       "      <td>...</td>\n",
       "    </tr>\n",
       "    <tr>\n",
       "      <th>5030</th>\n",
       "      <td>1980</td>\n",
       "      <td>Qtr 3</td>\n",
       "      <td>September</td>\n",
       "      <td>17</td>\n",
       "      <td>Zaire</td>\n",
       "      <td>De havilland</td>\n",
       "      <td>De havilland dhc 5 buffalo9t</td>\n",
       "      <td>Near Kindu Zaire</td>\n",
       "      <td>Zairean AirForce - Militay</td>\n",
       "      <td>0</td>\n",
       "      <td>36</td>\n",
       "      <td>36</td>\n",
       "    </tr>\n",
       "    <tr>\n",
       "      <th>5031</th>\n",
       "      <td>1997</td>\n",
       "      <td>Qtr 3</td>\n",
       "      <td>September</td>\n",
       "      <td>12</td>\n",
       "      <td>Zaire</td>\n",
       "      <td>De havilland canada</td>\n",
       "      <td>De havilland canada dhc 6 twin otter 3009q</td>\n",
       "      <td>Near Uvira Zaire</td>\n",
       "      <td>Commuter Air TMK</td>\n",
       "      <td>0</td>\n",
       "      <td>22</td>\n",
       "      <td>22</td>\n",
       "    </tr>\n",
       "    <tr>\n",
       "      <th>5032</th>\n",
       "      <td>1984</td>\n",
       "      <td>Qtr 3</td>\n",
       "      <td>September</td>\n",
       "      <td>11</td>\n",
       "      <td>Zaire</td>\n",
       "      <td>Handley page dart herald</td>\n",
       "      <td>Handley page dart herald 2029q cah</td>\n",
       "      <td>Near the Kwango River Zaire</td>\n",
       "      <td>M.M.M Aero Services</td>\n",
       "      <td>0</td>\n",
       "      <td>30</td>\n",
       "      <td>30</td>\n",
       "    </tr>\n",
       "    <tr>\n",
       "      <th>5033</th>\n",
       "      <td>1980</td>\n",
       "      <td>Qtr 3</td>\n",
       "      <td>September</td>\n",
       "      <td>14</td>\n",
       "      <td>Zaire</td>\n",
       "      <td>Lockheed hercules</td>\n",
       "      <td>Lockheed hercules c 1309t</td>\n",
       "      <td>Kindu Zaire</td>\n",
       "      <td>Zaïroise Aérienne Force - Military</td>\n",
       "      <td>0</td>\n",
       "      <td>36</td>\n",
       "      <td>36</td>\n",
       "    </tr>\n",
       "    <tr>\n",
       "      <th>5034</th>\n",
       "      <td>1961</td>\n",
       "      <td>Qtr 3</td>\n",
       "      <td>September</td>\n",
       "      <td>17</td>\n",
       "      <td>Zambia</td>\n",
       "      <td>Douglas</td>\n",
       "      <td>Douglas dc 6bse</td>\n",
       "      <td>Ndola Zambia</td>\n",
       "      <td>Sweden Transair</td>\n",
       "      <td>0</td>\n",
       "      <td>16</td>\n",
       "      <td>16</td>\n",
       "    </tr>\n",
       "  </tbody>\n",
       "</table>\n",
       "<p>4758 rows × 12 columns</p>\n",
       "</div>"
      ],
      "text/plain": [
       "      Year Quarter      Month  Day Country/Region     Aircraft Manufacturer  \\\n",
       "3     2000   Qtr 2      April   19             '-                   Antonov   \n",
       "4     1946   Qtr 2      April   30             '-                   Douglas   \n",
       "5     1960   Qtr 2      April   14             '-                   Douglas   \n",
       "6     2024   Qtr 2      April   23         Alaska                   Douglas   \n",
       "7     1958   Qtr 2      April   21             10                   Douglas   \n",
       "...    ...     ...        ...  ...            ...                       ...   \n",
       "5030  1980   Qtr 3  September   17          Zaire              De havilland   \n",
       "5031  1997   Qtr 3  September   12          Zaire       De havilland canada   \n",
       "5032  1984   Qtr 3  September   11          Zaire  Handley page dart herald   \n",
       "5033  1980   Qtr 3  September   14          Zaire         Lockheed hercules   \n",
       "5034  1961   Qtr 3  September   17         Zambia                   Douglas   \n",
       "\n",
       "                                        Aircraft                     Location  \\\n",
       "3                                 Antonov an 8tl                      Pepa  -   \n",
       "4                            Douglas c 47a fz559                Pindi-Khut  -   \n",
       "5                                  Douglas dc 4?                     Taipei -   \n",
       "6                 Douglas c-54d skymaster n3054v               Near Fairbanks   \n",
       "7                               Douglas dc 7 / f                Near Sloan 10   \n",
       "...                                          ...                          ...   \n",
       "5030                De havilland dhc 5 buffalo9t             Near Kindu Zaire   \n",
       "5031  De havilland canada dhc 6 twin otter 3009q             Near Uvira Zaire   \n",
       "5032          Handley page dart herald 2029q cah  Near the Kwango River Zaire   \n",
       "5033                   Lockheed hercules c 1309t                  Kindu Zaire   \n",
       "5034                             Douglas dc 6bse                 Ndola Zambia   \n",
       "\n",
       "                                               Operator  Ground  \\\n",
       "3                               Central African Airline       0   \n",
       "4                             Royal AirForce - Militray       0   \n",
       "5                                   Thai Royal AirForce       0   \n",
       "6                                       Alaska AirForce       0   \n",
       "7     Nevada      Vegas Las of SW miles United Air L...       0   \n",
       "...                                                 ...     ...   \n",
       "5030                         Zairean AirForce - Militay       0   \n",
       "5031                                   Commuter Air TMK       0   \n",
       "5032                                M.M.M Aero Services       0   \n",
       "5033                 Zaïroise Aérienne Force - Military       0   \n",
       "5034                                    Sweden Transair       0   \n",
       "\n",
       "      Fatalities (air)  Aboard  \n",
       "3                   24      24  \n",
       "4                   12      12  \n",
       "5                   18      18  \n",
       "6                    2       2  \n",
       "7                   49      49  \n",
       "...                ...     ...  \n",
       "5030                36      36  \n",
       "5031                22      22  \n",
       "5032                30      30  \n",
       "5033                36      36  \n",
       "5034                16      16  \n",
       "\n",
       "[4758 rows x 12 columns]"
      ]
     },
     "execution_count": 20,
     "metadata": {},
     "output_type": "execute_result"
    }
   ],
   "source": [
    "data"
   ]
  },
  {
   "cell_type": "code",
   "execution_count": 21,
   "metadata": {},
   "outputs": [],
   "source": [
    "replace_dict = {\"'-\": \"France\",}\n",
    "data[\"Country/Region\"] = data[\"Country/Region\"].replace(replace_dict)"
   ]
  },
  {
   "cell_type": "code",
   "execution_count": 160,
   "metadata": {},
   "outputs": [
    {
     "data": {
      "text/html": [
       "<div>\n",
       "<style scoped>\n",
       "    .dataframe tbody tr th:only-of-type {\n",
       "        vertical-align: middle;\n",
       "    }\n",
       "\n",
       "    .dataframe tbody tr th {\n",
       "        vertical-align: top;\n",
       "    }\n",
       "\n",
       "    .dataframe thead th {\n",
       "        text-align: right;\n",
       "    }\n",
       "</style>\n",
       "<table border=\"1\" class=\"dataframe\">\n",
       "  <thead>\n",
       "    <tr style=\"text-align: right;\">\n",
       "      <th></th>\n",
       "      <th>Year</th>\n",
       "      <th>Quarter</th>\n",
       "      <th>Month</th>\n",
       "      <th>Day</th>\n",
       "      <th>Country/Region</th>\n",
       "      <th>Aircraft Manufacturer</th>\n",
       "      <th>Aircraft</th>\n",
       "      <th>Location</th>\n",
       "      <th>Operator</th>\n",
       "      <th>Ground</th>\n",
       "      <th>Fatalities (air)</th>\n",
       "      <th>Aboard</th>\n",
       "    </tr>\n",
       "  </thead>\n",
       "  <tbody>\n",
       "    <tr>\n",
       "      <th>3</th>\n",
       "      <td>2000</td>\n",
       "      <td>Qtr 2</td>\n",
       "      <td>April</td>\n",
       "      <td>19</td>\n",
       "      <td>France</td>\n",
       "      <td>Antonov</td>\n",
       "      <td>Antonov an 8tl</td>\n",
       "      <td>Pepa  -</td>\n",
       "      <td>Central African Airline</td>\n",
       "      <td>0</td>\n",
       "      <td>24</td>\n",
       "      <td>24</td>\n",
       "    </tr>\n",
       "    <tr>\n",
       "      <th>4</th>\n",
       "      <td>1946</td>\n",
       "      <td>Qtr 2</td>\n",
       "      <td>April</td>\n",
       "      <td>30</td>\n",
       "      <td>France</td>\n",
       "      <td>Douglas</td>\n",
       "      <td>Douglas c 47a fz559</td>\n",
       "      <td>Pindi-Khut  -</td>\n",
       "      <td>Royal AirForce - Militray</td>\n",
       "      <td>0</td>\n",
       "      <td>12</td>\n",
       "      <td>12</td>\n",
       "    </tr>\n",
       "    <tr>\n",
       "      <th>5</th>\n",
       "      <td>1960</td>\n",
       "      <td>Qtr 2</td>\n",
       "      <td>April</td>\n",
       "      <td>14</td>\n",
       "      <td>France</td>\n",
       "      <td>Douglas</td>\n",
       "      <td>Douglas dc 4?</td>\n",
       "      <td>Taipei -</td>\n",
       "      <td>Thai Royal AirForce</td>\n",
       "      <td>0</td>\n",
       "      <td>18</td>\n",
       "      <td>18</td>\n",
       "    </tr>\n",
       "    <tr>\n",
       "      <th>6</th>\n",
       "      <td>2024</td>\n",
       "      <td>Qtr 2</td>\n",
       "      <td>April</td>\n",
       "      <td>23</td>\n",
       "      <td>Alaska</td>\n",
       "      <td>Douglas</td>\n",
       "      <td>Douglas c-54d skymaster n3054v</td>\n",
       "      <td>Near Fairbanks</td>\n",
       "      <td>Alaska AirForce</td>\n",
       "      <td>0</td>\n",
       "      <td>2</td>\n",
       "      <td>2</td>\n",
       "    </tr>\n",
       "    <tr>\n",
       "      <th>7</th>\n",
       "      <td>1958</td>\n",
       "      <td>Qtr 2</td>\n",
       "      <td>April</td>\n",
       "      <td>21</td>\n",
       "      <td>10</td>\n",
       "      <td>Douglas</td>\n",
       "      <td>Douglas dc 7 / f</td>\n",
       "      <td>Near Sloan 10</td>\n",
       "      <td>Nevada      Vegas Las of SW miles United Air L...</td>\n",
       "      <td>0</td>\n",
       "      <td>49</td>\n",
       "      <td>49</td>\n",
       "    </tr>\n",
       "    <tr>\n",
       "      <th>...</th>\n",
       "      <td>...</td>\n",
       "      <td>...</td>\n",
       "      <td>...</td>\n",
       "      <td>...</td>\n",
       "      <td>...</td>\n",
       "      <td>...</td>\n",
       "      <td>...</td>\n",
       "      <td>...</td>\n",
       "      <td>...</td>\n",
       "      <td>...</td>\n",
       "      <td>...</td>\n",
       "      <td>...</td>\n",
       "    </tr>\n",
       "    <tr>\n",
       "      <th>5030</th>\n",
       "      <td>1980</td>\n",
       "      <td>Qtr 3</td>\n",
       "      <td>September</td>\n",
       "      <td>17</td>\n",
       "      <td>Zaire</td>\n",
       "      <td>De havilland</td>\n",
       "      <td>De havilland dhc 5 buffalo9t</td>\n",
       "      <td>Near Kindu Zaire</td>\n",
       "      <td>Zairean AirForce - Militay</td>\n",
       "      <td>0</td>\n",
       "      <td>36</td>\n",
       "      <td>36</td>\n",
       "    </tr>\n",
       "    <tr>\n",
       "      <th>5031</th>\n",
       "      <td>1997</td>\n",
       "      <td>Qtr 3</td>\n",
       "      <td>September</td>\n",
       "      <td>12</td>\n",
       "      <td>Zaire</td>\n",
       "      <td>De havilland canada</td>\n",
       "      <td>De havilland canada dhc 6 twin otter 3009q</td>\n",
       "      <td>Near Uvira Zaire</td>\n",
       "      <td>Commuter Air TMK</td>\n",
       "      <td>0</td>\n",
       "      <td>22</td>\n",
       "      <td>22</td>\n",
       "    </tr>\n",
       "    <tr>\n",
       "      <th>5032</th>\n",
       "      <td>1984</td>\n",
       "      <td>Qtr 3</td>\n",
       "      <td>September</td>\n",
       "      <td>11</td>\n",
       "      <td>Zaire</td>\n",
       "      <td>Handley page dart herald</td>\n",
       "      <td>Handley page dart herald 2029q cah</td>\n",
       "      <td>Near the Kwango River Zaire</td>\n",
       "      <td>M.M.M Aero Services</td>\n",
       "      <td>0</td>\n",
       "      <td>30</td>\n",
       "      <td>30</td>\n",
       "    </tr>\n",
       "    <tr>\n",
       "      <th>5033</th>\n",
       "      <td>1980</td>\n",
       "      <td>Qtr 3</td>\n",
       "      <td>September</td>\n",
       "      <td>14</td>\n",
       "      <td>Zaire</td>\n",
       "      <td>Lockheed hercules</td>\n",
       "      <td>Lockheed hercules c 1309t</td>\n",
       "      <td>Kindu Zaire</td>\n",
       "      <td>Zaïroise Aérienne Force - Military</td>\n",
       "      <td>0</td>\n",
       "      <td>36</td>\n",
       "      <td>36</td>\n",
       "    </tr>\n",
       "    <tr>\n",
       "      <th>5034</th>\n",
       "      <td>1961</td>\n",
       "      <td>Qtr 3</td>\n",
       "      <td>September</td>\n",
       "      <td>17</td>\n",
       "      <td>Zambia</td>\n",
       "      <td>Douglas</td>\n",
       "      <td>Douglas dc 6bse</td>\n",
       "      <td>Ndola Zambia</td>\n",
       "      <td>Sweden Transair</td>\n",
       "      <td>0</td>\n",
       "      <td>16</td>\n",
       "      <td>16</td>\n",
       "    </tr>\n",
       "  </tbody>\n",
       "</table>\n",
       "<p>4758 rows × 12 columns</p>\n",
       "</div>"
      ],
      "text/plain": [
       "      Year Quarter      Month  Day Country/Region     Aircraft Manufacturer  \\\n",
       "3     2000   Qtr 2      April   19         France                   Antonov   \n",
       "4     1946   Qtr 2      April   30         France                   Douglas   \n",
       "5     1960   Qtr 2      April   14         France                   Douglas   \n",
       "6     2024   Qtr 2      April   23         Alaska                   Douglas   \n",
       "7     1958   Qtr 2      April   21             10                   Douglas   \n",
       "...    ...     ...        ...  ...            ...                       ...   \n",
       "5030  1980   Qtr 3  September   17          Zaire              De havilland   \n",
       "5031  1997   Qtr 3  September   12          Zaire       De havilland canada   \n",
       "5032  1984   Qtr 3  September   11          Zaire  Handley page dart herald   \n",
       "5033  1980   Qtr 3  September   14          Zaire         Lockheed hercules   \n",
       "5034  1961   Qtr 3  September   17         Zambia                   Douglas   \n",
       "\n",
       "                                        Aircraft                     Location  \\\n",
       "3                                 Antonov an 8tl                      Pepa  -   \n",
       "4                            Douglas c 47a fz559                Pindi-Khut  -   \n",
       "5                                  Douglas dc 4?                     Taipei -   \n",
       "6                 Douglas c-54d skymaster n3054v               Near Fairbanks   \n",
       "7                               Douglas dc 7 / f                Near Sloan 10   \n",
       "...                                          ...                          ...   \n",
       "5030                De havilland dhc 5 buffalo9t             Near Kindu Zaire   \n",
       "5031  De havilland canada dhc 6 twin otter 3009q             Near Uvira Zaire   \n",
       "5032          Handley page dart herald 2029q cah  Near the Kwango River Zaire   \n",
       "5033                   Lockheed hercules c 1309t                  Kindu Zaire   \n",
       "5034                             Douglas dc 6bse                 Ndola Zambia   \n",
       "\n",
       "                                               Operator  Ground  \\\n",
       "3                               Central African Airline       0   \n",
       "4                             Royal AirForce - Militray       0   \n",
       "5                                   Thai Royal AirForce       0   \n",
       "6                                       Alaska AirForce       0   \n",
       "7     Nevada      Vegas Las of SW miles United Air L...       0   \n",
       "...                                                 ...     ...   \n",
       "5030                         Zairean AirForce - Militay       0   \n",
       "5031                                   Commuter Air TMK       0   \n",
       "5032                                M.M.M Aero Services       0   \n",
       "5033                 Zaïroise Aérienne Force - Military       0   \n",
       "5034                                    Sweden Transair       0   \n",
       "\n",
       "      Fatalities (air)  Aboard  \n",
       "3                   24      24  \n",
       "4                   12      12  \n",
       "5                   18      18  \n",
       "6                    2       2  \n",
       "7                   49      49  \n",
       "...                ...     ...  \n",
       "5030                36      36  \n",
       "5031                22      22  \n",
       "5032                30      30  \n",
       "5033                36      36  \n",
       "5034                16      16  \n",
       "\n",
       "[4758 rows x 12 columns]"
      ]
     },
     "execution_count": 160,
     "metadata": {},
     "output_type": "execute_result"
    }
   ],
   "source": [
    "data"
   ]
  },
  {
   "cell_type": "code",
   "execution_count": 22,
   "metadata": {},
   "outputs": [],
   "source": [
    "# Removing Special Characters\n",
    "\n",
    "data['Location'] = [x.strip(\"-\"\"/\"'?') for x in data['Location']]"
   ]
  },
  {
   "cell_type": "code",
   "execution_count": 23,
   "metadata": {},
   "outputs": [
    {
     "data": {
      "text/html": [
       "<div>\n",
       "<style scoped>\n",
       "    .dataframe tbody tr th:only-of-type {\n",
       "        vertical-align: middle;\n",
       "    }\n",
       "\n",
       "    .dataframe tbody tr th {\n",
       "        vertical-align: top;\n",
       "    }\n",
       "\n",
       "    .dataframe thead th {\n",
       "        text-align: right;\n",
       "    }\n",
       "</style>\n",
       "<table border=\"1\" class=\"dataframe\">\n",
       "  <thead>\n",
       "    <tr style=\"text-align: right;\">\n",
       "      <th></th>\n",
       "      <th>Year</th>\n",
       "      <th>Quarter</th>\n",
       "      <th>Month</th>\n",
       "      <th>Day</th>\n",
       "      <th>Country/Region</th>\n",
       "      <th>Aircraft Manufacturer</th>\n",
       "      <th>Aircraft</th>\n",
       "      <th>Location</th>\n",
       "      <th>Operator</th>\n",
       "      <th>Ground</th>\n",
       "      <th>Fatalities (air)</th>\n",
       "      <th>Aboard</th>\n",
       "    </tr>\n",
       "  </thead>\n",
       "  <tbody>\n",
       "    <tr>\n",
       "      <th>3</th>\n",
       "      <td>2000</td>\n",
       "      <td>Qtr 2</td>\n",
       "      <td>April</td>\n",
       "      <td>19</td>\n",
       "      <td>France</td>\n",
       "      <td>Antonov</td>\n",
       "      <td>Antonov an 8tl</td>\n",
       "      <td>Pepa</td>\n",
       "      <td>Central African Airline</td>\n",
       "      <td>0</td>\n",
       "      <td>24</td>\n",
       "      <td>24</td>\n",
       "    </tr>\n",
       "    <tr>\n",
       "      <th>4</th>\n",
       "      <td>1946</td>\n",
       "      <td>Qtr 2</td>\n",
       "      <td>April</td>\n",
       "      <td>30</td>\n",
       "      <td>France</td>\n",
       "      <td>Douglas</td>\n",
       "      <td>Douglas c 47a fz559</td>\n",
       "      <td>Pindi-Khut</td>\n",
       "      <td>Royal AirForce - Militray</td>\n",
       "      <td>0</td>\n",
       "      <td>12</td>\n",
       "      <td>12</td>\n",
       "    </tr>\n",
       "    <tr>\n",
       "      <th>5</th>\n",
       "      <td>1960</td>\n",
       "      <td>Qtr 2</td>\n",
       "      <td>April</td>\n",
       "      <td>14</td>\n",
       "      <td>France</td>\n",
       "      <td>Douglas</td>\n",
       "      <td>Douglas dc 4?</td>\n",
       "      <td>Taipei</td>\n",
       "      <td>Thai Royal AirForce</td>\n",
       "      <td>0</td>\n",
       "      <td>18</td>\n",
       "      <td>18</td>\n",
       "    </tr>\n",
       "    <tr>\n",
       "      <th>6</th>\n",
       "      <td>2024</td>\n",
       "      <td>Qtr 2</td>\n",
       "      <td>April</td>\n",
       "      <td>23</td>\n",
       "      <td>Alaska</td>\n",
       "      <td>Douglas</td>\n",
       "      <td>Douglas c-54d skymaster n3054v</td>\n",
       "      <td>Near Fairbanks</td>\n",
       "      <td>Alaska AirForce</td>\n",
       "      <td>0</td>\n",
       "      <td>2</td>\n",
       "      <td>2</td>\n",
       "    </tr>\n",
       "    <tr>\n",
       "      <th>7</th>\n",
       "      <td>1958</td>\n",
       "      <td>Qtr 2</td>\n",
       "      <td>April</td>\n",
       "      <td>21</td>\n",
       "      <td>10</td>\n",
       "      <td>Douglas</td>\n",
       "      <td>Douglas dc 7 / f</td>\n",
       "      <td>Near Sloan 10</td>\n",
       "      <td>Nevada      Vegas Las of SW miles United Air L...</td>\n",
       "      <td>0</td>\n",
       "      <td>49</td>\n",
       "      <td>49</td>\n",
       "    </tr>\n",
       "    <tr>\n",
       "      <th>...</th>\n",
       "      <td>...</td>\n",
       "      <td>...</td>\n",
       "      <td>...</td>\n",
       "      <td>...</td>\n",
       "      <td>...</td>\n",
       "      <td>...</td>\n",
       "      <td>...</td>\n",
       "      <td>...</td>\n",
       "      <td>...</td>\n",
       "      <td>...</td>\n",
       "      <td>...</td>\n",
       "      <td>...</td>\n",
       "    </tr>\n",
       "    <tr>\n",
       "      <th>5030</th>\n",
       "      <td>1980</td>\n",
       "      <td>Qtr 3</td>\n",
       "      <td>September</td>\n",
       "      <td>17</td>\n",
       "      <td>Zaire</td>\n",
       "      <td>De havilland</td>\n",
       "      <td>De havilland dhc 5 buffalo9t</td>\n",
       "      <td>Near Kindu Zaire</td>\n",
       "      <td>Zairean AirForce - Militay</td>\n",
       "      <td>0</td>\n",
       "      <td>36</td>\n",
       "      <td>36</td>\n",
       "    </tr>\n",
       "    <tr>\n",
       "      <th>5031</th>\n",
       "      <td>1997</td>\n",
       "      <td>Qtr 3</td>\n",
       "      <td>September</td>\n",
       "      <td>12</td>\n",
       "      <td>Zaire</td>\n",
       "      <td>De havilland canada</td>\n",
       "      <td>De havilland canada dhc 6 twin otter 3009q</td>\n",
       "      <td>Near Uvira Zaire</td>\n",
       "      <td>Commuter Air TMK</td>\n",
       "      <td>0</td>\n",
       "      <td>22</td>\n",
       "      <td>22</td>\n",
       "    </tr>\n",
       "    <tr>\n",
       "      <th>5032</th>\n",
       "      <td>1984</td>\n",
       "      <td>Qtr 3</td>\n",
       "      <td>September</td>\n",
       "      <td>11</td>\n",
       "      <td>Zaire</td>\n",
       "      <td>Handley page dart herald</td>\n",
       "      <td>Handley page dart herald 2029q cah</td>\n",
       "      <td>Near the Kwango River Zaire</td>\n",
       "      <td>M.M.M Aero Services</td>\n",
       "      <td>0</td>\n",
       "      <td>30</td>\n",
       "      <td>30</td>\n",
       "    </tr>\n",
       "    <tr>\n",
       "      <th>5033</th>\n",
       "      <td>1980</td>\n",
       "      <td>Qtr 3</td>\n",
       "      <td>September</td>\n",
       "      <td>14</td>\n",
       "      <td>Zaire</td>\n",
       "      <td>Lockheed hercules</td>\n",
       "      <td>Lockheed hercules c 1309t</td>\n",
       "      <td>Kindu Zaire</td>\n",
       "      <td>Zaïroise Aérienne Force - Military</td>\n",
       "      <td>0</td>\n",
       "      <td>36</td>\n",
       "      <td>36</td>\n",
       "    </tr>\n",
       "    <tr>\n",
       "      <th>5034</th>\n",
       "      <td>1961</td>\n",
       "      <td>Qtr 3</td>\n",
       "      <td>September</td>\n",
       "      <td>17</td>\n",
       "      <td>Zambia</td>\n",
       "      <td>Douglas</td>\n",
       "      <td>Douglas dc 6bse</td>\n",
       "      <td>Ndola Zambia</td>\n",
       "      <td>Sweden Transair</td>\n",
       "      <td>0</td>\n",
       "      <td>16</td>\n",
       "      <td>16</td>\n",
       "    </tr>\n",
       "  </tbody>\n",
       "</table>\n",
       "<p>4758 rows × 12 columns</p>\n",
       "</div>"
      ],
      "text/plain": [
       "      Year Quarter      Month  Day Country/Region     Aircraft Manufacturer  \\\n",
       "3     2000   Qtr 2      April   19         France                   Antonov   \n",
       "4     1946   Qtr 2      April   30         France                   Douglas   \n",
       "5     1960   Qtr 2      April   14         France                   Douglas   \n",
       "6     2024   Qtr 2      April   23         Alaska                   Douglas   \n",
       "7     1958   Qtr 2      April   21             10                   Douglas   \n",
       "...    ...     ...        ...  ...            ...                       ...   \n",
       "5030  1980   Qtr 3  September   17          Zaire              De havilland   \n",
       "5031  1997   Qtr 3  September   12          Zaire       De havilland canada   \n",
       "5032  1984   Qtr 3  September   11          Zaire  Handley page dart herald   \n",
       "5033  1980   Qtr 3  September   14          Zaire         Lockheed hercules   \n",
       "5034  1961   Qtr 3  September   17         Zambia                   Douglas   \n",
       "\n",
       "                                        Aircraft                     Location  \\\n",
       "3                                 Antonov an 8tl                       Pepa     \n",
       "4                            Douglas c 47a fz559                 Pindi-Khut     \n",
       "5                                  Douglas dc 4?                      Taipei    \n",
       "6                 Douglas c-54d skymaster n3054v               Near Fairbanks   \n",
       "7                               Douglas dc 7 / f                Near Sloan 10   \n",
       "...                                          ...                          ...   \n",
       "5030                De havilland dhc 5 buffalo9t             Near Kindu Zaire   \n",
       "5031  De havilland canada dhc 6 twin otter 3009q             Near Uvira Zaire   \n",
       "5032          Handley page dart herald 2029q cah  Near the Kwango River Zaire   \n",
       "5033                   Lockheed hercules c 1309t                  Kindu Zaire   \n",
       "5034                             Douglas dc 6bse                 Ndola Zambia   \n",
       "\n",
       "                                               Operator  Ground  \\\n",
       "3                               Central African Airline       0   \n",
       "4                             Royal AirForce - Militray       0   \n",
       "5                                   Thai Royal AirForce       0   \n",
       "6                                       Alaska AirForce       0   \n",
       "7     Nevada      Vegas Las of SW miles United Air L...       0   \n",
       "...                                                 ...     ...   \n",
       "5030                         Zairean AirForce - Militay       0   \n",
       "5031                                   Commuter Air TMK       0   \n",
       "5032                                M.M.M Aero Services       0   \n",
       "5033                 Zaïroise Aérienne Force - Military       0   \n",
       "5034                                    Sweden Transair       0   \n",
       "\n",
       "      Fatalities (air)  Aboard  \n",
       "3                   24      24  \n",
       "4                   12      12  \n",
       "5                   18      18  \n",
       "6                    2       2  \n",
       "7                   49      49  \n",
       "...                ...     ...  \n",
       "5030                36      36  \n",
       "5031                22      22  \n",
       "5032                30      30  \n",
       "5033                36      36  \n",
       "5034                16      16  \n",
       "\n",
       "[4758 rows x 12 columns]"
      ]
     },
     "execution_count": 23,
     "metadata": {},
     "output_type": "execute_result"
    }
   ],
   "source": [
    "data"
   ]
  },
  {
   "cell_type": "code",
   "execution_count": 24,
   "metadata": {},
   "outputs": [],
   "source": [
    "data['Aircraft'] = [x.strip('-''/''.''?') for x in data['Aircraft']]"
   ]
  },
  {
   "cell_type": "code",
   "execution_count": 25,
   "metadata": {},
   "outputs": [
    {
     "data": {
      "text/html": [
       "<div>\n",
       "<style scoped>\n",
       "    .dataframe tbody tr th:only-of-type {\n",
       "        vertical-align: middle;\n",
       "    }\n",
       "\n",
       "    .dataframe tbody tr th {\n",
       "        vertical-align: top;\n",
       "    }\n",
       "\n",
       "    .dataframe thead th {\n",
       "        text-align: right;\n",
       "    }\n",
       "</style>\n",
       "<table border=\"1\" class=\"dataframe\">\n",
       "  <thead>\n",
       "    <tr style=\"text-align: right;\">\n",
       "      <th></th>\n",
       "      <th>Year</th>\n",
       "      <th>Quarter</th>\n",
       "      <th>Month</th>\n",
       "      <th>Day</th>\n",
       "      <th>Country/Region</th>\n",
       "      <th>Aircraft Manufacturer</th>\n",
       "      <th>Aircraft</th>\n",
       "      <th>Location</th>\n",
       "      <th>Operator</th>\n",
       "      <th>Ground</th>\n",
       "      <th>Fatalities (air)</th>\n",
       "      <th>Aboard</th>\n",
       "    </tr>\n",
       "  </thead>\n",
       "  <tbody>\n",
       "    <tr>\n",
       "      <th>3</th>\n",
       "      <td>2000</td>\n",
       "      <td>Qtr 2</td>\n",
       "      <td>April</td>\n",
       "      <td>19</td>\n",
       "      <td>France</td>\n",
       "      <td>Antonov</td>\n",
       "      <td>Antonov an 8tl</td>\n",
       "      <td>Pepa</td>\n",
       "      <td>Central African Airline</td>\n",
       "      <td>0</td>\n",
       "      <td>24</td>\n",
       "      <td>24</td>\n",
       "    </tr>\n",
       "    <tr>\n",
       "      <th>4</th>\n",
       "      <td>1946</td>\n",
       "      <td>Qtr 2</td>\n",
       "      <td>April</td>\n",
       "      <td>30</td>\n",
       "      <td>France</td>\n",
       "      <td>Douglas</td>\n",
       "      <td>Douglas c 47a fz559</td>\n",
       "      <td>Pindi-Khut</td>\n",
       "      <td>Royal AirForce - Militray</td>\n",
       "      <td>0</td>\n",
       "      <td>12</td>\n",
       "      <td>12</td>\n",
       "    </tr>\n",
       "    <tr>\n",
       "      <th>5</th>\n",
       "      <td>1960</td>\n",
       "      <td>Qtr 2</td>\n",
       "      <td>April</td>\n",
       "      <td>14</td>\n",
       "      <td>France</td>\n",
       "      <td>Douglas</td>\n",
       "      <td>Douglas dc 4</td>\n",
       "      <td>Taipei</td>\n",
       "      <td>Thai Royal AirForce</td>\n",
       "      <td>0</td>\n",
       "      <td>18</td>\n",
       "      <td>18</td>\n",
       "    </tr>\n",
       "    <tr>\n",
       "      <th>6</th>\n",
       "      <td>2024</td>\n",
       "      <td>Qtr 2</td>\n",
       "      <td>April</td>\n",
       "      <td>23</td>\n",
       "      <td>Alaska</td>\n",
       "      <td>Douglas</td>\n",
       "      <td>Douglas c-54d skymaster n3054v</td>\n",
       "      <td>Near Fairbanks</td>\n",
       "      <td>Alaska AirForce</td>\n",
       "      <td>0</td>\n",
       "      <td>2</td>\n",
       "      <td>2</td>\n",
       "    </tr>\n",
       "    <tr>\n",
       "      <th>7</th>\n",
       "      <td>1958</td>\n",
       "      <td>Qtr 2</td>\n",
       "      <td>April</td>\n",
       "      <td>21</td>\n",
       "      <td>10</td>\n",
       "      <td>Douglas</td>\n",
       "      <td>Douglas dc 7 / f</td>\n",
       "      <td>Near Sloan 10</td>\n",
       "      <td>Nevada      Vegas Las of SW miles United Air L...</td>\n",
       "      <td>0</td>\n",
       "      <td>49</td>\n",
       "      <td>49</td>\n",
       "    </tr>\n",
       "    <tr>\n",
       "      <th>...</th>\n",
       "      <td>...</td>\n",
       "      <td>...</td>\n",
       "      <td>...</td>\n",
       "      <td>...</td>\n",
       "      <td>...</td>\n",
       "      <td>...</td>\n",
       "      <td>...</td>\n",
       "      <td>...</td>\n",
       "      <td>...</td>\n",
       "      <td>...</td>\n",
       "      <td>...</td>\n",
       "      <td>...</td>\n",
       "    </tr>\n",
       "    <tr>\n",
       "      <th>5030</th>\n",
       "      <td>1980</td>\n",
       "      <td>Qtr 3</td>\n",
       "      <td>September</td>\n",
       "      <td>17</td>\n",
       "      <td>Zaire</td>\n",
       "      <td>De havilland</td>\n",
       "      <td>De havilland dhc 5 buffalo9t</td>\n",
       "      <td>Near Kindu Zaire</td>\n",
       "      <td>Zairean AirForce - Militay</td>\n",
       "      <td>0</td>\n",
       "      <td>36</td>\n",
       "      <td>36</td>\n",
       "    </tr>\n",
       "    <tr>\n",
       "      <th>5031</th>\n",
       "      <td>1997</td>\n",
       "      <td>Qtr 3</td>\n",
       "      <td>September</td>\n",
       "      <td>12</td>\n",
       "      <td>Zaire</td>\n",
       "      <td>De havilland canada</td>\n",
       "      <td>De havilland canada dhc 6 twin otter 3009q</td>\n",
       "      <td>Near Uvira Zaire</td>\n",
       "      <td>Commuter Air TMK</td>\n",
       "      <td>0</td>\n",
       "      <td>22</td>\n",
       "      <td>22</td>\n",
       "    </tr>\n",
       "    <tr>\n",
       "      <th>5032</th>\n",
       "      <td>1984</td>\n",
       "      <td>Qtr 3</td>\n",
       "      <td>September</td>\n",
       "      <td>11</td>\n",
       "      <td>Zaire</td>\n",
       "      <td>Handley page dart herald</td>\n",
       "      <td>Handley page dart herald 2029q cah</td>\n",
       "      <td>Near the Kwango River Zaire</td>\n",
       "      <td>M.M.M Aero Services</td>\n",
       "      <td>0</td>\n",
       "      <td>30</td>\n",
       "      <td>30</td>\n",
       "    </tr>\n",
       "    <tr>\n",
       "      <th>5033</th>\n",
       "      <td>1980</td>\n",
       "      <td>Qtr 3</td>\n",
       "      <td>September</td>\n",
       "      <td>14</td>\n",
       "      <td>Zaire</td>\n",
       "      <td>Lockheed hercules</td>\n",
       "      <td>Lockheed hercules c 1309t</td>\n",
       "      <td>Kindu Zaire</td>\n",
       "      <td>Zaïroise Aérienne Force - Military</td>\n",
       "      <td>0</td>\n",
       "      <td>36</td>\n",
       "      <td>36</td>\n",
       "    </tr>\n",
       "    <tr>\n",
       "      <th>5034</th>\n",
       "      <td>1961</td>\n",
       "      <td>Qtr 3</td>\n",
       "      <td>September</td>\n",
       "      <td>17</td>\n",
       "      <td>Zambia</td>\n",
       "      <td>Douglas</td>\n",
       "      <td>Douglas dc 6bse</td>\n",
       "      <td>Ndola Zambia</td>\n",
       "      <td>Sweden Transair</td>\n",
       "      <td>0</td>\n",
       "      <td>16</td>\n",
       "      <td>16</td>\n",
       "    </tr>\n",
       "  </tbody>\n",
       "</table>\n",
       "<p>4758 rows × 12 columns</p>\n",
       "</div>"
      ],
      "text/plain": [
       "      Year Quarter      Month  Day Country/Region     Aircraft Manufacturer  \\\n",
       "3     2000   Qtr 2      April   19         France                   Antonov   \n",
       "4     1946   Qtr 2      April   30         France                   Douglas   \n",
       "5     1960   Qtr 2      April   14         France                   Douglas   \n",
       "6     2024   Qtr 2      April   23         Alaska                   Douglas   \n",
       "7     1958   Qtr 2      April   21             10                   Douglas   \n",
       "...    ...     ...        ...  ...            ...                       ...   \n",
       "5030  1980   Qtr 3  September   17          Zaire              De havilland   \n",
       "5031  1997   Qtr 3  September   12          Zaire       De havilland canada   \n",
       "5032  1984   Qtr 3  September   11          Zaire  Handley page dart herald   \n",
       "5033  1980   Qtr 3  September   14          Zaire         Lockheed hercules   \n",
       "5034  1961   Qtr 3  September   17         Zambia                   Douglas   \n",
       "\n",
       "                                        Aircraft                     Location  \\\n",
       "3                                 Antonov an 8tl                       Pepa     \n",
       "4                            Douglas c 47a fz559                 Pindi-Khut     \n",
       "5                                   Douglas dc 4                      Taipei    \n",
       "6                 Douglas c-54d skymaster n3054v               Near Fairbanks   \n",
       "7                               Douglas dc 7 / f                Near Sloan 10   \n",
       "...                                          ...                          ...   \n",
       "5030                De havilland dhc 5 buffalo9t             Near Kindu Zaire   \n",
       "5031  De havilland canada dhc 6 twin otter 3009q             Near Uvira Zaire   \n",
       "5032          Handley page dart herald 2029q cah  Near the Kwango River Zaire   \n",
       "5033                   Lockheed hercules c 1309t                  Kindu Zaire   \n",
       "5034                             Douglas dc 6bse                 Ndola Zambia   \n",
       "\n",
       "                                               Operator  Ground  \\\n",
       "3                               Central African Airline       0   \n",
       "4                             Royal AirForce - Militray       0   \n",
       "5                                   Thai Royal AirForce       0   \n",
       "6                                       Alaska AirForce       0   \n",
       "7     Nevada      Vegas Las of SW miles United Air L...       0   \n",
       "...                                                 ...     ...   \n",
       "5030                         Zairean AirForce - Militay       0   \n",
       "5031                                   Commuter Air TMK       0   \n",
       "5032                                M.M.M Aero Services       0   \n",
       "5033                 Zaïroise Aérienne Force - Military       0   \n",
       "5034                                    Sweden Transair       0   \n",
       "\n",
       "      Fatalities (air)  Aboard  \n",
       "3                   24      24  \n",
       "4                   12      12  \n",
       "5                   18      18  \n",
       "6                    2       2  \n",
       "7                   49      49  \n",
       "...                ...     ...  \n",
       "5030                36      36  \n",
       "5031                22      22  \n",
       "5032                30      30  \n",
       "5033                36      36  \n",
       "5034                16      16  \n",
       "\n",
       "[4758 rows x 12 columns]"
      ]
     },
     "execution_count": 25,
     "metadata": {},
     "output_type": "execute_result"
    }
   ],
   "source": [
    "data"
   ]
  },
  {
   "cell_type": "code",
   "execution_count": 26,
   "metadata": {},
   "outputs": [],
   "source": [
    "# Replacing Values with wrong values \n",
    "replace_dict = {\"10\": \"Alaska\",}\n",
    "data[\"Country/Region\"] = data[\"Country/Region\"].replace(replace_dict)"
   ]
  },
  {
   "cell_type": "code",
   "execution_count": 27,
   "metadata": {},
   "outputs": [
    {
     "data": {
      "text/html": [
       "<div>\n",
       "<style scoped>\n",
       "    .dataframe tbody tr th:only-of-type {\n",
       "        vertical-align: middle;\n",
       "    }\n",
       "\n",
       "    .dataframe tbody tr th {\n",
       "        vertical-align: top;\n",
       "    }\n",
       "\n",
       "    .dataframe thead th {\n",
       "        text-align: right;\n",
       "    }\n",
       "</style>\n",
       "<table border=\"1\" class=\"dataframe\">\n",
       "  <thead>\n",
       "    <tr style=\"text-align: right;\">\n",
       "      <th></th>\n",
       "      <th>Year</th>\n",
       "      <th>Quarter</th>\n",
       "      <th>Month</th>\n",
       "      <th>Day</th>\n",
       "      <th>Country/Region</th>\n",
       "      <th>Aircraft Manufacturer</th>\n",
       "      <th>Aircraft</th>\n",
       "      <th>Location</th>\n",
       "      <th>Operator</th>\n",
       "      <th>Ground</th>\n",
       "      <th>Fatalities (air)</th>\n",
       "      <th>Aboard</th>\n",
       "    </tr>\n",
       "  </thead>\n",
       "  <tbody>\n",
       "    <tr>\n",
       "      <th>3</th>\n",
       "      <td>2000</td>\n",
       "      <td>Qtr 2</td>\n",
       "      <td>April</td>\n",
       "      <td>19</td>\n",
       "      <td>France</td>\n",
       "      <td>Antonov</td>\n",
       "      <td>Antonov an 8tl</td>\n",
       "      <td>Pepa</td>\n",
       "      <td>Central African Airline</td>\n",
       "      <td>0</td>\n",
       "      <td>24</td>\n",
       "      <td>24</td>\n",
       "    </tr>\n",
       "    <tr>\n",
       "      <th>4</th>\n",
       "      <td>1946</td>\n",
       "      <td>Qtr 2</td>\n",
       "      <td>April</td>\n",
       "      <td>30</td>\n",
       "      <td>France</td>\n",
       "      <td>Douglas</td>\n",
       "      <td>Douglas c 47a fz559</td>\n",
       "      <td>Pindi-Khut</td>\n",
       "      <td>Royal AirForce - Militray</td>\n",
       "      <td>0</td>\n",
       "      <td>12</td>\n",
       "      <td>12</td>\n",
       "    </tr>\n",
       "    <tr>\n",
       "      <th>5</th>\n",
       "      <td>1960</td>\n",
       "      <td>Qtr 2</td>\n",
       "      <td>April</td>\n",
       "      <td>14</td>\n",
       "      <td>France</td>\n",
       "      <td>Douglas</td>\n",
       "      <td>Douglas dc 4</td>\n",
       "      <td>Taipei</td>\n",
       "      <td>Thai Royal AirForce</td>\n",
       "      <td>0</td>\n",
       "      <td>18</td>\n",
       "      <td>18</td>\n",
       "    </tr>\n",
       "    <tr>\n",
       "      <th>6</th>\n",
       "      <td>2024</td>\n",
       "      <td>Qtr 2</td>\n",
       "      <td>April</td>\n",
       "      <td>23</td>\n",
       "      <td>Alaska</td>\n",
       "      <td>Douglas</td>\n",
       "      <td>Douglas c-54d skymaster n3054v</td>\n",
       "      <td>Near Fairbanks</td>\n",
       "      <td>Alaska AirForce</td>\n",
       "      <td>0</td>\n",
       "      <td>2</td>\n",
       "      <td>2</td>\n",
       "    </tr>\n",
       "    <tr>\n",
       "      <th>7</th>\n",
       "      <td>1958</td>\n",
       "      <td>Qtr 2</td>\n",
       "      <td>April</td>\n",
       "      <td>21</td>\n",
       "      <td>Alaska</td>\n",
       "      <td>Douglas</td>\n",
       "      <td>Douglas dc 7 / f</td>\n",
       "      <td>Near Sloan 10</td>\n",
       "      <td>Nevada      Vegas Las of SW miles United Air L...</td>\n",
       "      <td>0</td>\n",
       "      <td>49</td>\n",
       "      <td>49</td>\n",
       "    </tr>\n",
       "    <tr>\n",
       "      <th>...</th>\n",
       "      <td>...</td>\n",
       "      <td>...</td>\n",
       "      <td>...</td>\n",
       "      <td>...</td>\n",
       "      <td>...</td>\n",
       "      <td>...</td>\n",
       "      <td>...</td>\n",
       "      <td>...</td>\n",
       "      <td>...</td>\n",
       "      <td>...</td>\n",
       "      <td>...</td>\n",
       "      <td>...</td>\n",
       "    </tr>\n",
       "    <tr>\n",
       "      <th>5030</th>\n",
       "      <td>1980</td>\n",
       "      <td>Qtr 3</td>\n",
       "      <td>September</td>\n",
       "      <td>17</td>\n",
       "      <td>Zaire</td>\n",
       "      <td>De havilland</td>\n",
       "      <td>De havilland dhc 5 buffalo9t</td>\n",
       "      <td>Near Kindu Zaire</td>\n",
       "      <td>Zairean AirForce - Militay</td>\n",
       "      <td>0</td>\n",
       "      <td>36</td>\n",
       "      <td>36</td>\n",
       "    </tr>\n",
       "    <tr>\n",
       "      <th>5031</th>\n",
       "      <td>1997</td>\n",
       "      <td>Qtr 3</td>\n",
       "      <td>September</td>\n",
       "      <td>12</td>\n",
       "      <td>Zaire</td>\n",
       "      <td>De havilland canada</td>\n",
       "      <td>De havilland canada dhc 6 twin otter 3009q</td>\n",
       "      <td>Near Uvira Zaire</td>\n",
       "      <td>Commuter Air TMK</td>\n",
       "      <td>0</td>\n",
       "      <td>22</td>\n",
       "      <td>22</td>\n",
       "    </tr>\n",
       "    <tr>\n",
       "      <th>5032</th>\n",
       "      <td>1984</td>\n",
       "      <td>Qtr 3</td>\n",
       "      <td>September</td>\n",
       "      <td>11</td>\n",
       "      <td>Zaire</td>\n",
       "      <td>Handley page dart herald</td>\n",
       "      <td>Handley page dart herald 2029q cah</td>\n",
       "      <td>Near the Kwango River Zaire</td>\n",
       "      <td>M.M.M Aero Services</td>\n",
       "      <td>0</td>\n",
       "      <td>30</td>\n",
       "      <td>30</td>\n",
       "    </tr>\n",
       "    <tr>\n",
       "      <th>5033</th>\n",
       "      <td>1980</td>\n",
       "      <td>Qtr 3</td>\n",
       "      <td>September</td>\n",
       "      <td>14</td>\n",
       "      <td>Zaire</td>\n",
       "      <td>Lockheed hercules</td>\n",
       "      <td>Lockheed hercules c 1309t</td>\n",
       "      <td>Kindu Zaire</td>\n",
       "      <td>Zaïroise Aérienne Force - Military</td>\n",
       "      <td>0</td>\n",
       "      <td>36</td>\n",
       "      <td>36</td>\n",
       "    </tr>\n",
       "    <tr>\n",
       "      <th>5034</th>\n",
       "      <td>1961</td>\n",
       "      <td>Qtr 3</td>\n",
       "      <td>September</td>\n",
       "      <td>17</td>\n",
       "      <td>Zambia</td>\n",
       "      <td>Douglas</td>\n",
       "      <td>Douglas dc 6bse</td>\n",
       "      <td>Ndola Zambia</td>\n",
       "      <td>Sweden Transair</td>\n",
       "      <td>0</td>\n",
       "      <td>16</td>\n",
       "      <td>16</td>\n",
       "    </tr>\n",
       "  </tbody>\n",
       "</table>\n",
       "<p>4758 rows × 12 columns</p>\n",
       "</div>"
      ],
      "text/plain": [
       "      Year Quarter      Month  Day Country/Region     Aircraft Manufacturer  \\\n",
       "3     2000   Qtr 2      April   19         France                   Antonov   \n",
       "4     1946   Qtr 2      April   30         France                   Douglas   \n",
       "5     1960   Qtr 2      April   14         France                   Douglas   \n",
       "6     2024   Qtr 2      April   23         Alaska                   Douglas   \n",
       "7     1958   Qtr 2      April   21         Alaska                   Douglas   \n",
       "...    ...     ...        ...  ...            ...                       ...   \n",
       "5030  1980   Qtr 3  September   17          Zaire              De havilland   \n",
       "5031  1997   Qtr 3  September   12          Zaire       De havilland canada   \n",
       "5032  1984   Qtr 3  September   11          Zaire  Handley page dart herald   \n",
       "5033  1980   Qtr 3  September   14          Zaire         Lockheed hercules   \n",
       "5034  1961   Qtr 3  September   17         Zambia                   Douglas   \n",
       "\n",
       "                                        Aircraft                     Location  \\\n",
       "3                                 Antonov an 8tl                       Pepa     \n",
       "4                            Douglas c 47a fz559                 Pindi-Khut     \n",
       "5                                   Douglas dc 4                      Taipei    \n",
       "6                 Douglas c-54d skymaster n3054v               Near Fairbanks   \n",
       "7                               Douglas dc 7 / f                Near Sloan 10   \n",
       "...                                          ...                          ...   \n",
       "5030                De havilland dhc 5 buffalo9t             Near Kindu Zaire   \n",
       "5031  De havilland canada dhc 6 twin otter 3009q             Near Uvira Zaire   \n",
       "5032          Handley page dart herald 2029q cah  Near the Kwango River Zaire   \n",
       "5033                   Lockheed hercules c 1309t                  Kindu Zaire   \n",
       "5034                             Douglas dc 6bse                 Ndola Zambia   \n",
       "\n",
       "                                               Operator  Ground  \\\n",
       "3                               Central African Airline       0   \n",
       "4                             Royal AirForce - Militray       0   \n",
       "5                                   Thai Royal AirForce       0   \n",
       "6                                       Alaska AirForce       0   \n",
       "7     Nevada      Vegas Las of SW miles United Air L...       0   \n",
       "...                                                 ...     ...   \n",
       "5030                         Zairean AirForce - Militay       0   \n",
       "5031                                   Commuter Air TMK       0   \n",
       "5032                                M.M.M Aero Services       0   \n",
       "5033                 Zaïroise Aérienne Force - Military       0   \n",
       "5034                                    Sweden Transair       0   \n",
       "\n",
       "      Fatalities (air)  Aboard  \n",
       "3                   24      24  \n",
       "4                   12      12  \n",
       "5                   18      18  \n",
       "6                    2       2  \n",
       "7                   49      49  \n",
       "...                ...     ...  \n",
       "5030                36      36  \n",
       "5031                22      22  \n",
       "5032                30      30  \n",
       "5033                36      36  \n",
       "5034                16      16  \n",
       "\n",
       "[4758 rows x 12 columns]"
      ]
     },
     "execution_count": 27,
     "metadata": {},
     "output_type": "execute_result"
    }
   ],
   "source": [
    "data"
   ]
  },
  {
   "cell_type": "code",
   "execution_count": 28,
   "metadata": {},
   "outputs": [],
   "source": [
    "data['Aircraft Manufacturer'] = [x.strip('-''/''.''?') for x in data['Aircraft Manufacturer']]"
   ]
  },
  {
   "cell_type": "code",
   "execution_count": 29,
   "metadata": {},
   "outputs": [
    {
     "data": {
      "text/html": [
       "<div>\n",
       "<style scoped>\n",
       "    .dataframe tbody tr th:only-of-type {\n",
       "        vertical-align: middle;\n",
       "    }\n",
       "\n",
       "    .dataframe tbody tr th {\n",
       "        vertical-align: top;\n",
       "    }\n",
       "\n",
       "    .dataframe thead th {\n",
       "        text-align: right;\n",
       "    }\n",
       "</style>\n",
       "<table border=\"1\" class=\"dataframe\">\n",
       "  <thead>\n",
       "    <tr style=\"text-align: right;\">\n",
       "      <th></th>\n",
       "      <th>Year</th>\n",
       "      <th>Quarter</th>\n",
       "      <th>Month</th>\n",
       "      <th>Day</th>\n",
       "      <th>Country/Region</th>\n",
       "      <th>Aircraft Manufacturer</th>\n",
       "      <th>Aircraft</th>\n",
       "      <th>Location</th>\n",
       "      <th>Operator</th>\n",
       "      <th>Ground</th>\n",
       "      <th>Fatalities (air)</th>\n",
       "      <th>Aboard</th>\n",
       "    </tr>\n",
       "  </thead>\n",
       "  <tbody>\n",
       "    <tr>\n",
       "      <th>3</th>\n",
       "      <td>2000</td>\n",
       "      <td>Qtr 2</td>\n",
       "      <td>April</td>\n",
       "      <td>19</td>\n",
       "      <td>France</td>\n",
       "      <td>Antonov</td>\n",
       "      <td>Antonov an 8tl</td>\n",
       "      <td>Pepa</td>\n",
       "      <td>Central African Airline</td>\n",
       "      <td>0</td>\n",
       "      <td>24</td>\n",
       "      <td>24</td>\n",
       "    </tr>\n",
       "    <tr>\n",
       "      <th>4</th>\n",
       "      <td>1946</td>\n",
       "      <td>Qtr 2</td>\n",
       "      <td>April</td>\n",
       "      <td>30</td>\n",
       "      <td>France</td>\n",
       "      <td>Douglas</td>\n",
       "      <td>Douglas c 47a fz559</td>\n",
       "      <td>Pindi-Khut</td>\n",
       "      <td>Royal AirForce - Militray</td>\n",
       "      <td>0</td>\n",
       "      <td>12</td>\n",
       "      <td>12</td>\n",
       "    </tr>\n",
       "    <tr>\n",
       "      <th>5</th>\n",
       "      <td>1960</td>\n",
       "      <td>Qtr 2</td>\n",
       "      <td>April</td>\n",
       "      <td>14</td>\n",
       "      <td>France</td>\n",
       "      <td>Douglas</td>\n",
       "      <td>Douglas dc 4</td>\n",
       "      <td>Taipei</td>\n",
       "      <td>Thai Royal AirForce</td>\n",
       "      <td>0</td>\n",
       "      <td>18</td>\n",
       "      <td>18</td>\n",
       "    </tr>\n",
       "    <tr>\n",
       "      <th>6</th>\n",
       "      <td>2024</td>\n",
       "      <td>Qtr 2</td>\n",
       "      <td>April</td>\n",
       "      <td>23</td>\n",
       "      <td>Alaska</td>\n",
       "      <td>Douglas</td>\n",
       "      <td>Douglas c-54d skymaster n3054v</td>\n",
       "      <td>Near Fairbanks</td>\n",
       "      <td>Alaska AirForce</td>\n",
       "      <td>0</td>\n",
       "      <td>2</td>\n",
       "      <td>2</td>\n",
       "    </tr>\n",
       "    <tr>\n",
       "      <th>7</th>\n",
       "      <td>1958</td>\n",
       "      <td>Qtr 2</td>\n",
       "      <td>April</td>\n",
       "      <td>21</td>\n",
       "      <td>Alaska</td>\n",
       "      <td>Douglas</td>\n",
       "      <td>Douglas dc 7 / f</td>\n",
       "      <td>Near Sloan 10</td>\n",
       "      <td>Nevada      Vegas Las of SW miles United Air L...</td>\n",
       "      <td>0</td>\n",
       "      <td>49</td>\n",
       "      <td>49</td>\n",
       "    </tr>\n",
       "    <tr>\n",
       "      <th>...</th>\n",
       "      <td>...</td>\n",
       "      <td>...</td>\n",
       "      <td>...</td>\n",
       "      <td>...</td>\n",
       "      <td>...</td>\n",
       "      <td>...</td>\n",
       "      <td>...</td>\n",
       "      <td>...</td>\n",
       "      <td>...</td>\n",
       "      <td>...</td>\n",
       "      <td>...</td>\n",
       "      <td>...</td>\n",
       "    </tr>\n",
       "    <tr>\n",
       "      <th>5030</th>\n",
       "      <td>1980</td>\n",
       "      <td>Qtr 3</td>\n",
       "      <td>September</td>\n",
       "      <td>17</td>\n",
       "      <td>Zaire</td>\n",
       "      <td>De havilland</td>\n",
       "      <td>De havilland dhc 5 buffalo9t</td>\n",
       "      <td>Near Kindu Zaire</td>\n",
       "      <td>Zairean AirForce - Militay</td>\n",
       "      <td>0</td>\n",
       "      <td>36</td>\n",
       "      <td>36</td>\n",
       "    </tr>\n",
       "    <tr>\n",
       "      <th>5031</th>\n",
       "      <td>1997</td>\n",
       "      <td>Qtr 3</td>\n",
       "      <td>September</td>\n",
       "      <td>12</td>\n",
       "      <td>Zaire</td>\n",
       "      <td>De havilland canada</td>\n",
       "      <td>De havilland canada dhc 6 twin otter 3009q</td>\n",
       "      <td>Near Uvira Zaire</td>\n",
       "      <td>Commuter Air TMK</td>\n",
       "      <td>0</td>\n",
       "      <td>22</td>\n",
       "      <td>22</td>\n",
       "    </tr>\n",
       "    <tr>\n",
       "      <th>5032</th>\n",
       "      <td>1984</td>\n",
       "      <td>Qtr 3</td>\n",
       "      <td>September</td>\n",
       "      <td>11</td>\n",
       "      <td>Zaire</td>\n",
       "      <td>Handley page dart herald</td>\n",
       "      <td>Handley page dart herald 2029q cah</td>\n",
       "      <td>Near the Kwango River Zaire</td>\n",
       "      <td>M.M.M Aero Services</td>\n",
       "      <td>0</td>\n",
       "      <td>30</td>\n",
       "      <td>30</td>\n",
       "    </tr>\n",
       "    <tr>\n",
       "      <th>5033</th>\n",
       "      <td>1980</td>\n",
       "      <td>Qtr 3</td>\n",
       "      <td>September</td>\n",
       "      <td>14</td>\n",
       "      <td>Zaire</td>\n",
       "      <td>Lockheed hercules</td>\n",
       "      <td>Lockheed hercules c 1309t</td>\n",
       "      <td>Kindu Zaire</td>\n",
       "      <td>Zaïroise Aérienne Force - Military</td>\n",
       "      <td>0</td>\n",
       "      <td>36</td>\n",
       "      <td>36</td>\n",
       "    </tr>\n",
       "    <tr>\n",
       "      <th>5034</th>\n",
       "      <td>1961</td>\n",
       "      <td>Qtr 3</td>\n",
       "      <td>September</td>\n",
       "      <td>17</td>\n",
       "      <td>Zambia</td>\n",
       "      <td>Douglas</td>\n",
       "      <td>Douglas dc 6bse</td>\n",
       "      <td>Ndola Zambia</td>\n",
       "      <td>Sweden Transair</td>\n",
       "      <td>0</td>\n",
       "      <td>16</td>\n",
       "      <td>16</td>\n",
       "    </tr>\n",
       "  </tbody>\n",
       "</table>\n",
       "<p>4758 rows × 12 columns</p>\n",
       "</div>"
      ],
      "text/plain": [
       "      Year Quarter      Month  Day Country/Region     Aircraft Manufacturer  \\\n",
       "3     2000   Qtr 2      April   19         France                   Antonov   \n",
       "4     1946   Qtr 2      April   30         France                   Douglas   \n",
       "5     1960   Qtr 2      April   14         France                   Douglas   \n",
       "6     2024   Qtr 2      April   23         Alaska                   Douglas   \n",
       "7     1958   Qtr 2      April   21         Alaska                   Douglas   \n",
       "...    ...     ...        ...  ...            ...                       ...   \n",
       "5030  1980   Qtr 3  September   17          Zaire              De havilland   \n",
       "5031  1997   Qtr 3  September   12          Zaire       De havilland canada   \n",
       "5032  1984   Qtr 3  September   11          Zaire  Handley page dart herald   \n",
       "5033  1980   Qtr 3  September   14          Zaire         Lockheed hercules   \n",
       "5034  1961   Qtr 3  September   17         Zambia                   Douglas   \n",
       "\n",
       "                                        Aircraft                     Location  \\\n",
       "3                                 Antonov an 8tl                       Pepa     \n",
       "4                            Douglas c 47a fz559                 Pindi-Khut     \n",
       "5                                   Douglas dc 4                      Taipei    \n",
       "6                 Douglas c-54d skymaster n3054v               Near Fairbanks   \n",
       "7                               Douglas dc 7 / f                Near Sloan 10   \n",
       "...                                          ...                          ...   \n",
       "5030                De havilland dhc 5 buffalo9t             Near Kindu Zaire   \n",
       "5031  De havilland canada dhc 6 twin otter 3009q             Near Uvira Zaire   \n",
       "5032          Handley page dart herald 2029q cah  Near the Kwango River Zaire   \n",
       "5033                   Lockheed hercules c 1309t                  Kindu Zaire   \n",
       "5034                             Douglas dc 6bse                 Ndola Zambia   \n",
       "\n",
       "                                               Operator  Ground  \\\n",
       "3                               Central African Airline       0   \n",
       "4                             Royal AirForce - Militray       0   \n",
       "5                                   Thai Royal AirForce       0   \n",
       "6                                       Alaska AirForce       0   \n",
       "7     Nevada      Vegas Las of SW miles United Air L...       0   \n",
       "...                                                 ...     ...   \n",
       "5030                         Zairean AirForce - Militay       0   \n",
       "5031                                   Commuter Air TMK       0   \n",
       "5032                                M.M.M Aero Services       0   \n",
       "5033                 Zaïroise Aérienne Force - Military       0   \n",
       "5034                                    Sweden Transair       0   \n",
       "\n",
       "      Fatalities (air)  Aboard  \n",
       "3                   24      24  \n",
       "4                   12      12  \n",
       "5                   18      18  \n",
       "6                    2       2  \n",
       "7                   49      49  \n",
       "...                ...     ...  \n",
       "5030                36      36  \n",
       "5031                22      22  \n",
       "5032                30      30  \n",
       "5033                36      36  \n",
       "5034                16      16  \n",
       "\n",
       "[4758 rows x 12 columns]"
      ]
     },
     "execution_count": 29,
     "metadata": {},
     "output_type": "execute_result"
    }
   ],
   "source": [
    "data"
   ]
  },
  {
   "cell_type": "code",
   "execution_count": 30,
   "metadata": {},
   "outputs": [
    {
     "data": {
      "text/html": [
       "<div>\n",
       "<style scoped>\n",
       "    .dataframe tbody tr th:only-of-type {\n",
       "        vertical-align: middle;\n",
       "    }\n",
       "\n",
       "    .dataframe tbody tr th {\n",
       "        vertical-align: top;\n",
       "    }\n",
       "\n",
       "    .dataframe thead th {\n",
       "        text-align: right;\n",
       "    }\n",
       "</style>\n",
       "<table border=\"1\" class=\"dataframe\">\n",
       "  <thead>\n",
       "    <tr style=\"text-align: right;\">\n",
       "      <th></th>\n",
       "      <th>Year</th>\n",
       "      <th>Quarter</th>\n",
       "      <th>Month</th>\n",
       "      <th>Day</th>\n",
       "      <th>Country/Region</th>\n",
       "      <th>Aircraft Manufacturer</th>\n",
       "      <th>Aircraft</th>\n",
       "      <th>Location</th>\n",
       "      <th>Operator</th>\n",
       "      <th>Ground</th>\n",
       "      <th>Fatalities (air)</th>\n",
       "      <th>Aboard</th>\n",
       "    </tr>\n",
       "  </thead>\n",
       "  <tbody>\n",
       "    <tr>\n",
       "      <th>3</th>\n",
       "      <td>2000</td>\n",
       "      <td>Qtr 2</td>\n",
       "      <td>April</td>\n",
       "      <td>19</td>\n",
       "      <td>France</td>\n",
       "      <td>Antonov</td>\n",
       "      <td>Antonov an 8tl</td>\n",
       "      <td>Pepa</td>\n",
       "      <td>Central African Airline</td>\n",
       "      <td>0</td>\n",
       "      <td>24</td>\n",
       "      <td>24</td>\n",
       "    </tr>\n",
       "    <tr>\n",
       "      <th>4</th>\n",
       "      <td>1946</td>\n",
       "      <td>Qtr 2</td>\n",
       "      <td>April</td>\n",
       "      <td>30</td>\n",
       "      <td>France</td>\n",
       "      <td>Douglas</td>\n",
       "      <td>Douglas c 47a fz559</td>\n",
       "      <td>Pindi-Khut</td>\n",
       "      <td>Royal AirForce - Militray</td>\n",
       "      <td>0</td>\n",
       "      <td>12</td>\n",
       "      <td>12</td>\n",
       "    </tr>\n",
       "    <tr>\n",
       "      <th>5</th>\n",
       "      <td>1960</td>\n",
       "      <td>Qtr 2</td>\n",
       "      <td>April</td>\n",
       "      <td>14</td>\n",
       "      <td>France</td>\n",
       "      <td>Douglas</td>\n",
       "      <td>Douglas dc 4</td>\n",
       "      <td>Taipei</td>\n",
       "      <td>Thai Royal AirForce</td>\n",
       "      <td>0</td>\n",
       "      <td>18</td>\n",
       "      <td>18</td>\n",
       "    </tr>\n",
       "    <tr>\n",
       "      <th>6</th>\n",
       "      <td>2024</td>\n",
       "      <td>Qtr 2</td>\n",
       "      <td>April</td>\n",
       "      <td>23</td>\n",
       "      <td>Alaska</td>\n",
       "      <td>Douglas</td>\n",
       "      <td>Douglas c-54d skymaster n3054v</td>\n",
       "      <td>Near Fairbanks</td>\n",
       "      <td>Alaska AirForce</td>\n",
       "      <td>0</td>\n",
       "      <td>2</td>\n",
       "      <td>2</td>\n",
       "    </tr>\n",
       "    <tr>\n",
       "      <th>7</th>\n",
       "      <td>1958</td>\n",
       "      <td>Qtr 2</td>\n",
       "      <td>April</td>\n",
       "      <td>21</td>\n",
       "      <td>Alaska</td>\n",
       "      <td>Douglas</td>\n",
       "      <td>Douglas dc 7 / f</td>\n",
       "      <td>Near Sloan 10</td>\n",
       "      <td>Nevada      Vegas Las of SW miles United Air L...</td>\n",
       "      <td>0</td>\n",
       "      <td>49</td>\n",
       "      <td>49</td>\n",
       "    </tr>\n",
       "    <tr>\n",
       "      <th>...</th>\n",
       "      <td>...</td>\n",
       "      <td>...</td>\n",
       "      <td>...</td>\n",
       "      <td>...</td>\n",
       "      <td>...</td>\n",
       "      <td>...</td>\n",
       "      <td>...</td>\n",
       "      <td>...</td>\n",
       "      <td>...</td>\n",
       "      <td>...</td>\n",
       "      <td>...</td>\n",
       "      <td>...</td>\n",
       "    </tr>\n",
       "    <tr>\n",
       "      <th>5030</th>\n",
       "      <td>1980</td>\n",
       "      <td>Qtr 3</td>\n",
       "      <td>September</td>\n",
       "      <td>17</td>\n",
       "      <td>Zaire</td>\n",
       "      <td>De havilland</td>\n",
       "      <td>De havilland dhc 5 buffalo9t</td>\n",
       "      <td>Near Kindu Zaire</td>\n",
       "      <td>Zairean AirForce - Militay</td>\n",
       "      <td>0</td>\n",
       "      <td>36</td>\n",
       "      <td>36</td>\n",
       "    </tr>\n",
       "    <tr>\n",
       "      <th>5031</th>\n",
       "      <td>1997</td>\n",
       "      <td>Qtr 3</td>\n",
       "      <td>September</td>\n",
       "      <td>12</td>\n",
       "      <td>Zaire</td>\n",
       "      <td>De havilland canada</td>\n",
       "      <td>De havilland canada dhc 6 twin otter 3009q</td>\n",
       "      <td>Near Uvira Zaire</td>\n",
       "      <td>Commuter Air TMK</td>\n",
       "      <td>0</td>\n",
       "      <td>22</td>\n",
       "      <td>22</td>\n",
       "    </tr>\n",
       "    <tr>\n",
       "      <th>5032</th>\n",
       "      <td>1984</td>\n",
       "      <td>Qtr 3</td>\n",
       "      <td>September</td>\n",
       "      <td>11</td>\n",
       "      <td>Zaire</td>\n",
       "      <td>Handley page dart herald</td>\n",
       "      <td>Handley page dart herald 2029q cah</td>\n",
       "      <td>Near the Kwango River Zaire</td>\n",
       "      <td>M.M.M Aero Services</td>\n",
       "      <td>0</td>\n",
       "      <td>30</td>\n",
       "      <td>30</td>\n",
       "    </tr>\n",
       "    <tr>\n",
       "      <th>5033</th>\n",
       "      <td>1980</td>\n",
       "      <td>Qtr 3</td>\n",
       "      <td>September</td>\n",
       "      <td>14</td>\n",
       "      <td>Zaire</td>\n",
       "      <td>Lockheed hercules</td>\n",
       "      <td>Lockheed hercules c 1309t</td>\n",
       "      <td>Kindu Zaire</td>\n",
       "      <td>Zaïroise Aérienne Force - Military</td>\n",
       "      <td>0</td>\n",
       "      <td>36</td>\n",
       "      <td>36</td>\n",
       "    </tr>\n",
       "    <tr>\n",
       "      <th>5034</th>\n",
       "      <td>1961</td>\n",
       "      <td>Qtr 3</td>\n",
       "      <td>September</td>\n",
       "      <td>17</td>\n",
       "      <td>Zambia</td>\n",
       "      <td>Douglas</td>\n",
       "      <td>Douglas dc 6bse</td>\n",
       "      <td>Ndola Zambia</td>\n",
       "      <td>Sweden Transair</td>\n",
       "      <td>0</td>\n",
       "      <td>16</td>\n",
       "      <td>16</td>\n",
       "    </tr>\n",
       "  </tbody>\n",
       "</table>\n",
       "<p>4758 rows × 12 columns</p>\n",
       "</div>"
      ],
      "text/plain": [
       "      Year Quarter      Month  Day Country/Region     Aircraft Manufacturer  \\\n",
       "3     2000   Qtr 2      April   19         France                   Antonov   \n",
       "4     1946   Qtr 2      April   30         France                   Douglas   \n",
       "5     1960   Qtr 2      April   14         France                   Douglas   \n",
       "6     2024   Qtr 2      April   23         Alaska                   Douglas   \n",
       "7     1958   Qtr 2      April   21         Alaska                   Douglas   \n",
       "...    ...     ...        ...  ...            ...                       ...   \n",
       "5030  1980   Qtr 3  September   17          Zaire              De havilland   \n",
       "5031  1997   Qtr 3  September   12          Zaire       De havilland canada   \n",
       "5032  1984   Qtr 3  September   11          Zaire  Handley page dart herald   \n",
       "5033  1980   Qtr 3  September   14          Zaire         Lockheed hercules   \n",
       "5034  1961   Qtr 3  September   17         Zambia                   Douglas   \n",
       "\n",
       "                                        Aircraft                     Location  \\\n",
       "3                                 Antonov an 8tl                       Pepa     \n",
       "4                            Douglas c 47a fz559                 Pindi-Khut     \n",
       "5                                   Douglas dc 4                      Taipei    \n",
       "6                 Douglas c-54d skymaster n3054v               Near Fairbanks   \n",
       "7                               Douglas dc 7 / f                Near Sloan 10   \n",
       "...                                          ...                          ...   \n",
       "5030                De havilland dhc 5 buffalo9t             Near Kindu Zaire   \n",
       "5031  De havilland canada dhc 6 twin otter 3009q             Near Uvira Zaire   \n",
       "5032          Handley page dart herald 2029q cah  Near the Kwango River Zaire   \n",
       "5033                   Lockheed hercules c 1309t                  Kindu Zaire   \n",
       "5034                             Douglas dc 6bse                 Ndola Zambia   \n",
       "\n",
       "                                               Operator  Ground  \\\n",
       "3                               Central African Airline       0   \n",
       "4                             Royal AirForce - Militray       0   \n",
       "5                                   Thai Royal AirForce       0   \n",
       "6                                       Alaska AirForce       0   \n",
       "7     Nevada      Vegas Las of SW miles United Air L...       0   \n",
       "...                                                 ...     ...   \n",
       "5030                         Zairean AirForce - Militay       0   \n",
       "5031                                   Commuter Air TMK       0   \n",
       "5032                                M.M.M Aero Services       0   \n",
       "5033                 Zaïroise Aérienne Force - Military       0   \n",
       "5034                                    Sweden Transair       0   \n",
       "\n",
       "      Fatalities (air)  Aboard  \n",
       "3                   24      24  \n",
       "4                   12      12  \n",
       "5                   18      18  \n",
       "6                    2       2  \n",
       "7                   49      49  \n",
       "...                ...     ...  \n",
       "5030                36      36  \n",
       "5031                22      22  \n",
       "5032                30      30  \n",
       "5033                36      36  \n",
       "5034                16      16  \n",
       "\n",
       "[4758 rows x 12 columns]"
      ]
     },
     "execution_count": 30,
     "metadata": {},
     "output_type": "execute_result"
    }
   ],
   "source": [
    "data"
   ]
  },
  {
   "cell_type": "code",
   "execution_count": 31,
   "metadata": {},
   "outputs": [],
   "source": [
    "data.to_csv(\"C:\\\\Users\\\\dell\\\\Desktop\\\\NewAircrash.xlsx\")"
   ]
  },
  {
   "cell_type": "code",
   "execution_count": 32,
   "metadata": {},
   "outputs": [
    {
     "data": {
      "image/png": "[encoded data removed]",
      "text/plain": [
       "<Figure size 1200x600 with 1 Axes>"
      ]
     },
     "metadata": {},
     "output_type": "display_data"
    }
   ],
   "source": [
    "crashes_per_year = data.groupby('Year').size()\n",
    "\n",
    "# Plot the number of crashes per year\n",
    "plt.figure(figsize=(12, 6))\n",
    "plt.plot(crashes_per_year.index, crashes_per_year.values, marker='o', linestyle='-')\n",
    "plt.title('Air Crashes Over the Years')\n",
    "plt.xlabel('Year')\n",
    "plt.ylabel('Number of Crashes')\n",
    "plt.grid(True)\n",
    "plt.show()\n"
   ]
  },
  {
   "cell_type": "code",
   "execution_count": 33,
   "metadata": {},
   "outputs": [],
   "source": [
    "import plotly.express as px"
   ]
  },
  {
   "cell_type": "code",
   "execution_count": 34,
   "metadata": {},
   "outputs": [
    {
     "data": {
      "application/vnd.plotly.v1+json": {
       "config": {
        "plotlyServerURL": "https://plot.ly"
       },
       "data": [
        {
         "hovertemplate": "Year=%{x}<br>Count=%{y}<extra></extra>",
         "legendgroup": "",
         "line": {
          "color": "#636efa",
          "dash": "solid"
         },
         "marker": {
          "symbol": "circle"
         },
         "mode": "lines",
         "name": "",
         "orientation": "v",
         "showlegend": false,
         "type": "scatter",
         "x": [
          1908,
          1912,
          1913,
          1915,
          1916,
          1917,
          1918,
          1919,
          1920,
          1921,
          1922,
          1923,
          1924,
          1925,
          1926,
          1927,
          1928,
          1929,
          1930,
          1931,
          1932,
          1933,
          1934,
          1935,
          1936,
          1937,
          1938,
          1939,
          1940,
          1941,
          1942,
          1943,
          1944,
          1945,
          1946,
          1947,
          1948,
          1949,
          1950,
          1951,
          1952,
          1953,
          1954,
          1955,
          1956,
          1957,
          1958,
          1959,
          1960,
          1961,
          1962,
          1963,
          1964,
          1965,
          1966,
          1967,
          1968,
          1969,
          1970,
          1971,
          1972,
          1973,
          1974,
          1975,
          1976,
          1977,
          1978,
          1979,
          1980,
          1981,
          1982,
          1983,
          1984,
          1985,
          1986,
          1987,
          1988,
          1989,
          1990,
          1991,
          1992,
          1993,
          1994,
          1995,
          1996,
          1997,
          1998,
          1999,
          2000,
          2001,
          2002,
          2003,
          2004,
          2005,
          2006,
          2007,
          2008,
          2009,
          2010,
          2011,
          2012,
          2013,
          2014,
          2015,
          2016,
          2017,
          2018,
          2019,
          2020,
          2021,
          2022,
          2023,
          2024
         ],
         "xaxis": "x",
         "y": [
          1,
          1,
          2,
          2,
          5,
          4,
          3,
          9,
          18,
          11,
          10,
          11,
          5,
          11,
          11,
          17,
          33,
          35,
          26,
          30,
          28,
          26,
          28,
          40,
          45,
          33,
          53,
          25,
          21,
          24,
          33,
          38,
          48,
          67,
          83,
          77,
          72,
          67,
          67,
          71,
          62,
          69,
          60,
          55,
          49,
          64,
          65,
          64,
          67,
          56,
          71,
          62,
          57,
          62,
          59,
          59,
          64,
          67,
          65,
          56,
          70,
          59,
          54,
          49,
          53,
          57,
          50,
          57,
          41,
          48,
          47,
          46,
          46,
          54,
          50,
          50,
          58,
          76,
          60,
          64,
          65,
          56,
          70,
          59,
          68,
          53,
          58,
          61,
          63,
          58,
          55,
          59,
          46,
          44,
          35,
          43,
          50,
          44,
          39,
          35,
          25,
          24,
          20,
          18,
          21,
          15,
          19,
          13,
          8,
          9,
          5,
          2,
          5
         ],
         "yaxis": "y"
        }
       ],
       "layout": {
        "legend": {
         "tracegroupgap": 0
        },
        "template": {
         "data": {
          "bar": [
           {
            "error_x": {
             "color": "#2a3f5f"
            },
            "error_y": {
             "color": "#2a3f5f"
            },
            "marker": {
             "line": {
              "color": "#E5ECF6",
              "width": 0.5
             },
             "pattern": {
              "fillmode": "overlay",
              "size": 10,
              "solidity": 0.2
             }
            },
            "type": "bar"
           }
          ],
          "barpolar": [
           {
            "marker": {
             "line": {
              "color": "#E5ECF6",
              "width": 0.5
             },
             "pattern": {
              "fillmode": "overlay",
              "size": 10,
              "solidity": 0.2
             }
            },
            "type": "barpolar"
           }
          ],
          "carpet": [
           {
            "aaxis": {
             "endlinecolor": "#2a3f5f",
             "gridcolor": "white",
             "linecolor": "white",
             "minorgridcolor": "white",
             "startlinecolor": "#2a3f5f"
            },
            "baxis": {
             "endlinecolor": "#2a3f5f",
             "gridcolor": "white",
             "linecolor": "white",
             "minorgridcolor": "white",
             "startlinecolor": "#2a3f5f"
            },
            "type": "carpet"
           }
          ],
          "choropleth": [
           {
            "colorbar": {
             "outlinewidth": 0,
             "ticks": ""
            },
            "type": "choropleth"
           }
          ],
          "contour": [
           {
            "colorbar": {
             "outlinewidth": 0,
             "ticks": ""
            },
            "colorscale": [
             [
              0,
              "#0d0887"
             ],
             [
              0.1111111111111111,
              "#46039f"
             ],
             [
              0.2222222222222222,
              "#7201a8"
             ],
             [
              0.3333333333333333,
              "#9c179e"
             ],
             [
              0.4444444444444444,
              "#bd3786"
             ],
             [
              0.5555555555555556,
              "#d8576b"
             ],
             [
              0.6666666666666666,
              "#ed7953"
             ],
             [
              0.7777777777777778,
              "#fb9f3a"
             ],
             [
              0.8888888888888888,
              "#fdca26"
             ],
             [
              1,
              "#f0f921"
             ]
            ],
            "type": "contour"
           }
          ],
          "contourcarpet": [
           {
            "colorbar": {
             "outlinewidth": 0,
             "ticks": ""
            },
            "type": "contourcarpet"
           }
          ],
          "heatmap": [
           {
            "colorbar": {
             "outlinewidth": 0,
             "ticks": ""
            },
            "colorscale": [
             [
              0,
              "#0d0887"
             ],
             [
              0.1111111111111111,
              "#46039f"
             ],
             [
              0.2222222222222222,
              "#7201a8"
             ],
             [
              0.3333333333333333,
              "#9c179e"
             ],
             [
              0.4444444444444444,
              "#bd3786"
             ],
             [
              0.5555555555555556,
              "#d8576b"
             ],
             [
              0.6666666666666666,
              "#ed7953"
             ],
             [
              0.7777777777777778,
              "#fb9f3a"
             ],
             [
              0.8888888888888888,
              "#fdca26"
             ],
             [
              1,
              "#f0f921"
             ]
            ],
            "type": "heatmap"
           }
          ],
          "heatmapgl": [
           {
            "colorbar": {
             "outlinewidth": 0,
             "ticks": ""
            },
            "colorscale": [
             [
              0,
              "#0d0887"
             ],
             [
              0.1111111111111111,
              "#46039f"
             ],
             [
              0.2222222222222222,
              "#7201a8"
             ],
             [
              0.3333333333333333,
              "#9c179e"
             ],
             [
              0.4444444444444444,
              "#bd3786"
             ],
             [
              0.5555555555555556,
              "#d8576b"
             ],
             [
              0.6666666666666666,
              "#ed7953"
             ],
             [
              0.7777777777777778,
              "#fb9f3a"
             ],
             [
              0.8888888888888888,
              "#fdca26"
             ],
             [
              1,
              "#f0f921"
             ]
            ],
            "type": "heatmapgl"
           }
          ],
          "histogram": [
           {
            "marker": {
             "pattern": {
              "fillmode": "overlay",
              "size": 10,
              "solidity": 0.2
             }
            },
            "type": "histogram"
           }
          ],
          "histogram2d": [
           {
            "colorbar": {
             "outlinewidth": 0,
             "ticks": ""
            },
            "colorscale": [
             [
              0,
              "#0d0887"
             ],
             [
              0.1111111111111111,
              "#46039f"
             ],
             [
              0.2222222222222222,
              "#7201a8"
             ],
             [
              0.3333333333333333,
              "#9c179e"
             ],
             [
              0.4444444444444444,
              "#bd3786"
             ],
             [
              0.5555555555555556,
              "#d8576b"
             ],
             [
              0.6666666666666666,
              "#ed7953"
             ],
             [
              0.7777777777777778,
              "#fb9f3a"
             ],
             [
              0.8888888888888888,
              "#fdca26"
             ],
             [
              1,
              "#f0f921"
             ]
            ],
            "type": "histogram2d"
           }
          ],
          "histogram2dcontour": [
           {
            "colorbar": {
             "outlinewidth": 0,
             "ticks": ""
            },
            "colorscale": [
             [
              0,
              "#0d0887"
             ],
             [
              0.1111111111111111,
              "#46039f"
             ],
             [
              0.2222222222222222,
              "#7201a8"
             ],
             [
              0.3333333333333333,
              "#9c179e"
             ],
             [
              0.4444444444444444,
              "#bd3786"
             ],
             [
              0.5555555555555556,
              "#d8576b"
             ],
             [
              0.6666666666666666,
              "#ed7953"
             ],
             [
              0.7777777777777778,
              "#fb9f3a"
             ],
             [
              0.8888888888888888,
              "#fdca26"
             ],
             [
              1,
              "#f0f921"
             ]
            ],
            "type": "histogram2dcontour"
           }
          ],
          "mesh3d": [
           {
            "colorbar": {
             "outlinewidth": 0,
             "ticks": ""
            },
            "type": "mesh3d"
           }
          ],
          "parcoords": [
           {
            "line": {
             "colorbar": {
              "outlinewidth": 0,
              "ticks": ""
             }
            },
            "type": "parcoords"
           }
          ],
          "pie": [
           {
            "automargin": true,
            "type": "pie"
           }
          ],
          "scatter": [
           {
            "fillpattern": {
             "fillmode": "overlay",
             "size": 10,
             "solidity": 0.2
            },
            "type": "scatter"
           }
          ],
          "scatter3d": [
           {
            "line": {
             "colorbar": {
              "outlinewidth": 0,
              "ticks": ""
             }
            },
            "marker": {
             "colorbar": {
              "outlinewidth": 0,
              "ticks": ""
             }
            },
            "type": "scatter3d"
           }
          ],
          "scattercarpet": [
           {
            "marker": {
             "colorbar": {
              "outlinewidth": 0,
              "ticks": ""
             }
            },
            "type": "scattercarpet"
           }
          ],
          "scattergeo": [
           {
            "marker": {
             "colorbar": {
              "outlinewidth": 0,
              "ticks": ""
             }
            },
            "type": "scattergeo"
           }
          ],
          "scattergl": [
           {
            "marker": {
             "colorbar": {
              "outlinewidth": 0,
              "ticks": ""
             }
            },
            "type": "scattergl"
           }
          ],
          "scattermapbox": [
           {
            "marker": {
             "colorbar": {
              "outlinewidth": 0,
              "ticks": ""
             }
            },
            "type": "scattermapbox"
           }
          ],
          "scatterpolar": [
           {
            "marker": {
             "colorbar": {
              "outlinewidth": 0,
              "ticks": ""
             }
            },
            "type": "scatterpolar"
           }
          ],
          "scatterpolargl": [
           {
            "marker": {
             "colorbar": {
              "outlinewidth": 0,
              "ticks": ""
             }
            },
            "type": "scatterpolargl"
           }
          ],
          "scatterternary": [
           {
            "marker": {
             "colorbar": {
              "outlinewidth": 0,
              "ticks": ""
             }
            },
            "type": "scatterternary"
           }
          ],
          "surface": [
           {
            "colorbar": {
             "outlinewidth": 0,
             "ticks": ""
            },
            "colorscale": [
             [
              0,
              "#0d0887"
             ],
             [
              0.1111111111111111,
              "#46039f"
             ],
             [
              0.2222222222222222,
              "#7201a8"
             ],
             [
              0.3333333333333333,
              "#9c179e"
             ],
             [
              0.4444444444444444,
              "#bd3786"
             ],
             [
              0.5555555555555556,
              "#d8576b"
             ],
             [
              0.6666666666666666,
              "#ed7953"
             ],
             [
              0.7777777777777778,
              "#fb9f3a"
             ],
             [
              0.8888888888888888,
              "#fdca26"
             ],
             [
              1,
              "#f0f921"
             ]
            ],
            "type": "surface"
           }
          ],
          "table": [
           {
            "cells": {
             "fill": {
              "color": "#EBF0F8"
             },
             "line": {
              "color": "white"
             }
            },
            "header": {
             "fill": {
              "color": "#C8D4E3"
             },
             "line": {
              "color": "white"
             }
            },
            "type": "table"
           }
          ]
         },
         "layout": {
          "annotationdefaults": {
           "arrowcolor": "#2a3f5f",
           "arrowhead": 0,
           "arrowwidth": 1
          },
          "autotypenumbers": "strict",
          "coloraxis": {
           "colorbar": {
            "outlinewidth": 0,
            "ticks": ""
           }
          },
          "colorscale": {
           "diverging": [
            [
             0,
             "#8e0152"
            ],
            [
             0.1,
             "#c51b7d"
            ],
            [
             0.2,
             "#de77ae"
            ],
            [
             0.3,
             "#f1b6da"
            ],
            [
             0.4,
             "#fde0ef"
            ],
            [
             0.5,
             "#f7f7f7"
            ],
            [
             0.6,
             "#e6f5d0"
            ],
            [
             0.7,
             "#b8e186"
            ],
            [
             0.8,
             "#7fbc41"
            ],
            [
             0.9,
             "#4d9221"
            ],
            [
             1,
             "#276419"
            ]
           ],
           "sequential": [
            [
             0,
             "#0d0887"
            ],
            [
             0.1111111111111111,
             "#46039f"
            ],
            [
             0.2222222222222222,
             "#7201a8"
            ],
            [
             0.3333333333333333,
             "#9c179e"
            ],
            [
             0.4444444444444444,
             "#bd3786"
            ],
            [
             0.5555555555555556,
             "#d8576b"
            ],
            [
             0.6666666666666666,
             "#ed7953"
            ],
            [
             0.7777777777777778,
             "#fb9f3a"
            ],
            [
             0.8888888888888888,
             "#fdca26"
            ],
            [
             1,
             "#f0f921"
            ]
           ],
           "sequentialminus": [
            [
             0,
             "#0d0887"
            ],
            [
             0.1111111111111111,
             "#46039f"
            ],
            [
             0.2222222222222222,
             "#7201a8"
            ],
            [
             0.3333333333333333,
             "#9c179e"
            ],
            [
             0.4444444444444444,
             "#bd3786"
            ],
            [
             0.5555555555555556,
             "#d8576b"
            ],
            [
             0.6666666666666666,
             "#ed7953"
            ],
            [
             0.7777777777777778,
             "#fb9f3a"
            ],
            [
             0.8888888888888888,
             "#fdca26"
            ],
            [
             1,
             "#f0f921"
            ]
           ]
          },
          "colorway": [
           "#636efa",
           "#EF553B",
           "#00cc96",
           "#ab63fa",
           "#FFA15A",
           "#19d3f3",
           "#FF6692",
           "#B6E880",
           "#FF97FF",
           "#FECB52"
          ],
          "font": {
           "color": "#2a3f5f"
          },
          "geo": {
           "bgcolor": "white",
           "lakecolor": "white",
           "landcolor": "#E5ECF6",
           "showlakes": true,
           "showland": true,
           "subunitcolor": "white"
          },
          "hoverlabel": {
           "align": "left"
          },
          "hovermode": "closest",
          "mapbox": {
           "style": "light"
          },
          "paper_bgcolor": "white",
          "plot_bgcolor": "#E5ECF6",
          "polar": {
           "angularaxis": {
            "gridcolor": "white",
            "linecolor": "white",
            "ticks": ""
           },
           "bgcolor": "#E5ECF6",
           "radialaxis": {
            "gridcolor": "white",
            "linecolor": "white",
            "ticks": ""
           }
          },
          "scene": {
           "xaxis": {
            "backgroundcolor": "#E5ECF6",
            "gridcolor": "white",
            "gridwidth": 2,
            "linecolor": "white",
            "showbackground": true,
            "ticks": "",
            "zerolinecolor": "white"
           },
           "yaxis": {
            "backgroundcolor": "#E5ECF6",
            "gridcolor": "white",
            "gridwidth": 2,
            "linecolor": "white",
            "showbackground": true,
            "ticks": "",
            "zerolinecolor": "white"
           },
           "zaxis": {
            "backgroundcolor": "#E5ECF6",
            "gridcolor": "white",
            "gridwidth": 2,
            "linecolor": "white",
            "showbackground": true,
            "ticks": "",
            "zerolinecolor": "white"
           }
          },
          "shapedefaults": {
           "line": {
            "color": "#2a3f5f"
           }
          },
          "ternary": {
           "aaxis": {
            "gridcolor": "white",
            "linecolor": "white",
            "ticks": ""
           },
           "baxis": {
            "gridcolor": "white",
            "linecolor": "white",
            "ticks": ""
           },
           "bgcolor": "#E5ECF6",
           "caxis": {
            "gridcolor": "white",
            "linecolor": "white",
            "ticks": ""
           }
          },
          "title": {
           "x": 0.05
          },
          "xaxis": {
           "automargin": true,
           "gridcolor": "white",
           "linecolor": "white",
           "ticks": "",
           "title": {
            "standoff": 15
           },
           "zerolinecolor": "white",
           "zerolinewidth": 2
          },
          "yaxis": {
           "automargin": true,
           "gridcolor": "white",
           "linecolor": "white",
           "ticks": "",
           "title": {
            "standoff": 15
           },
           "zerolinecolor": "white",
           "zerolinewidth": 2
          }
         }
        },
        "title": {
         "text": "Air Crashes Over the Years"
        },
        "xaxis": {
         "anchor": "y",
         "domain": [
          0,
          1
         ],
         "title": {
          "text": "Year"
         },
         "type": "category"
        },
        "yaxis": {
         "anchor": "x",
         "domain": [
          0,
          1
         ],
         "title": {
          "text": "Number of Crashes"
         }
        }
       }
      }
     },
     "metadata": {},
     "output_type": "display_data"
    }
   ],
   "source": [
    "# Group the data by year and count the number of crashes per year\n",
    "crashes_per_year = data.groupby('Year').size().reset_index(name='Count')\n",
    "# Create an interactive time series plot using Plotly\n",
    "fig = px.line(crashes_per_year, x='Year', y='Count', title='Air Crashes Over the Years')\n",
    "fig.update_xaxes(title='Year')\n",
    "fig.update_yaxes(title='Number of Crashes')\n",
    "fig.update_layout(xaxis=dict(type='category'))"
   ]
  },
  {
   "cell_type": "markdown",
   "metadata": {},
   "source": [
    "FINDINGS-1\n",
    ".The number of crashes gradually increased from 1908\n",
    ".Till 1943 the accidents were only confined to 40 or less than that.\n",
    ".After 1944 and upto the  2005 number rapidly increased which were greater than 40 and almost near to 80 crashes.\n",
    ".From 1945 the number increases much more and each year minimum of 60 crashes sarted talking place and the number went till 80+\n",
    ".After the advancement of auto-pilot some other major innovations of the air craft, the number started decreasing after year 2000, but upto 2008 there were minimum of 50 crashes happening.\n",
    ".The years 2005, 2006, 2007, 2009 had minimum of 40 crashes.\n",
    ".After 2009, The numbers are drastically low, because of the capabilities of the modern aircraft."
   ]
  },
  {
   "cell_type": "code",
   "execution_count": 35,
   "metadata": {},
   "outputs": [],
   "source": [
    "from statsmodels.tsa.stattools import acf, pacf"
   ]
  },
  {
   "cell_type": "code",
   "execution_count": 36,
   "metadata": {},
   "outputs": [
    {
     "data": {
      "application/vnd.plotly.v1+json": {
       "config": {
        "plotlyServerURL": "https://plot.ly"
       },
       "data": [
        {
         "alignmentgroup": "True",
         "hovertemplate": "Quarter=%{x}<br>Number of Crashes=%{y}<extra></extra>",
         "legendgroup": "",
         "marker": {
          "color": "#636efa",
          "pattern": {
           "shape": ""
          }
         },
         "name": "",
         "offsetgroup": "",
         "orientation": "v",
         "showlegend": false,
         "textposition": "auto",
         "type": "bar",
         "x": [
          "1908QQtr 3",
          "1909QQtr 3",
          "1912QQtr 3",
          "1913QQtr 3",
          "1913QQtr 4",
          "1915QQtr 1",
          "1915QQtr 3",
          "1916QQtr 3",
          "1916QQtr 4",
          "1917QQtr 1",
          "1917QQtr 2",
          "1917QQtr 3",
          "1917QQtr 4",
          "1918QQtr 2",
          "1918QQtr 3",
          "1918QQtr 4",
          "1919QQtr 2",
          "1919QQtr 3",
          "1919QQtr 4",
          "1920QQtr 1",
          "1920QQtr 2",
          "1920QQtr 3",
          "1920QQtr 4",
          "1921QQtr 1",
          "1921QQtr 2",
          "1921QQtr 3",
          "1921QQtr 4",
          "1922QQtr 1",
          "1922QQtr 2",
          "1922QQtr 3",
          "1922QQtr 4",
          "1923QQtr 1",
          "1923QQtr 2",
          "1923QQtr 3",
          "1923QQtr 4",
          "1924QQtr 1",
          "1924QQtr 2",
          "1924QQtr 3",
          "1924QQtr 4",
          "1925QQtr 1",
          "1925QQtr 2",
          "1925QQtr 3",
          "1925QQtr 4",
          "1926QQtr 1",
          "1926QQtr 2",
          "1926QQtr 3",
          "1926QQtr 4",
          "1927QQtr 1",
          "1927QQtr 2",
          "1927QQtr 3",
          "1927QQtr 4",
          "1928QQtr 1",
          "1928QQtr 2",
          "1928QQtr 3",
          "1928QQtr 4",
          "1929QQtr 1",
          "1929QQtr 2",
          "1929QQtr 3",
          "1929QQtr 4",
          "1930QQtr 1",
          "1930QQtr 2",
          "1930QQtr 3",
          "1930QQtr 4",
          "1931QQtr 1",
          "1931QQtr 2",
          "1931QQtr 3",
          "1931QQtr 4",
          "1932QQtr 1",
          "1932QQtr 2",
          "1932QQtr 3",
          "1932QQtr 4",
          "1933QQtr 1",
          "1933QQtr 2",
          "1933QQtr 3",
          "1933QQtr 4",
          "1934QQtr 1",
          "1934QQtr 2",
          "1934QQtr 3",
          "1934QQtr 4",
          "1935QQtr 1",
          "1935QQtr 2",
          "1935QQtr 3",
          "1935QQtr 4",
          "1936QQtr 1",
          "1936QQtr 2",
          "1936QQtr 3",
          "1936QQtr 4",
          "1937QQtr 1",
          "1937QQtr 2",
          "1937QQtr 3",
          "1937QQtr 4",
          "1938QQtr 1",
          "1938QQtr 2",
          "1938QQtr 3",
          "1938QQtr 4",
          "1939QQtr 1",
          "1939QQtr 2",
          "1939QQtr 3",
          "1939QQtr 4",
          "1940QQtr 1",
          "1940QQtr 2",
          "1940QQtr 3",
          "1940QQtr 4",
          "1941QQtr 1",
          "1941QQtr 2",
          "1941QQtr 3",
          "1941QQtr 4",
          "1942QQtr 1",
          "1942QQtr 2",
          "1942QQtr 3",
          "1942QQtr 4",
          "1943QQtr 1",
          "1943QQtr 2",
          "1943QQtr 3",
          "1943QQtr 4",
          "1944QQtr 1",
          "1944QQtr 2",
          "1944QQtr 3",
          "1944QQtr 4",
          "1945QQtr 1",
          "1945QQtr 2",
          "1945QQtr 3",
          "1945QQtr 4",
          "1946QQtr 1",
          "1946QQtr 2",
          "1946QQtr 3",
          "1946QQtr 4",
          "1947QQtr 1",
          "1947QQtr 2",
          "1947QQtr 3",
          "1947QQtr 4",
          "1948QQtr 1",
          "1948QQtr 2",
          "1948QQtr 3",
          "1948QQtr 4",
          "1949QQtr 1",
          "1949QQtr 2",
          "1949QQtr 3",
          "1949QQtr 4",
          "1950QQtr 1",
          "1950QQtr 2",
          "1950QQtr 3",
          "1950QQtr 4",
          "1951QQtr 1",
          "1951QQtr 2",
          "1951QQtr 3",
          "1951QQtr 4",
          "1952QQtr 1",
          "1952QQtr 2",
          "1952QQtr 3",
          "1952QQtr 4",
          "1953QQtr 1",
          "1953QQtr 2",
          "1953QQtr 3",
          "1953QQtr 4",
          "1954QQtr 1",
          "1954QQtr 2",
          "1954QQtr 3",
          "1954QQtr 4",
          "1955QQtr 1",
          "1955QQtr 2",
          "1955QQtr 3",
          "1955QQtr 4",
          "1956QQtr 1",
          "1956QQtr 2",
          "1956QQtr 3",
          "1956QQtr 4",
          "1957QQtr 1",
          "1957QQtr 2",
          "1957QQtr 3",
          "1957QQtr 4",
          "1958QQtr 1",
          "1958QQtr 2",
          "1958QQtr 3",
          "1958QQtr 4",
          "1959QQtr 1",
          "1959QQtr 2",
          "1959QQtr 3",
          "1959QQtr 4",
          "1960QQtr 1",
          "1960QQtr 2",
          "1960QQtr 3",
          "1960QQtr 4",
          "1961QQtr 1",
          "1961QQtr 2",
          "1961QQtr 3",
          "1961QQtr 4",
          "1962QQtr 1",
          "1962QQtr 2",
          "1962QQtr 3",
          "1962QQtr 4",
          "1963QQtr 1",
          "1963QQtr 2",
          "1963QQtr 3",
          "1963QQtr 4",
          "1964QQtr 1",
          "1964QQtr 2",
          "1964QQtr 3",
          "1964QQtr 4",
          "1965QQtr 1",
          "1965QQtr 2",
          "1965QQtr 3",
          "1965QQtr 4",
          "1966QQtr 1",
          "1966QQtr 2",
          "1966QQtr 3",
          "1966QQtr 4",
          "1967QQtr 1",
          "1967QQtr 2",
          "1967QQtr 3",
          "1967QQtr 4",
          "1968QQtr 1",
          "1968QQtr 2",
          "1968QQtr 3",
          "1968QQtr 4",
          "1969QQtr 1",
          "1969QQtr 2",
          "1969QQtr 3",
          "1969QQtr 4",
          "1970QQtr 1",
          "1970QQtr 2",
          "1970QQtr 3",
          "1970QQtr 4",
          "1971QQtr 1",
          "1971QQtr 2",
          "1971QQtr 3",
          "1971QQtr 4",
          "1972QQtr 1",
          "1972QQtr 2",
          "1972QQtr 3",
          "1972QQtr 4",
          "1973QQtr 1",
          "1973QQtr 2",
          "1973QQtr 3",
          "1973QQtr 4",
          "1974QQtr 1",
          "1974QQtr 2",
          "1974QQtr 3",
          "1974QQtr 4",
          "1975QQtr 1",
          "1975QQtr 2",
          "1975QQtr 3",
          "1975QQtr 4",
          "1976QQtr 1",
          "1976QQtr 2",
          "1976QQtr 3",
          "1976QQtr 4",
          "1977QQtr 1",
          "1977QQtr 2",
          "1977QQtr 3",
          "1977QQtr 4",
          "1978QQtr 1",
          "1978QQtr 2",
          "1978QQtr 3",
          "1978QQtr 4",
          "1979QQtr 1",
          "1979QQtr 2",
          "1979QQtr 3",
          "1979QQtr 4",
          "1980QQtr 1",
          "1980QQtr 2",
          "1980QQtr 3",
          "1980QQtr 4",
          "1981QQtr 1",
          "1981QQtr 2",
          "1981QQtr 3",
          "1981QQtr 4",
          "1982QQtr 1",
          "1982QQtr 2",
          "1982QQtr 3",
          "1982QQtr 4",
          "1983QQtr 1",
          "1983QQtr 2",
          "1983QQtr 3",
          "1983QQtr 4",
          "1984QQtr 1",
          "1984QQtr 2",
          "1984QQtr 3",
          "1984QQtr 4",
          "1985QQtr 1",
          "1985QQtr 2",
          "1985QQtr 3",
          "1985QQtr 4",
          "1986QQtr 1",
          "1986QQtr 2",
          "1986QQtr 3",
          "1986QQtr 4",
          "1987QQtr 1",
          "1987QQtr 2",
          "1987QQtr 3",
          "1987QQtr 4",
          "1988QQtr 1",
          "1988QQtr 2",
          "1988QQtr 3",
          "1988QQtr 4",
          "1989QQtr 1",
          "1989QQtr 2",
          "1989QQtr 3",
          "1989QQtr 4",
          "1990QQtr 1",
          "1990QQtr 2",
          "1990QQtr 3",
          "1990QQtr 4",
          "1991QQtr 1",
          "1991QQtr 2",
          "1991QQtr 3",
          "1991QQtr 4",
          "1992QQtr 1",
          "1992QQtr 2",
          "1992QQtr 3",
          "1992QQtr 4",
          "1993QQtr 1",
          "1993QQtr 2",
          "1993QQtr 3",
          "1993QQtr 4",
          "1994QQtr 1",
          "1994QQtr 2",
          "1994QQtr 3",
          "1994QQtr 4",
          "1995QQtr 1",
          "1995QQtr 2",
          "1995QQtr 3",
          "1995QQtr 4",
          "1996QQtr 1",
          "1996QQtr 2",
          "1996QQtr 3",
          "1996QQtr 4",
          "1997QQtr 1",
          "1997QQtr 2",
          "1997QQtr 3",
          "1997QQtr 4",
          "1998QQtr 1",
          "1998QQtr 2",
          "1998QQtr 3",
          "1998QQtr 4",
          "1999QQtr 1",
          "1999QQtr 2",
          "1999QQtr 3",
          "1999QQtr 4",
          "2000QQtr 1",
          "2000QQtr 2",
          "2000QQtr 3",
          "2000QQtr 4",
          "2001QQtr 1",
          "2001QQtr 2",
          "2001QQtr 3",
          "2001QQtr 4",
          "2002QQtr 1",
          "2002QQtr 2",
          "2002QQtr 3",
          "2002QQtr 4",
          "2003QQtr 1",
          "2003QQtr 2",
          "2003QQtr 3",
          "2003QQtr 4",
          "2004QQtr 1",
          "2004QQtr 2",
          "2004QQtr 3",
          "2004QQtr 4",
          "2005QQtr 1",
          "2005QQtr 2",
          "2005QQtr 3",
          "2005QQtr 4",
          "2006QQtr 1",
          "2006QQtr 2",
          "2006QQtr 3",
          "2006QQtr 4",
          "2007QQtr 1",
          "2007QQtr 2",
          "2007QQtr 3",
          "2007QQtr 4",
          "2008QQtr 1",
          "2008QQtr 2",
          "2008QQtr 3",
          "2008QQtr 4",
          "2009QQtr 1",
          "2009QQtr 2",
          "2009QQtr 3",
          "2009QQtr 4",
          "2010QQtr 1",
          "2010QQtr 2",
          "2010QQtr 3",
          "2010QQtr 4",
          "2011QQtr 1",
          "2011QQtr 2",
          "2011QQtr 3",
          "2011QQtr 4",
          "2012QQtr 1",
          "2012QQtr 2",
          "2012QQtr 3",
          "2012QQtr 4",
          "2013QQtr 1",
          "2013QQtr 2",
          "2013QQtr 3",
          "2013QQtr 4",
          "2014QQtr 1",
          "2014QQtr 2",
          "2014QQtr 3",
          "2014QQtr 4",
          "2015QQtr 1",
          "2015QQtr 2",
          "2015QQtr 3",
          "2015QQtr 4",
          "2016QQtr 1",
          "2016QQtr 2",
          "2016QQtr 3",
          "2016QQtr 4",
          "2017QQtr 1",
          "2017QQtr 2",
          "2017QQtr 3",
          "2017QQtr 4",
          "2018QQtr 1",
          "2018QQtr 2",
          "2018QQtr 3",
          "2018QQtr 4",
          "2019QQtr 1",
          "2019QQtr 2",
          "2019QQtr 3",
          "2019QQtr 4",
          "2020QQtr 1",
          "2020QQtr 2",
          "2020QQtr 3",
          "2021QQtr 1",
          "2021QQtr 2",
          "2021QQtr 3",
          "2021QQtr 4",
          "2022QQtr 1",
          "2022QQtr 2",
          "2022QQtr 3",
          "2022QQtr 4",
          "2023QQtr 1",
          "2023QQtr 3",
          "2024QQtr 1",
          "2024QQtr 2"
         ],
         "xaxis": "x",
         "y": [
          1,
          1,
          1,
          2,
          1,
          1,
          1,
          2,
          3,
          2,
          3,
          1,
          1,
          1,
          2,
          1,
          1,
          3,
          5,
          2,
          4,
          6,
          6,
          4,
          4,
          3,
          1,
          3,
          3,
          4,
          3,
          4,
          1,
          4,
          4,
          1,
          2,
          1,
          3,
          1,
          3,
          4,
          3,
          2,
          1,
          5,
          5,
          3,
          4,
          6,
          7,
          7,
          7,
          8,
          14,
          7,
          10,
          11,
          11,
          8,
          3,
          6,
          10,
          7,
          7,
          8,
          11,
          11,
          3,
          6,
          8,
          8,
          7,
          3,
          10,
          7,
          7,
          5,
          12,
          7,
          10,
          12,
          13,
          10,
          11,
          14,
          15,
          9,
          4,
          9,
          14,
          14,
          10,
          17,
          15,
          11,
          7,
          7,
          5,
          5,
          4,
          6,
          10,
          9,
          3,
          7,
          8,
          11,
          4,
          10,
          13,
          11,
          8,
          13,
          13,
          6,
          12,
          18,
          20,
          15,
          18,
          12,
          30,
          17,
          13,
          28,
          30,
          27,
          16,
          14,
          25,
          25,
          16,
          16,
          21,
          21,
          9,
          19,
          18,
          13,
          17,
          20,
          21,
          19,
          15,
          18,
          23,
          20,
          16,
          9,
          20,
          19,
          21,
          14,
          16,
          20,
          14,
          14,
          13,
          19,
          10,
          15,
          13,
          15,
          12,
          8,
          18,
          15,
          17,
          14,
          20,
          16,
          20,
          17,
          16,
          20,
          15,
          13,
          18,
          15,
          15,
          23,
          17,
          13,
          10,
          18,
          19,
          17,
          17,
          23,
          22,
          21,
          11,
          20,
          12,
          18,
          13,
          10,
          18,
          19,
          9,
          19,
          17,
          23,
          6,
          16,
          15,
          16,
          21,
          8,
          17,
          17,
          14,
          17,
          17,
          15,
          16,
          25,
          13,
          21,
          17,
          18,
          17,
          13,
          11,
          16,
          18,
          12,
          25,
          19,
          21,
          17,
          13,
          20,
          14,
          17,
          12,
          11,
          18,
          18,
          6,
          15,
          12,
          16,
          13,
          13,
          15,
          15,
          12,
          18,
          18,
          13,
          9,
          11,
          18,
          16,
          9,
          19,
          16,
          15,
          10,
          13,
          7,
          10,
          13,
          14,
          13,
          17,
          15,
          14,
          8,
          8,
          17,
          11,
          12,
          15,
          6,
          16,
          11,
          17,
          12,
          14,
          13,
          14,
          11,
          10,
          16,
          12,
          15,
          9,
          18,
          17,
          13,
          16,
          18,
          14,
          15,
          30,
          24,
          22,
          14,
          13,
          12,
          17,
          15,
          20,
          17,
          11,
          12,
          25,
          19,
          14,
          15,
          13,
          14,
          13,
          18,
          21,
          22,
          10,
          15,
          21,
          15,
          14,
          15,
          15,
          24,
          12,
          11,
          17,
          16,
          15,
          8,
          23,
          13,
          14,
          13,
          19,
          16,
          16,
          15,
          19,
          13,
          16,
          8,
          17,
          17,
          15,
          13,
          15,
          12,
          15,
          13,
          18,
          16,
          7,
          11,
          11,
          17,
          17,
          11,
          10,
          7,
          8,
          9,
          14,
          7,
          10,
          12,
          15,
          6,
          8,
          19,
          15,
          9,
          13,
          12,
          12,
          9,
          5,
          10,
          16,
          9,
          6,
          6,
          18,
          6,
          3,
          10,
          4,
          9,
          6,
          4,
          4,
          11,
          6,
          5,
          9,
          3,
          4,
          2,
          5,
          7,
          8,
          4,
          4,
          7,
          4,
          4,
          2,
          5,
          8,
          5,
          4,
          2,
          4,
          4,
          2,
          3,
          4,
          1,
          3,
          3,
          2,
          3,
          1,
          1,
          1,
          1,
          3,
          1,
          1,
          3,
          2
         ],
         "yaxis": "y"
        }
       ],
       "layout": {
        "barmode": "relative",
        "legend": {
         "tracegroupgap": 0
        },
        "template": {
         "data": {
          "bar": [
           {
            "error_x": {
             "color": "#2a3f5f"
            },
            "error_y": {
             "color": "#2a3f5f"
            },
            "marker": {
             "line": {
              "color": "#E5ECF6",
              "width": 0.5
             },
             "pattern": {
              "fillmode": "overlay",
              "size": 10,
              "solidity": 0.2
             }
            },
            "type": "bar"
           }
          ],
          "barpolar": [
           {
            "marker": {
             "line": {
              "color": "#E5ECF6",
              "width": 0.5
             },
             "pattern": {
              "fillmode": "overlay",
              "size": 10,
              "solidity": 0.2
             }
            },
            "type": "barpolar"
           }
          ],
          "carpet": [
           {
            "aaxis": {
             "endlinecolor": "#2a3f5f",
             "gridcolor": "white",
             "linecolor": "white",
             "minorgridcolor": "white",
             "startlinecolor": "#2a3f5f"
            },
            "baxis": {
             "endlinecolor": "#2a3f5f",
             "gridcolor": "white",
             "linecolor": "white",
             "minorgridcolor": "white",
             "startlinecolor": "#2a3f5f"
            },
            "type": "carpet"
           }
          ],
          "choropleth": [
           {
            "colorbar": {
             "outlinewidth": 0,
             "ticks": ""
            },
            "type": "choropleth"
           }
          ],
          "contour": [
           {
            "colorbar": {
             "outlinewidth": 0,
             "ticks": ""
            },
            "colorscale": [
             [
              0,
              "#0d0887"
             ],
             [
              0.1111111111111111,
              "#46039f"
             ],
             [
              0.2222222222222222,
              "#7201a8"
             ],
             [
              0.3333333333333333,
              "#9c179e"
             ],
             [
              0.4444444444444444,
              "#bd3786"
             ],
             [
              0.5555555555555556,
              "#d8576b"
             ],
             [
              0.6666666666666666,
              "#ed7953"
             ],
             [
              0.7777777777777778,
              "#fb9f3a"
             ],
             [
              0.8888888888888888,
              "#fdca26"
             ],
             [
              1,
              "#f0f921"
             ]
            ],
            "type": "contour"
           }
          ],
          "contourcarpet": [
           {
            "colorbar": {
             "outlinewidth": 0,
             "ticks": ""
            },
            "type": "contourcarpet"
           }
          ],
          "heatmap": [
           {
            "colorbar": {
             "outlinewidth": 0,
             "ticks": ""
            },
            "colorscale": [
             [
              0,
              "#0d0887"
             ],
             [
              0.1111111111111111,
              "#46039f"
             ],
             [
              0.2222222222222222,
              "#7201a8"
             ],
             [
              0.3333333333333333,
              "#9c179e"
             ],
             [
              0.4444444444444444,
              "#bd3786"
             ],
             [
              0.5555555555555556,
              "#d8576b"
             ],
             [
              0.6666666666666666,
              "#ed7953"
             ],
             [
              0.7777777777777778,
              "#fb9f3a"
             ],
             [
              0.8888888888888888,
              "#fdca26"
             ],
             [
              1,
              "#f0f921"
             ]
            ],
            "type": "heatmap"
           }
          ],
          "heatmapgl": [
           {
            "colorbar": {
             "outlinewidth": 0,
             "ticks": ""
            },
            "colorscale": [
             [
              0,
              "#0d0887"
             ],
             [
              0.1111111111111111,
              "#46039f"
             ],
             [
              0.2222222222222222,
              "#7201a8"
             ],
             [
              0.3333333333333333,
              "#9c179e"
             ],
             [
              0.4444444444444444,
              "#bd3786"
             ],
             [
              0.5555555555555556,
              "#d8576b"
             ],
             [
              0.6666666666666666,
              "#ed7953"
             ],
             [
              0.7777777777777778,
              "#fb9f3a"
             ],
             [
              0.8888888888888888,
              "#fdca26"
             ],
             [
              1,
              "#f0f921"
             ]
            ],
            "type": "heatmapgl"
           }
          ],
          "histogram": [
           {
            "marker": {
             "pattern": {
              "fillmode": "overlay",
              "size": 10,
              "solidity": 0.2
             }
            },
            "type": "histogram"
           }
          ],
          "histogram2d": [
           {
            "colorbar": {
             "outlinewidth": 0,
             "ticks": ""
            },
            "colorscale": [
             [
              0,
              "#0d0887"
             ],
             [
              0.1111111111111111,
              "#46039f"
             ],
             [
              0.2222222222222222,
              "#7201a8"
             ],
             [
              0.3333333333333333,
              "#9c179e"
             ],
             [
              0.4444444444444444,
              "#bd3786"
             ],
             [
              0.5555555555555556,
              "#d8576b"
             ],
             [
              0.6666666666666666,
              "#ed7953"
             ],
             [
              0.7777777777777778,
              "#fb9f3a"
             ],
             [
              0.8888888888888888,
              "#fdca26"
             ],
             [
              1,
              "#f0f921"
             ]
            ],
            "type": "histogram2d"
           }
          ],
          "histogram2dcontour": [
           {
            "colorbar": {
             "outlinewidth": 0,
             "ticks": ""
            },
            "colorscale": [
             [
              0,
              "#0d0887"
             ],
             [
              0.1111111111111111,
              "#46039f"
             ],
             [
              0.2222222222222222,
              "#7201a8"
             ],
             [
              0.3333333333333333,
              "#9c179e"
             ],
             [
              0.4444444444444444,
              "#bd3786"
             ],
             [
              0.5555555555555556,
              "#d8576b"
             ],
             [
              0.6666666666666666,
              "#ed7953"
             ],
             [
              0.7777777777777778,
              "#fb9f3a"
             ],
             [
              0.8888888888888888,
              "#fdca26"
             ],
             [
              1,
              "#f0f921"
             ]
            ],
            "type": "histogram2dcontour"
           }
          ],
          "mesh3d": [
           {
            "colorbar": {
             "outlinewidth": 0,
             "ticks": ""
            },
            "type": "mesh3d"
           }
          ],
          "parcoords": [
           {
            "line": {
             "colorbar": {
              "outlinewidth": 0,
              "ticks": ""
             }
            },
            "type": "parcoords"
           }
          ],
          "pie": [
           {
            "automargin": true,
            "type": "pie"
           }
          ],
          "scatter": [
           {
            "fillpattern": {
             "fillmode": "overlay",
             "size": 10,
             "solidity": 0.2
            },
            "type": "scatter"
           }
          ],
          "scatter3d": [
           {
            "line": {
             "colorbar": {
              "outlinewidth": 0,
              "ticks": ""
             }
            },
            "marker": {
             "colorbar": {
              "outlinewidth": 0,
              "ticks": ""
             }
            },
            "type": "scatter3d"
           }
          ],
          "scattercarpet": [
           {
            "marker": {
             "colorbar": {
              "outlinewidth": 0,
              "ticks": ""
             }
            },
            "type": "scattercarpet"
           }
          ],
          "scattergeo": [
           {
            "marker": {
             "colorbar": {
              "outlinewidth": 0,
              "ticks": ""
             }
            },
            "type": "scattergeo"
           }
          ],
          "scattergl": [
           {
            "marker": {
             "colorbar": {
              "outlinewidth": 0,
              "ticks": ""
             }
            },
            "type": "scattergl"
           }
          ],
          "scattermapbox": [
           {
            "marker": {
             "colorbar": {
              "outlinewidth": 0,
              "ticks": ""
             }
            },
            "type": "scattermapbox"
           }
          ],
          "scatterpolar": [
           {
            "marker": {
             "colorbar": {
              "outlinewidth": 0,
              "ticks": ""
             }
            },
            "type": "scatterpolar"
           }
          ],
          "scatterpolargl": [
           {
            "marker": {
             "colorbar": {
              "outlinewidth": 0,
              "ticks": ""
             }
            },
            "type": "scatterpolargl"
           }
          ],
          "scatterternary": [
           {
            "marker": {
             "colorbar": {
              "outlinewidth": 0,
              "ticks": ""
             }
            },
            "type": "scatterternary"
           }
          ],
          "surface": [
           {
            "colorbar": {
             "outlinewidth": 0,
             "ticks": ""
            },
            "colorscale": [
             [
              0,
              "#0d0887"
             ],
             [
              0.1111111111111111,
              "#46039f"
             ],
             [
              0.2222222222222222,
              "#7201a8"
             ],
             [
              0.3333333333333333,
              "#9c179e"
             ],
             [
              0.4444444444444444,
              "#bd3786"
             ],
             [
              0.5555555555555556,
              "#d8576b"
             ],
             [
              0.6666666666666666,
              "#ed7953"
             ],
             [
              0.7777777777777778,
              "#fb9f3a"
             ],
             [
              0.8888888888888888,
              "#fdca26"
             ],
             [
              1,
              "#f0f921"
             ]
            ],
            "type": "surface"
           }
          ],
          "table": [
           {
            "cells": {
             "fill": {
              "color": "#EBF0F8"
             },
             "line": {
              "color": "white"
             }
            },
            "header": {
             "fill": {
              "color": "#C8D4E3"
             },
             "line": {
              "color": "white"
             }
            },
            "type": "table"
           }
          ]
         },
         "layout": {
          "annotationdefaults": {
           "arrowcolor": "#2a3f5f",
           "arrowhead": 0,
           "arrowwidth": 1
          },
          "autotypenumbers": "strict",
          "coloraxis": {
           "colorbar": {
            "outlinewidth": 0,
            "ticks": ""
           }
          },
          "colorscale": {
           "diverging": [
            [
             0,
             "#8e0152"
            ],
            [
             0.1,
             "#c51b7d"
            ],
            [
             0.2,
             "#de77ae"
            ],
            [
             0.3,
             "#f1b6da"
            ],
            [
             0.4,
             "#fde0ef"
            ],
            [
             0.5,
             "#f7f7f7"
            ],
            [
             0.6,
             "#e6f5d0"
            ],
            [
             0.7,
             "#b8e186"
            ],
            [
             0.8,
             "#7fbc41"
            ],
            [
             0.9,
             "#4d9221"
            ],
            [
             1,
             "#276419"
            ]
           ],
           "sequential": [
            [
             0,
             "#0d0887"
            ],
            [
             0.1111111111111111,
             "#46039f"
            ],
            [
             0.2222222222222222,
             "#7201a8"
            ],
            [
             0.3333333333333333,
             "#9c179e"
            ],
            [
             0.4444444444444444,
             "#bd3786"
            ],
            [
             0.5555555555555556,
             "#d8576b"
            ],
            [
             0.6666666666666666,
             "#ed7953"
            ],
            [
             0.7777777777777778,
             "#fb9f3a"
            ],
            [
             0.8888888888888888,
             "#fdca26"
            ],
            [
             1,
             "#f0f921"
            ]
           ],
           "sequentialminus": [
            [
             0,
             "#0d0887"
            ],
            [
             0.1111111111111111,
             "#46039f"
            ],
            [
             0.2222222222222222,
             "#7201a8"
            ],
            [
             0.3333333333333333,
             "#9c179e"
            ],
            [
             0.4444444444444444,
             "#bd3786"
            ],
            [
             0.5555555555555556,
             "#d8576b"
            ],
            [
             0.6666666666666666,
             "#ed7953"
            ],
            [
             0.7777777777777778,
             "#fb9f3a"
            ],
            [
             0.8888888888888888,
             "#fdca26"
            ],
            [
             1,
             "#f0f921"
            ]
           ]
          },
          "colorway": [
           "#636efa",
           "#EF553B",
           "#00cc96",
           "#ab63fa",
           "#FFA15A",
           "#19d3f3",
           "#FF6692",
           "#B6E880",
           "#FF97FF",
           "#FECB52"
          ],
          "font": {
           "color": "#2a3f5f"
          },
          "geo": {
           "bgcolor": "white",
           "lakecolor": "white",
           "landcolor": "#E5ECF6",
           "showlakes": true,
           "showland": true,
           "subunitcolor": "white"
          },
          "hoverlabel": {
           "align": "left"
          },
          "hovermode": "closest",
          "mapbox": {
           "style": "light"
          },
          "paper_bgcolor": "white",
          "plot_bgcolor": "#E5ECF6",
          "polar": {
           "angularaxis": {
            "gridcolor": "white",
            "linecolor": "white",
            "ticks": ""
           },
           "bgcolor": "#E5ECF6",
           "radialaxis": {
            "gridcolor": "white",
            "linecolor": "white",
            "ticks": ""
           }
          },
          "scene": {
           "xaxis": {
            "backgroundcolor": "#E5ECF6",
            "gridcolor": "white",
            "gridwidth": 2,
            "linecolor": "white",
            "showbackground": true,
            "ticks": "",
            "zerolinecolor": "white"
           },
           "yaxis": {
            "backgroundcolor": "#E5ECF6",
            "gridcolor": "white",
            "gridwidth": 2,
            "linecolor": "white",
            "showbackground": true,
            "ticks": "",
            "zerolinecolor": "white"
           },
           "zaxis": {
            "backgroundcolor": "#E5ECF6",
            "gridcolor": "white",
            "gridwidth": 2,
            "linecolor": "white",
            "showbackground": true,
            "ticks": "",
            "zerolinecolor": "white"
           }
          },
          "shapedefaults": {
           "line": {
            "color": "#2a3f5f"
           }
          },
          "ternary": {
           "aaxis": {
            "gridcolor": "white",
            "linecolor": "white",
            "ticks": ""
           },
           "baxis": {
            "gridcolor": "white",
            "linecolor": "white",
            "ticks": ""
           },
           "bgcolor": "#E5ECF6",
           "caxis": {
            "gridcolor": "white",
            "linecolor": "white",
            "ticks": ""
           }
          },
          "title": {
           "x": 0.05
          },
          "xaxis": {
           "automargin": true,
           "gridcolor": "white",
           "linecolor": "white",
           "ticks": "",
           "title": {
            "standoff": 15
           },
           "zerolinecolor": "white",
           "zerolinewidth": 2
          },
          "yaxis": {
           "automargin": true,
           "gridcolor": "white",
           "linecolor": "white",
           "ticks": "",
           "title": {
            "standoff": 15
           },
           "zerolinecolor": "white",
           "zerolinewidth": 2
          }
         }
        },
        "title": {
         "text": "Air Crashes by Quarter"
        },
        "xaxis": {
         "anchor": "y",
         "domain": [
          0,
          1
         ],
         "tickangle": 45,
         "title": {
          "text": "Quarter"
         }
        },
        "yaxis": {
         "anchor": "x",
         "domain": [
          0,
          1
         ],
         "title": {
          "text": "Number of Crashes"
         }
        }
       }
      }
     },
     "metadata": {},
     "output_type": "display_data"
    }
   ],
   "source": [
    "# Load the dataset\n",
    "data = pd.read_csv(\"aircrahesFullDataUpdated_2024.csv\")\n",
    "\n",
    "# Extract the Year and Quarter columns\n",
    "data['Quarter'] = data['Year'].astype(str) + 'Q' + data['Quarter']\n",
    "\n",
    "# Group the data by Quarter and count the number of crashes per Quarter\n",
    "crashes_per_quarter = data.groupby('Quarter').size().reset_index(name='CrashCount')\n",
    "\n",
    "# Create an interactive bar chart using Plotly Express\n",
    "fig = px.bar(crashes_per_quarter, x='Quarter', y='CrashCount',\n",
    "             title='Air Crashes by Quarter',\n",
    "             labels={'Quarter': 'Quarter', 'CrashCount': 'Number of Crashes'})\n",
    "fig.update_xaxes(tickangle=45)"
   ]
  },
  {
   "cell_type": "code",
   "execution_count": 37,
   "metadata": {},
   "outputs": [],
   "source": [
    "import geopandas as gpd\n",
    "from mpl_toolkits.axes_grid1 import make_axes_locatable\n",
    "\n"
   ]
  },
  {
   "cell_type": "code",
   "execution_count": 38,
   "metadata": {},
   "outputs": [
    {
     "name": "stdout",
     "output_type": "stream",
     "text": [
      "Average Fatalities per Crash: 22.22\n"
     ]
    }
   ],
   "source": [
    "# Load the dataset\n",
    "data = pd.read_csv(\"aircrahesFullDataUpdated_2024.csv\")\n",
    "\n",
    "# Calculate the average number of fatalities per crash\n",
    "average_fatalities_per_crash = data[\"Fatalities (air)\"].mean()\n",
    "\n",
    "print(f\"Average Fatalities per Crash: {average_fatalities_per_crash:.2f}\")"
   ]
  },
  {
   "cell_type": "markdown",
   "metadata": {},
   "source": [
    "FINDINGS 3\n",
    ". Average Fatalities per crash resulted into 22.22"
   ]
  },
  {
   "cell_type": "code",
   "execution_count": 39,
   "metadata": {},
   "outputs": [
    {
     "name": "stdout",
     "output_type": "stream",
     "text": [
      "Total Fatalities Over the Years: 111872\n"
     ]
    }
   ],
   "source": [
    "# Load the dataset\n",
    "data = pd.read_csv(\"aircrahesFullDataUpdated_2024.csv\")\n",
    "\n",
    "# Calculate the total number of fatalities over the years\n",
    "total_fatalities_over_years = data['Fatalities (air)'].sum()\n",
    "\n",
    "print(f\"Total Fatalities Over the Years: {total_fatalities_over_years}\")\n"
   ]
  },
  {
   "cell_type": "markdown",
   "metadata": {},
   "source": [
    "FINDINGS 4\n",
    ".TOtal Fatalities over the year = 111872 Fatalities."
   ]
  },
  {
   "cell_type": "code",
   "execution_count": 40,
   "metadata": {},
   "outputs": [
    {
     "data": {
      "application/vnd.plotly.v1+json": {
       "config": {
        "plotlyServerURL": "https://plot.ly"
       },
       "data": [
        {
         "alignmentgroup": "True",
         "hovertemplate": "Month=%{x}<br>Number of Crashes=%{y}<extra></extra>",
         "legendgroup": "",
         "marker": {
          "color": "#636efa",
          "pattern": {
           "shape": ""
          }
         },
         "name": "",
         "offsetgroup": "",
         "orientation": "v",
         "showlegend": false,
         "textposition": "auto",
         "type": "bar",
         "x": [
          "April",
          "August",
          "December",
          "February",
          "January",
          "July",
          "June",
          "March",
          "May",
          "November",
          "October",
          "September"
         ],
         "xaxis": "x",
         "y": [
          350,
          452,
          497,
          362,
          467,
          428,
          367,
          427,
          361,
          443,
          428,
          453
         ],
         "yaxis": "y"
        }
       ],
       "layout": {
        "barmode": "relative",
        "legend": {
         "tracegroupgap": 0
        },
        "template": {
         "data": {
          "bar": [
           {
            "error_x": {
             "color": "#2a3f5f"
            },
            "error_y": {
             "color": "#2a3f5f"
            },
            "marker": {
             "line": {
              "color": "#E5ECF6",
              "width": 0.5
             },
             "pattern": {
              "fillmode": "overlay",
              "size": 10,
              "solidity": 0.2
             }
            },
            "type": "bar"
           }
          ],
          "barpolar": [
           {
            "marker": {
             "line": {
              "color": "#E5ECF6",
              "width": 0.5
             },
             "pattern": {
              "fillmode": "overlay",
              "size": 10,
              "solidity": 0.2
             }
            },
            "type": "barpolar"
           }
          ],
          "carpet": [
           {
            "aaxis": {
             "endlinecolor": "#2a3f5f",
             "gridcolor": "white",
             "linecolor": "white",
             "minorgridcolor": "white",
             "startlinecolor": "#2a3f5f"
            },
            "baxis": {
             "endlinecolor": "#2a3f5f",
             "gridcolor": "white",
             "linecolor": "white",
             "minorgridcolor": "white",
             "startlinecolor": "#2a3f5f"
            },
            "type": "carpet"
           }
          ],
          "choropleth": [
           {
            "colorbar": {
             "outlinewidth": 0,
             "ticks": ""
            },
            "type": "choropleth"
           }
          ],
          "contour": [
           {
            "colorbar": {
             "outlinewidth": 0,
             "ticks": ""
            },
            "colorscale": [
             [
              0,
              "#0d0887"
             ],
             [
              0.1111111111111111,
              "#46039f"
             ],
             [
              0.2222222222222222,
              "#7201a8"
             ],
             [
              0.3333333333333333,
              "#9c179e"
             ],
             [
              0.4444444444444444,
              "#bd3786"
             ],
             [
              0.5555555555555556,
              "#d8576b"
             ],
             [
              0.6666666666666666,
              "#ed7953"
             ],
             [
              0.7777777777777778,
              "#fb9f3a"
             ],
             [
              0.8888888888888888,
              "#fdca26"
             ],
             [
              1,
              "#f0f921"
             ]
            ],
            "type": "contour"
           }
          ],
          "contourcarpet": [
           {
            "colorbar": {
             "outlinewidth": 0,
             "ticks": ""
            },
            "type": "contourcarpet"
           }
          ],
          "heatmap": [
           {
            "colorbar": {
             "outlinewidth": 0,
             "ticks": ""
            },
            "colorscale": [
             [
              0,
              "#0d0887"
             ],
             [
              0.1111111111111111,
              "#46039f"
             ],
             [
              0.2222222222222222,
              "#7201a8"
             ],
             [
              0.3333333333333333,
              "#9c179e"
             ],
             [
              0.4444444444444444,
              "#bd3786"
             ],
             [
              0.5555555555555556,
              "#d8576b"
             ],
             [
              0.6666666666666666,
              "#ed7953"
             ],
             [
              0.7777777777777778,
              "#fb9f3a"
             ],
             [
              0.8888888888888888,
              "#fdca26"
             ],
             [
              1,
              "#f0f921"
             ]
            ],
            "type": "heatmap"
           }
          ],
          "heatmapgl": [
           {
            "colorbar": {
             "outlinewidth": 0,
             "ticks": ""
            },
            "colorscale": [
             [
              0,
              "#0d0887"
             ],
             [
              0.1111111111111111,
              "#46039f"
             ],
             [
              0.2222222222222222,
              "#7201a8"
             ],
             [
              0.3333333333333333,
              "#9c179e"
             ],
             [
              0.4444444444444444,
              "#bd3786"
             ],
             [
              0.5555555555555556,
              "#d8576b"
             ],
             [
              0.6666666666666666,
              "#ed7953"
             ],
             [
              0.7777777777777778,
              "#fb9f3a"
             ],
             [
              0.8888888888888888,
              "#fdca26"
             ],
             [
              1,
              "#f0f921"
             ]
            ],
            "type": "heatmapgl"
           }
          ],
          "histogram": [
           {
            "marker": {
             "pattern": {
              "fillmode": "overlay",
              "size": 10,
              "solidity": 0.2
             }
            },
            "type": "histogram"
           }
          ],
          "histogram2d": [
           {
            "colorbar": {
             "outlinewidth": 0,
             "ticks": ""
            },
            "colorscale": [
             [
              0,
              "#0d0887"
             ],
             [
              0.1111111111111111,
              "#46039f"
             ],
             [
              0.2222222222222222,
              "#7201a8"
             ],
             [
              0.3333333333333333,
              "#9c179e"
             ],
             [
              0.4444444444444444,
              "#bd3786"
             ],
             [
              0.5555555555555556,
              "#d8576b"
             ],
             [
              0.6666666666666666,
              "#ed7953"
             ],
             [
              0.7777777777777778,
              "#fb9f3a"
             ],
             [
              0.8888888888888888,
              "#fdca26"
             ],
             [
              1,
              "#f0f921"
             ]
            ],
            "type": "histogram2d"
           }
          ],
          "histogram2dcontour": [
           {
            "colorbar": {
             "outlinewidth": 0,
             "ticks": ""
            },
            "colorscale": [
             [
              0,
              "#0d0887"
             ],
             [
              0.1111111111111111,
              "#46039f"
             ],
             [
              0.2222222222222222,
              "#7201a8"
             ],
             [
              0.3333333333333333,
              "#9c179e"
             ],
             [
              0.4444444444444444,
              "#bd3786"
             ],
             [
              0.5555555555555556,
              "#d8576b"
             ],
             [
              0.6666666666666666,
              "#ed7953"
             ],
             [
              0.7777777777777778,
              "#fb9f3a"
             ],
             [
              0.8888888888888888,
              "#fdca26"
             ],
             [
              1,
              "#f0f921"
             ]
            ],
            "type": "histogram2dcontour"
           }
          ],
          "mesh3d": [
           {
            "colorbar": {
             "outlinewidth": 0,
             "ticks": ""
            },
            "type": "mesh3d"
           }
          ],
          "parcoords": [
           {
            "line": {
             "colorbar": {
              "outlinewidth": 0,
              "ticks": ""
             }
            },
            "type": "parcoords"
           }
          ],
          "pie": [
           {
            "automargin": true,
            "type": "pie"
           }
          ],
          "scatter": [
           {
            "fillpattern": {
             "fillmode": "overlay",
             "size": 10,
             "solidity": 0.2
            },
            "type": "scatter"
           }
          ],
          "scatter3d": [
           {
            "line": {
             "colorbar": {
              "outlinewidth": 0,
              "ticks": ""
             }
            },
            "marker": {
             "colorbar": {
              "outlinewidth": 0,
              "ticks": ""
             }
            },
            "type": "scatter3d"
           }
          ],
          "scattercarpet": [
           {
            "marker": {
             "colorbar": {
              "outlinewidth": 0,
              "ticks": ""
             }
            },
            "type": "scattercarpet"
           }
          ],
          "scattergeo": [
           {
            "marker": {
             "colorbar": {
              "outlinewidth": 0,
              "ticks": ""
             }
            },
            "type": "scattergeo"
           }
          ],
          "scattergl": [
           {
            "marker": {
             "colorbar": {
              "outlinewidth": 0,
              "ticks": ""
             }
            },
            "type": "scattergl"
           }
          ],
          "scattermapbox": [
           {
            "marker": {
             "colorbar": {
              "outlinewidth": 0,
              "ticks": ""
             }
            },
            "type": "scattermapbox"
           }
          ],
          "scatterpolar": [
           {
            "marker": {
             "colorbar": {
              "outlinewidth": 0,
              "ticks": ""
             }
            },
            "type": "scatterpolar"
           }
          ],
          "scatterpolargl": [
           {
            "marker": {
             "colorbar": {
              "outlinewidth": 0,
              "ticks": ""
             }
            },
            "type": "scatterpolargl"
           }
          ],
          "scatterternary": [
           {
            "marker": {
             "colorbar": {
              "outlinewidth": 0,
              "ticks": ""
             }
            },
            "type": "scatterternary"
           }
          ],
          "surface": [
           {
            "colorbar": {
             "outlinewidth": 0,
             "ticks": ""
            },
            "colorscale": [
             [
              0,
              "#0d0887"
             ],
             [
              0.1111111111111111,
              "#46039f"
             ],
             [
              0.2222222222222222,
              "#7201a8"
             ],
             [
              0.3333333333333333,
              "#9c179e"
             ],
             [
              0.4444444444444444,
              "#bd3786"
             ],
             [
              0.5555555555555556,
              "#d8576b"
             ],
             [
              0.6666666666666666,
              "#ed7953"
             ],
             [
              0.7777777777777778,
              "#fb9f3a"
             ],
             [
              0.8888888888888888,
              "#fdca26"
             ],
             [
              1,
              "#f0f921"
             ]
            ],
            "type": "surface"
           }
          ],
          "table": [
           {
            "cells": {
             "fill": {
              "color": "#EBF0F8"
             },
             "line": {
              "color": "white"
             }
            },
            "header": {
             "fill": {
              "color": "#C8D4E3"
             },
             "line": {
              "color": "white"
             }
            },
            "type": "table"
           }
          ]
         },
         "layout": {
          "annotationdefaults": {
           "arrowcolor": "#2a3f5f",
           "arrowhead": 0,
           "arrowwidth": 1
          },
          "autotypenumbers": "strict",
          "coloraxis": {
           "colorbar": {
            "outlinewidth": 0,
            "ticks": ""
           }
          },
          "colorscale": {
           "diverging": [
            [
             0,
             "#8e0152"
            ],
            [
             0.1,
             "#c51b7d"
            ],
            [
             0.2,
             "#de77ae"
            ],
            [
             0.3,
             "#f1b6da"
            ],
            [
             0.4,
             "#fde0ef"
            ],
            [
             0.5,
             "#f7f7f7"
            ],
            [
             0.6,
             "#e6f5d0"
            ],
            [
             0.7,
             "#b8e186"
            ],
            [
             0.8,
             "#7fbc41"
            ],
            [
             0.9,
             "#4d9221"
            ],
            [
             1,
             "#276419"
            ]
           ],
           "sequential": [
            [
             0,
             "#0d0887"
            ],
            [
             0.1111111111111111,
             "#46039f"
            ],
            [
             0.2222222222222222,
             "#7201a8"
            ],
            [
             0.3333333333333333,
             "#9c179e"
            ],
            [
             0.4444444444444444,
             "#bd3786"
            ],
            [
             0.5555555555555556,
             "#d8576b"
            ],
            [
             0.6666666666666666,
             "#ed7953"
            ],
            [
             0.7777777777777778,
             "#fb9f3a"
            ],
            [
             0.8888888888888888,
             "#fdca26"
            ],
            [
             1,
             "#f0f921"
            ]
           ],
           "sequentialminus": [
            [
             0,
             "#0d0887"
            ],
            [
             0.1111111111111111,
             "#46039f"
            ],
            [
             0.2222222222222222,
             "#7201a8"
            ],
            [
             0.3333333333333333,
             "#9c179e"
            ],
            [
             0.4444444444444444,
             "#bd3786"
            ],
            [
             0.5555555555555556,
             "#d8576b"
            ],
            [
             0.6666666666666666,
             "#ed7953"
            ],
            [
             0.7777777777777778,
             "#fb9f3a"
            ],
            [
             0.8888888888888888,
             "#fdca26"
            ],
            [
             1,
             "#f0f921"
            ]
           ]
          },
          "colorway": [
           "#636efa",
           "#EF553B",
           "#00cc96",
           "#ab63fa",
           "#FFA15A",
           "#19d3f3",
           "#FF6692",
           "#B6E880",
           "#FF97FF",
           "#FECB52"
          ],
          "font": {
           "color": "#2a3f5f"
          },
          "geo": {
           "bgcolor": "white",
           "lakecolor": "white",
           "landcolor": "#E5ECF6",
           "showlakes": true,
           "showland": true,
           "subunitcolor": "white"
          },
          "hoverlabel": {
           "align": "left"
          },
          "hovermode": "closest",
          "mapbox": {
           "style": "light"
          },
          "paper_bgcolor": "white",
          "plot_bgcolor": "#E5ECF6",
          "polar": {
           "angularaxis": {
            "gridcolor": "white",
            "linecolor": "white",
            "ticks": ""
           },
           "bgcolor": "#E5ECF6",
           "radialaxis": {
            "gridcolor": "white",
            "linecolor": "white",
            "ticks": ""
           }
          },
          "scene": {
           "xaxis": {
            "backgroundcolor": "#E5ECF6",
            "gridcolor": "white",
            "gridwidth": 2,
            "linecolor": "white",
            "showbackground": true,
            "ticks": "",
            "zerolinecolor": "white"
           },
           "yaxis": {
            "backgroundcolor": "#E5ECF6",
            "gridcolor": "white",
            "gridwidth": 2,
            "linecolor": "white",
            "showbackground": true,
            "ticks": "",
            "zerolinecolor": "white"
           },
           "zaxis": {
            "backgroundcolor": "#E5ECF6",
            "gridcolor": "white",
            "gridwidth": 2,
            "linecolor": "white",
            "showbackground": true,
            "ticks": "",
            "zerolinecolor": "white"
           }
          },
          "shapedefaults": {
           "line": {
            "color": "#2a3f5f"
           }
          },
          "ternary": {
           "aaxis": {
            "gridcolor": "white",
            "linecolor": "white",
            "ticks": ""
           },
           "baxis": {
            "gridcolor": "white",
            "linecolor": "white",
            "ticks": ""
           },
           "bgcolor": "#E5ECF6",
           "caxis": {
            "gridcolor": "white",
            "linecolor": "white",
            "ticks": ""
           }
          },
          "title": {
           "x": 0.05
          },
          "xaxis": {
           "automargin": true,
           "gridcolor": "white",
           "linecolor": "white",
           "ticks": "",
           "title": {
            "standoff": 15
           },
           "zerolinecolor": "white",
           "zerolinewidth": 2
          },
          "yaxis": {
           "automargin": true,
           "gridcolor": "white",
           "linecolor": "white",
           "ticks": "",
           "title": {
            "standoff": 15
           },
           "zerolinecolor": "white",
           "zerolinewidth": 2
          }
         }
        },
        "title": {
         "text": "Air Crashes by Month"
        },
        "xaxis": {
         "anchor": "y",
         "domain": [
          0,
          1
         ],
         "tickangle": 45,
         "title": {
          "text": "Month"
         }
        },
        "yaxis": {
         "anchor": "x",
         "domain": [
          0,
          1
         ],
         "title": {
          "text": "Number of Crashes"
         }
        }
       }
      }
     },
     "metadata": {},
     "output_type": "display_data"
    }
   ],
   "source": [
    "data = pd.read_csv(\"aircrahesFullDataUpdated_2024.csv\")\n",
    "\n",
    "\n",
    "\n",
    "crashes_per_month = data.groupby('Month').size().reset_index(name='Count')\n",
    "\n",
    "fig = px.bar(crashes_per_month, x='Month', y='Count',\n",
    "             title='Air Crashes by Month',\n",
    "             labels={'Month': 'Month', 'Count': 'Number of Crashes'})\n",
    "fig.update_xaxes(tickangle=45)\n",
    "\n",
    "\n",
    "\n",
    "\n"
   ]
  },
  {
   "cell_type": "markdown",
   "metadata": {},
   "source": [
    "FINDINGS 5\n",
    ".December months have more number of crashes with nearly 500 crashes.\n",
    ".January months have the second highest month with crashes nearly 500.\n",
    ".March, July, August, September, October, November have more than 400+ crashes.\n",
    ".February, April, May, June have more than 300+ crashes."
   ]
  },
  {
   "cell_type": "code",
   "execution_count": 45,
   "metadata": {},
   "outputs": [
    {
     "data": {
      "application/vnd.plotly.v1+json": {
       "config": {
        "plotlyServerURL": "https://plot.ly"
       },
       "data": [
        {
         "alignmentgroup": "True",
         "hovertemplate": "Country=%{x}<br>Number of Crashes=%{y}<extra></extra>",
         "legendgroup": "",
         "marker": {
          "color": "#636efa",
          "pattern": {
           "shape": ""
          }
         },
         "name": "",
         "offsetgroup": "",
         "orientation": "v",
         "showlegend": false,
         "textposition": "auto",
         "type": "bar",
         "x": [
          " Alaska",
          " Japan",
          " Myanmar",
          " NWT Canada",
          " Somalia",
          "'-",
          "10",
          "100",
          "110",
          "116",
          "18",
          "325",
          "570",
          "800",
          "AKAlaska",
          "Aaland",
          "Aargau",
          "Afghanistan",
          "Afghanstan",
          "Africa",
          "Aichi",
          "Air",
          "Airlines",
          "Airzona",
          "Alabama",
          "Alaksa",
          "Alakska",
          "Alaska",
          "Albania",
          "Alberta",
          "Algarve",
          "Algeria",
          "American",
          "Amsterdam",
          "Angola",
          "Aregntina",
          "Argentina",
          "Argentinade",
          "Argyll",
          "Arizona",
          "Ariège",
          "Arkansas",
          "Armenia",
          "Atlantic",
          "Australia",
          "Australila",
          "Austria",
          "Ayrshire",
          "Azerbaijan",
          "Azerbaijan\r\n\t\r\nBakou",
          "Azores",
          "Azuay",
          "BC",
          "Baangladesh",
          "Bahamas",
          "Bahrain",
          "Bali",
          "Bangladesh",
          "Barbados",
          "Bavaria",
          "Belarus",
          "Belgian",
          "Belgium",
          "Beni",
          "Benin",
          "Bermuda",
          "Besar",
          "Bhutan",
          "Biafra",
          "Bias",
          "Black",
          "Boliva",
          "Bolivia",
          "Boliviano",
          "Bosnia-Herzegovina",
          "Boston",
          "Botswana",
          "Brazil",
          "Brazil\tAmazonaves",
          "Brazil\tLoide",
          "Brazil\r\nFlorianopolis",
          "Brisbane",
          "British",
          "Brunei",
          "Buckinghamshire",
          "Buea",
          "Bugaria",
          "Bulgaria",
          "Bulgeria",
          "Burma",
          "CADuncan",
          "CAMilitary",
          "Cailifornia",
          "Calabria",
          "California",
          "California?",
          "Californiia",
          "Calilfornia",
          "Cambodia",
          "Cameroon",
          "Cameroons",
          "Canada",
          "Canary",
          "Cape",
          "Cardiff",
          "Cargo",
          "Catalina",
          "Central",
          "Chad",
          "Channel",
          "Chechnya",
          "Cheshire",
          "Chicago",
          "Chile",
          "Chile\tAerolineas",
          "China",
          "China?",
          "Cocos",
          "Coloado",
          "Colombia",
          "Colorado",
          "Columbia",
          "Comoro",
          "Comoros",
          "Condor",
          "Congo",
          "Connecticut",
          "Cook",
          "Corsica",
          "Costa",
          "Covington",
          "Covington/Hebron",
          "Crete",
          "Croatia",
          "Cuba",
          "Cundinamarca",
          "Curacao",
          "Cyprus",
          "Czech",
          "Czechoslovakia",
          "D.C.Air",
          "D.C.Capital",
          "DR",
          "Da",
          "Delaware",
          "Deleware",
          "Democratic",
          "Democtratic",
          "Denmark",
          "Djbouti",
          "Djibouti",
          "Djibouti\r\n\tDjibouti",
          "Domincan",
          "Dominican",
          "Dorset",
          "Dutch",
          "East",
          "Ecuador",
          "Egypt",
          "El",
          "Ellesmere",
          "England",
          "England?",
          "Equatorial",
          "Eritrea",
          "Estonia",
          "Ethiopia",
          "FL",
          "Faeroe",
          "Fiji",
          "Finland",
          "Florida",
          "Florida?",
          "France",
          "France?",
          "French",
          "Gabon",
          "Gambia",
          "Georgia",
          "Germany",
          "Germany?",
          "Gerona",
          "Ghana",
          "Gilbert",
          "Glens",
          "Granada",
          "Great",
          "Greece",
          "Greenland",
          "Guadaloupe",
          "Guadeloupe",
          "Guam",
          "Guanacaste",
          "Guangxi",
          "Guantanamo",
          "Guatemala",
          "Guernsey",
          "Guinea",
          "Gujarat",
          "Gulf",
          "Guyana",
          "HIAir",
          "HIPan",
          "Haiti",
          "Hants",
          "Hati",
          "Hawaii",
          "Honduras",
          "Honduras?",
          "Hong",
          "Horley",
          "Hrvatska",
          "Huanuco",
          "Huila",
          "Hunary",
          "Hungary",
          "Iceland",
          "Idaho",
          "Ilinois",
          "Illinois",
          "India",
          "India\tPawan",
          "Indian",
          "Indiana",
          "Indonesia",
          "Indonesia\r\n\t\r\nSarmi",
          "Inner",
          "Inodnesia",
          "Iowa",
          "Iran",
          "Iraq",
          "Ireland",
          "Irian",
          "Island",
          "Islay",
          "Isle",
          "Italy",
          "Italyde",
          "Ivory",
          "Jamacia",
          "Jamaica",
          "Japan",
          "Jawa",
          "Jeddah",
          "Jersey",
          "Jiangsu",
          "Jordan",
          "Kansas",
          "Kauai",
          "Kazakastan",
          "Kazakhstan",
          "Kent",
          "Kentucky",
          "Kenya",
          "Khmer",
          "Kirghizia",
          "Kodiak",
          "Kosovo",
          "Kuwait",
          "Kyrgyzstan",
          "Labrador",
          "Lancs",
          "Laos",
          "Latvia",
          "Lebanon",
          "Leeward",
          "Lesotho",
          "Liberia",
          "Libya",
          "Lochgoilhead",
          "Loire",
          "Lombardia",
          "Lombok",
          "London",
          "Lorraine",
          "Los",
          "Louisiana",
          "Luxembourg",
          "Macedonia",
          "Madagascar",
          "Madrid",
          "Maharashtra",
          "Maine",
          "Malagasy",
          "Malawi",
          "Malaya",
          "Malaysia",
          "Mali",
          "Malinau",
          "Malta",
          "Manatoba",
          "Manitoba",
          "Manmar",
          "Margarita",
          "Mariana",
          "Marine",
          "Marshall",
          "Martinique",
          "Maryland",
          "Massachusetts",
          "Massachutes",
          "Mauretania",
          "Mauritania",
          "Mexic",
          "Mexico",
          "Miami",
          "Miao-li",
          "Michigan",
          "Micronesia",
          "Middlesex",
          "Minnesota",
          "Minnesota46826/109",
          "Minnisota",
          "Mississipi",
          "Mississippi",
          "Missouri",
          "Moldavia",
          "Moldova",
          "Molokai",
          "Mongolia",
          "Montana",
          "Montserrat",
          "Morocco",
          "Morroco",
          "Mount",
          "Mozambique",
          "Mt.",
          "Myanmar",
          "N",
          "NE",
          "NSW",
          "NWT",
          "NYUS",
          "Nambia",
          "Namibia",
          "Napal",
          "Nebraska",
          "Nepal",
          "Netherlands",
          "Nevada",
          "New",
          "Newfoundland",
          "Newfoundlandu.s.",
          "Nicaragua",
          "Niger",
          "Nigeria",
          "Norfork",
          "Norrbotten",
          "North",
          "Northern",
          "Northwest",
          "Norway",
          "Norway\tCHC",
          "Nova",
          "Nuevo",
          "Nunavut",
          "OLD",
          "ON",
          "Ohio",
          "Okinawa",
          "Oklahoma",
          "Oltenia",
          "Oman",
          "Ontario",
          "Oregon",
          "Orly",
          "PE",
          "PQ",
          "Pacific",
          "Pakistan",
          "Panama",
          "Papua",
          "Para",
          "Paraguay",
          "Pennsylvania",
          "Persian",
          "Peru",
          "Philipines",
          "Philippine",
          "Philippines",
          "Phillipines",
          "Picrdie",
          "Placentia",
          "Poland",
          "Portugal",
          "Prov.",
          "Providencia",
          "Puerto",
          "QC",
          "Qatar",
          "Qld",
          "Qld.",
          "Quebec",
          "Queens",
          "Queensland",
          "Republic",
          "Reunion",
          "Rhode",
          "Rhodesia",
          "Rio",
          "Romania",
          "Ross",
          "Russia",
          "Russian",
          "Rwanda",
          "Ryukyu",
          "SC",
          "SK",
          "Saint",
          "Samoa",
          "San",
          "Sao",
          "Sarawak",
          "Sardinia",
          "Saskatchewan",
          "Saudi",
          "Saudia",
          "Scotland",
          "Senegal",
          "Shetlands",
          "Siberia",
          "Sichuan",
          "Sicily",
          "Sierra",
          "Sierre",
          "Singapore",
          "Slovakia",
          "Slovenia",
          "Solomon",
          "Somalia",
          "South",
          "South-West",
          "Soviet",
          "Spain",
          "Spain\r\n\t\r\nMoron",
          "Sri",
          "St.",
          "Stirlingshire",
          "Sudan",
          "Suiyang",
          "Sulu",
          "Sumatra",
          "Surinam",
          "Suriname",
          "Surrey",
          "Sussex",
          "Sweden",
          "Switzerland",
          "Syria",
          "Tahiti",
          "Taiwan",
          "Tajikistan",
          "Tajikistan\tMilitary",
          "Tanganyika",
          "Tanzania",
          "Tasmania",
          "Tennesee",
          "Tennessee",
          "Terceira",
          "Texas",
          "Thailand",
          "The",
          "Timor",
          "Tokyo",
          "Trento",
          "Trinidad",
          "Tunisia",
          "Turkey",
          "Turkmenistan",
          "Tusayan",
          "U.S.",
          "UAEGulf",
          "UARMisrair",
          "UKBritish",
          "US",
          "USSRAerflot",
          "USSRAeroflot",
          "USSRBalkan",
          "USSRMilitary",
          "Uganda",
          "Ukraine",
          "United",
          "Upper",
          "Uruguay",
          "Utah",
          "Uzbekistan",
          "Uzbekstan",
          "Val-de-Marne",
          "Valle",
          "Vanuatu",
          "Venezuela",
          "Vera",
          "Veracruz",
          "Vermont",
          "Victoria",
          "Vietnam",
          "Virgin",
          "Virginia",
          "Virginia.American",
          "Vizcaya",
          "Volcano",
          "Västergötland",
          "WA",
          "WYUS",
          "Wantagh",
          "Warks",
          "Washingon",
          "Washington",
          "West",
          "Western",
          "Wisconsin",
          "Wisconson",
          "Wyoming",
          "Yemen",
          "Yugosalvia",
          "Yugoslavia",
          "Yukon",
          "Yunan",
          "Zabul",
          "Zaire",
          "Zambia",
          "Zimbabwe",
          "Zulia",
          "de",
          "miles",
          "near",
          "off"
         ],
         "xaxis": "x",
         "y": [
          1,
          1,
          1,
          1,
          1,
          4,
          2,
          1,
          1,
          1,
          1,
          1,
          1,
          1,
          1,
          1,
          1,
          39,
          1,
          1,
          1,
          2,
          1,
          1,
          6,
          2,
          1,
          101,
          1,
          7,
          1,
          20,
          2,
          2,
          40,
          1,
          40,
          1,
          1,
          14,
          1,
          6,
          4,
          2,
          47,
          1,
          4,
          1,
          11,
          1,
          7,
          1,
          11,
          1,
          5,
          2,
          1,
          3,
          2,
          1,
          1,
          3,
          16,
          1,
          1,
          1,
          1,
          1,
          1,
          1,
          1,
          1,
          44,
          1,
          1,
          1,
          1,
          162,
          1,
          1,
          1,
          1,
          21,
          1,
          1,
          1,
          1,
          12,
          1,
          14,
          1,
          1,
          1,
          1,
          112,
          1,
          1,
          1,
          4,
          12,
          1,
          27,
          7,
          2,
          1,
          1,
          1,
          3,
          2,
          2,
          2,
          1,
          1,
          22,
          1,
          82,
          2,
          1,
          1,
          146,
          29,
          2,
          2,
          3,
          1,
          25,
          12,
          1,
          3,
          11,
          1,
          2,
          2,
          3,
          14,
          1,
          1,
          4,
          3,
          14,
          1,
          1,
          2,
          1,
          2,
          1,
          17,
          1,
          9,
          1,
          1,
          1,
          1,
          5,
          1,
          1,
          8,
          31,
          39,
          2,
          1,
          77,
          1,
          4,
          1,
          4,
          18,
          1,
          1,
          4,
          4,
          33,
          1,
          111,
          1,
          12,
          4,
          5,
          31,
          76,
          1,
          1,
          3,
          1,
          1,
          1,
          1,
          27,
          7,
          1,
          2,
          3,
          1,
          2,
          1,
          15,
          1,
          2,
          1,
          2,
          4,
          1,
          1,
          3,
          1,
          1,
          18,
          15,
          1,
          8,
          1,
          1,
          1,
          1,
          1,
          7,
          4,
          7,
          1,
          33,
          96,
          1,
          3,
          19,
          88,
          1,
          1,
          1,
          10,
          43,
          13,
          14,
          1,
          1,
          1,
          1,
          76,
          1,
          5,
          1,
          1,
          36,
          1,
          1,
          2,
          2,
          7,
          8,
          1,
          1,
          10,
          5,
          8,
          19,
          1,
          1,
          1,
          1,
          2,
          3,
          1,
          1,
          21,
          1,
          8,
          1,
          1,
          4,
          15,
          1,
          1,
          1,
          1,
          2,
          1,
          2,
          12,
          2,
          4,
          7,
          1,
          4,
          5,
          1,
          1,
          1,
          10,
          5,
          1,
          6,
          1,
          4,
          1,
          1,
          1,
          1,
          1,
          2,
          19,
          15,
          1,
          1,
          7,
          1,
          78,
          1,
          1,
          14,
          1,
          1,
          9,
          1,
          2,
          1,
          4,
          25,
          1,
          1,
          2,
          6,
          13,
          1,
          25,
          1,
          1,
          5,
          1,
          12,
          1,
          1,
          2,
          1,
          1,
          1,
          1,
          1,
          5,
          35,
          15,
          17,
          142,
          20,
          1,
          11,
          3,
          34,
          1,
          1,
          32,
          3,
          6,
          25,
          1,
          3,
          1,
          1,
          1,
          2,
          44,
          4,
          4,
          1,
          1,
          17,
          10,
          1,
          1,
          3,
          1,
          33,
          12,
          26,
          1,
          5,
          32,
          1,
          51,
          1,
          1,
          69,
          1,
          1,
          1,
          14,
          6,
          1,
          1,
          17,
          1,
          2,
          2,
          1,
          16,
          2,
          7,
          2,
          1,
          2,
          2,
          3,
          23,
          1,
          249,
          1,
          3,
          1,
          1,
          1,
          1,
          1,
          1,
          1,
          1,
          1,
          4,
          15,
          1,
          16,
          7,
          2,
          3,
          1,
          2,
          2,
          1,
          1,
          2,
          2,
          2,
          9,
          92,
          1,
          1,
          53,
          1,
          14,
          1,
          1,
          30,
          1,
          1,
          1,
          1,
          4,
          4,
          1,
          10,
          17,
          10,
          1,
          33,
          2,
          1,
          1,
          6,
          1,
          4,
          12,
          1,
          47,
          19,
          4,
          2,
          1,
          1,
          2,
          2,
          30,
          4,
          1,
          2,
          1,
          1,
          1,
          1,
          1,
          33,
          1,
          3,
          4,
          27,
          15,
          1,
          5,
          17,
          8,
          1,
          1,
          1,
          3,
          51,
          1,
          2,
          3,
          2,
          23,
          6,
          18,
          1,
          1,
          1,
          1,
          1,
          1,
          1,
          1,
          1,
          32,
          24,
          1,
          6,
          2,
          20,
          7,
          1,
          11,
          1,
          1,
          1,
          11,
          4,
          3,
          1,
          1,
          2,
          21,
          5
         ],
         "yaxis": "y"
        }
       ],
       "layout": {
        "barmode": "relative",
        "legend": {
         "tracegroupgap": 0
        },
        "template": {
         "data": {
          "bar": [
           {
            "error_x": {
             "color": "#2a3f5f"
            },
            "error_y": {
             "color": "#2a3f5f"
            },
            "marker": {
             "line": {
              "color": "#E5ECF6",
              "width": 0.5
             },
             "pattern": {
              "fillmode": "overlay",
              "size": 10,
              "solidity": 0.2
             }
            },
            "type": "bar"
           }
          ],
          "barpolar": [
           {
            "marker": {
             "line": {
              "color": "#E5ECF6",
              "width": 0.5
             },
             "pattern": {
              "fillmode": "overlay",
              "size": 10,
              "solidity": 0.2
             }
            },
            "type": "barpolar"
           }
          ],
          "carpet": [
           {
            "aaxis": {
             "endlinecolor": "#2a3f5f",
             "gridcolor": "white",
             "linecolor": "white",
             "minorgridcolor": "white",
             "startlinecolor": "#2a3f5f"
            },
            "baxis": {
             "endlinecolor": "#2a3f5f",
             "gridcolor": "white",
             "linecolor": "white",
             "minorgridcolor": "white",
             "startlinecolor": "#2a3f5f"
            },
            "type": "carpet"
           }
          ],
          "choropleth": [
           {
            "colorbar": {
             "outlinewidth": 0,
             "ticks": ""
            },
            "type": "choropleth"
           }
          ],
          "contour": [
           {
            "colorbar": {
             "outlinewidth": 0,
             "ticks": ""
            },
            "colorscale": [
             [
              0,
              "#0d0887"
             ],
             [
              0.1111111111111111,
              "#46039f"
             ],
             [
              0.2222222222222222,
              "#7201a8"
             ],
             [
              0.3333333333333333,
              "#9c179e"
             ],
             [
              0.4444444444444444,
              "#bd3786"
             ],
             [
              0.5555555555555556,
              "#d8576b"
             ],
             [
              0.6666666666666666,
              "#ed7953"
             ],
             [
              0.7777777777777778,
              "#fb9f3a"
             ],
             [
              0.8888888888888888,
              "#fdca26"
             ],
             [
              1,
              "#f0f921"
             ]
            ],
            "type": "contour"
           }
          ],
          "contourcarpet": [
           {
            "colorbar": {
             "outlinewidth": 0,
             "ticks": ""
            },
            "type": "contourcarpet"
           }
          ],
          "heatmap": [
           {
            "colorbar": {
             "outlinewidth": 0,
             "ticks": ""
            },
            "colorscale": [
             [
              0,
              "#0d0887"
             ],
             [
              0.1111111111111111,
              "#46039f"
             ],
             [
              0.2222222222222222,
              "#7201a8"
             ],
             [
              0.3333333333333333,
              "#9c179e"
             ],
             [
              0.4444444444444444,
              "#bd3786"
             ],
             [
              0.5555555555555556,
              "#d8576b"
             ],
             [
              0.6666666666666666,
              "#ed7953"
             ],
             [
              0.7777777777777778,
              "#fb9f3a"
             ],
             [
              0.8888888888888888,
              "#fdca26"
             ],
             [
              1,
              "#f0f921"
             ]
            ],
            "type": "heatmap"
           }
          ],
          "heatmapgl": [
           {
            "colorbar": {
             "outlinewidth": 0,
             "ticks": ""
            },
            "colorscale": [
             [
              0,
              "#0d0887"
             ],
             [
              0.1111111111111111,
              "#46039f"
             ],
             [
              0.2222222222222222,
              "#7201a8"
             ],
             [
              0.3333333333333333,
              "#9c179e"
             ],
             [
              0.4444444444444444,
              "#bd3786"
             ],
             [
              0.5555555555555556,
              "#d8576b"
             ],
             [
              0.6666666666666666,
              "#ed7953"
             ],
             [
              0.7777777777777778,
              "#fb9f3a"
             ],
             [
              0.8888888888888888,
              "#fdca26"
             ],
             [
              1,
              "#f0f921"
             ]
            ],
            "type": "heatmapgl"
           }
          ],
          "histogram": [
           {
            "marker": {
             "pattern": {
              "fillmode": "overlay",
              "size": 10,
              "solidity": 0.2
             }
            },
            "type": "histogram"
           }
          ],
          "histogram2d": [
           {
            "colorbar": {
             "outlinewidth": 0,
             "ticks": ""
            },
            "colorscale": [
             [
              0,
              "#0d0887"
             ],
             [
              0.1111111111111111,
              "#46039f"
             ],
             [
              0.2222222222222222,
              "#7201a8"
             ],
             [
              0.3333333333333333,
              "#9c179e"
             ],
             [
              0.4444444444444444,
              "#bd3786"
             ],
             [
              0.5555555555555556,
              "#d8576b"
             ],
             [
              0.6666666666666666,
              "#ed7953"
             ],
             [
              0.7777777777777778,
              "#fb9f3a"
             ],
             [
              0.8888888888888888,
              "#fdca26"
             ],
             [
              1,
              "#f0f921"
             ]
            ],
            "type": "histogram2d"
           }
          ],
          "histogram2dcontour": [
           {
            "colorbar": {
             "outlinewidth": 0,
             "ticks": ""
            },
            "colorscale": [
             [
              0,
              "#0d0887"
             ],
             [
              0.1111111111111111,
              "#46039f"
             ],
             [
              0.2222222222222222,
              "#7201a8"
             ],
             [
              0.3333333333333333,
              "#9c179e"
             ],
             [
              0.4444444444444444,
              "#bd3786"
             ],
             [
              0.5555555555555556,
              "#d8576b"
             ],
             [
              0.6666666666666666,
              "#ed7953"
             ],
             [
              0.7777777777777778,
              "#fb9f3a"
             ],
             [
              0.8888888888888888,
              "#fdca26"
             ],
             [
              1,
              "#f0f921"
             ]
            ],
            "type": "histogram2dcontour"
           }
          ],
          "mesh3d": [
           {
            "colorbar": {
             "outlinewidth": 0,
             "ticks": ""
            },
            "type": "mesh3d"
           }
          ],
          "parcoords": [
           {
            "line": {
             "colorbar": {
              "outlinewidth": 0,
              "ticks": ""
             }
            },
            "type": "parcoords"
           }
          ],
          "pie": [
           {
            "automargin": true,
            "type": "pie"
           }
          ],
          "scatter": [
           {
            "fillpattern": {
             "fillmode": "overlay",
             "size": 10,
             "solidity": 0.2
            },
            "type": "scatter"
           }
          ],
          "scatter3d": [
           {
            "line": {
             "colorbar": {
              "outlinewidth": 0,
              "ticks": ""
             }
            },
            "marker": {
             "colorbar": {
              "outlinewidth": 0,
              "ticks": ""
             }
            },
            "type": "scatter3d"
           }
          ],
          "scattercarpet": [
           {
            "marker": {
             "colorbar": {
              "outlinewidth": 0,
              "ticks": ""
             }
            },
            "type": "scattercarpet"
           }
          ],
          "scattergeo": [
           {
            "marker": {
             "colorbar": {
              "outlinewidth": 0,
              "ticks": ""
             }
            },
            "type": "scattergeo"
           }
          ],
          "scattergl": [
           {
            "marker": {
             "colorbar": {
              "outlinewidth": 0,
              "ticks": ""
             }
            },
            "type": "scattergl"
           }
          ],
          "scattermapbox": [
           {
            "marker": {
             "colorbar": {
              "outlinewidth": 0,
              "ticks": ""
             }
            },
            "type": "scattermapbox"
           }
          ],
          "scatterpolar": [
           {
            "marker": {
             "colorbar": {
              "outlinewidth": 0,
              "ticks": ""
             }
            },
            "type": "scatterpolar"
           }
          ],
          "scatterpolargl": [
           {
            "marker": {
             "colorbar": {
              "outlinewidth": 0,
              "ticks": ""
             }
            },
            "type": "scatterpolargl"
           }
          ],
          "scatterternary": [
           {
            "marker": {
             "colorbar": {
              "outlinewidth": 0,
              "ticks": ""
             }
            },
            "type": "scatterternary"
           }
          ],
          "surface": [
           {
            "colorbar": {
             "outlinewidth": 0,
             "ticks": ""
            },
            "colorscale": [
             [
              0,
              "#0d0887"
             ],
             [
              0.1111111111111111,
              "#46039f"
             ],
             [
              0.2222222222222222,
              "#7201a8"
             ],
             [
              0.3333333333333333,
              "#9c179e"
             ],
             [
              0.4444444444444444,
              "#bd3786"
             ],
             [
              0.5555555555555556,
              "#d8576b"
             ],
             [
              0.6666666666666666,
              "#ed7953"
             ],
             [
              0.7777777777777778,
              "#fb9f3a"
             ],
             [
              0.8888888888888888,
              "#fdca26"
             ],
             [
              1,
              "#f0f921"
             ]
            ],
            "type": "surface"
           }
          ],
          "table": [
           {
            "cells": {
             "fill": {
              "color": "#EBF0F8"
             },
             "line": {
              "color": "white"
             }
            },
            "header": {
             "fill": {
              "color": "#C8D4E3"
             },
             "line": {
              "color": "white"
             }
            },
            "type": "table"
           }
          ]
         },
         "layout": {
          "annotationdefaults": {
           "arrowcolor": "#2a3f5f",
           "arrowhead": 0,
           "arrowwidth": 1
          },
          "autotypenumbers": "strict",
          "coloraxis": {
           "colorbar": {
            "outlinewidth": 0,
            "ticks": ""
           }
          },
          "colorscale": {
           "diverging": [
            [
             0,
             "#8e0152"
            ],
            [
             0.1,
             "#c51b7d"
            ],
            [
             0.2,
             "#de77ae"
            ],
            [
             0.3,
             "#f1b6da"
            ],
            [
             0.4,
             "#fde0ef"
            ],
            [
             0.5,
             "#f7f7f7"
            ],
            [
             0.6,
             "#e6f5d0"
            ],
            [
             0.7,
             "#b8e186"
            ],
            [
             0.8,
             "#7fbc41"
            ],
            [
             0.9,
             "#4d9221"
            ],
            [
             1,
             "#276419"
            ]
           ],
           "sequential": [
            [
             0,
             "#0d0887"
            ],
            [
             0.1111111111111111,
             "#46039f"
            ],
            [
             0.2222222222222222,
             "#7201a8"
            ],
            [
             0.3333333333333333,
             "#9c179e"
            ],
            [
             0.4444444444444444,
             "#bd3786"
            ],
            [
             0.5555555555555556,
             "#d8576b"
            ],
            [
             0.6666666666666666,
             "#ed7953"
            ],
            [
             0.7777777777777778,
             "#fb9f3a"
            ],
            [
             0.8888888888888888,
             "#fdca26"
            ],
            [
             1,
             "#f0f921"
            ]
           ],
           "sequentialminus": [
            [
             0,
             "#0d0887"
            ],
            [
             0.1111111111111111,
             "#46039f"
            ],
            [
             0.2222222222222222,
             "#7201a8"
            ],
            [
             0.3333333333333333,
             "#9c179e"
            ],
            [
             0.4444444444444444,
             "#bd3786"
            ],
            [
             0.5555555555555556,
             "#d8576b"
            ],
            [
             0.6666666666666666,
             "#ed7953"
            ],
            [
             0.7777777777777778,
             "#fb9f3a"
            ],
            [
             0.8888888888888888,
             "#fdca26"
            ],
            [
             1,
             "#f0f921"
            ]
           ]
          },
          "colorway": [
           "#636efa",
           "#EF553B",
           "#00cc96",
           "#ab63fa",
           "#FFA15A",
           "#19d3f3",
           "#FF6692",
           "#B6E880",
           "#FF97FF",
           "#FECB52"
          ],
          "font": {
           "color": "#2a3f5f"
          },
          "geo": {
           "bgcolor": "white",
           "lakecolor": "white",
           "landcolor": "#E5ECF6",
           "showlakes": true,
           "showland": true,
           "subunitcolor": "white"
          },
          "hoverlabel": {
           "align": "left"
          },
          "hovermode": "closest",
          "mapbox": {
           "style": "light"
          },
          "paper_bgcolor": "white",
          "plot_bgcolor": "#E5ECF6",
          "polar": {
           "angularaxis": {
            "gridcolor": "white",
            "linecolor": "white",
            "ticks": ""
           },
           "bgcolor": "#E5ECF6",
           "radialaxis": {
            "gridcolor": "white",
            "linecolor": "white",
            "ticks": ""
           }
          },
          "scene": {
           "xaxis": {
            "backgroundcolor": "#E5ECF6",
            "gridcolor": "white",
            "gridwidth": 2,
            "linecolor": "white",
            "showbackground": true,
            "ticks": "",
            "zerolinecolor": "white"
           },
           "yaxis": {
            "backgroundcolor": "#E5ECF6",
            "gridcolor": "white",
            "gridwidth": 2,
            "linecolor": "white",
            "showbackground": true,
            "ticks": "",
            "zerolinecolor": "white"
           },
           "zaxis": {
            "backgroundcolor": "#E5ECF6",
            "gridcolor": "white",
            "gridwidth": 2,
            "linecolor": "white",
            "showbackground": true,
            "ticks": "",
            "zerolinecolor": "white"
           }
          },
          "shapedefaults": {
           "line": {
            "color": "#2a3f5f"
           }
          },
          "ternary": {
           "aaxis": {
            "gridcolor": "white",
            "linecolor": "white",
            "ticks": ""
           },
           "baxis": {
            "gridcolor": "white",
            "linecolor": "white",
            "ticks": ""
           },
           "bgcolor": "#E5ECF6",
           "caxis": {
            "gridcolor": "white",
            "linecolor": "white",
            "ticks": ""
           }
          },
          "title": {
           "x": 0.05
          },
          "xaxis": {
           "automargin": true,
           "gridcolor": "white",
           "linecolor": "white",
           "ticks": "",
           "title": {
            "standoff": 15
           },
           "zerolinecolor": "white",
           "zerolinewidth": 2
          },
          "yaxis": {
           "automargin": true,
           "gridcolor": "white",
           "linecolor": "white",
           "ticks": "",
           "title": {
            "standoff": 15
           },
           "zerolinecolor": "white",
           "zerolinewidth": 2
          }
         }
        },
        "title": {
         "text": "Country with highest number of Fatalities"
        },
        "xaxis": {
         "anchor": "y",
         "domain": [
          0,
          1
         ],
         "tickangle": 110,
         "title": {
          "text": "Country"
         }
        },
        "yaxis": {
         "anchor": "x",
         "domain": [
          0,
          1
         ],
         "title": {
          "text": "Number of Crashes"
         }
        }
       }
      }
     },
     "metadata": {},
     "output_type": "display_data"
    }
   ],
   "source": [
    "data = pd.read_csv(\"aircrahesFullDataUpdated_2024.csv\")\n",
    "\n",
    "\n",
    "\n",
    "crashes_per_country = data.groupby('Country/Region').size().reset_index(name='Count')\n",
    "\n",
    "fig = px.bar(crashes_per_country, x='Country/Region', y='Count',\n",
    "             title='Country with highest number of Fatalities',\n",
    "             labels={'Country/Region': 'Country', 'Count': 'Number of Crashes'})\n",
    "fig.update_xaxes(tickangle=110)\n"
   ]
  },
  {
   "cell_type": "markdown",
   "metadata": {},
   "source": [
    "FINDING-6\n",
    ".Looking at the number of crashes, Russia as almost 250 crashes\n",
    "It is then followed India, that has 200+ Crashes.\n",
    "It is then followed by Brazil, that has 162 crashes.\n",
    "\n"
   ]
  }
 ],
 "metadata": {
  "kernelspec": {
   "display_name": "Python 3",
   "language": "python",
   "name": "python3"
  },
  "language_info": {
   "codemirror_mode": {
    "name": "ipython",
    "version": 3
   },
   "file_extension": ".py",
   "mimetype": "text/x-python",
   "name": "python",
   "nbconvert_exporter": "python",
   "pygments_lexer": "ipython3",
   "version": "3.12.4"
  }
 },
 "nbformat": 4,
 "nbformat_minor": 2
}
